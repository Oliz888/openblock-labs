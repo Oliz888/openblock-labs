{
 "cells": [
  {
   "cell_type": "markdown",
   "id": "e2b2d45c-0f9d-4677-892c-938cbc5e8cc2",
   "metadata": {},
   "source": [
    "# Analysis Notebook "
   ]
  },
  {
   "cell_type": "markdown",
   "id": "a1c46409-06e1-4738-a67d-050b7ee5f106",
   "metadata": {},
   "source": [
    "## setting up env and loading data "
   ]
  },
  {
   "cell_type": "code",
   "execution_count": 2,
   "id": "4c6ba7a9-d5af-4ab3-903f-552c15e13770",
   "metadata": {
    "tags": []
   },
   "outputs": [
    {
     "name": "stdout",
     "output_type": "stream",
     "text": [
      "Collecting package metadata (current_repodata.json): done\n",
      "Solving environment: done\n",
      "\n",
      "\n",
      "==> WARNING: A newer version of conda exists. <==\n",
      "  current version: 23.3.1\n",
      "  latest version: 24.1.2\n",
      "\n",
      "Please update conda by running\n",
      "\n",
      "    $ conda update -n base -c defaults conda\n",
      "\n",
      "Or to minimize the number of packages updated during conda update use\n",
      "\n",
      "     conda install conda=24.1.2\n",
      "\n",
      "\n",
      "\n",
      "## Package Plan ##\n",
      "\n",
      "  environment location: /opt/conda\n",
      "\n",
      "  added / updated specs:\n",
      "    - openjdk\n",
      "\n",
      "\n",
      "The following packages will be downloaded:\n",
      "\n",
      "    package                    |            build\n",
      "    ---------------------------|-----------------\n",
      "    ca-certificates-2023.12.12 |       h06a4308_0         126 KB\n",
      "    certifi-2024.2.2           |  py310h06a4308_0         159 KB\n",
      "    openjdk-11.0.13            |       h87a67e3_0       341.0 MB\n",
      "    ------------------------------------------------------------\n",
      "                                           Total:       341.3 MB\n",
      "\n",
      "The following NEW packages will be INSTALLED:\n",
      "\n",
      "  openjdk            pkgs/main/linux-64::openjdk-11.0.13-h87a67e3_0 \n",
      "\n",
      "The following packages will be UPDATED:\n",
      "\n",
      "  ca-certificates    conda-forge::ca-certificates-2023.11.~ --> pkgs/main::ca-certificates-2023.12.12-h06a4308_0 \n",
      "  certifi            conda-forge/noarch::certifi-2023.11.1~ --> pkgs/main/linux-64::certifi-2024.2.2-py310h06a4308_0 \n",
      "\n",
      "\n",
      "\n",
      "Downloading and Extracting Packages\n",
      "certifi-2024.2.2     | 159 KB    |                                       |   0% \n",
      "openjdk-11.0.13      | 341.0 MB  |                                       |   0% \u001b[A\n",
      "\n",
      "ca-certificates-2023 | 126 KB    |                                       |   0% \u001b[A\u001b[A\n",
      "\n",
      "ca-certificates-2023 | 126 KB    | ##################################### | 100% \u001b[A\u001b[A\n",
      "certifi-2024.2.2     | 159 KB    | ##################################### | 100% \u001b[A\n",
      "openjdk-11.0.13      | 341.0 MB  | #8                                    |   5% \u001b[A\n",
      "openjdk-11.0.13      | 341.0 MB  | ###7                                  |  10% \u001b[A\n",
      "openjdk-11.0.13      | 341.0 MB  | #####7                                |  16% \u001b[A\n",
      "openjdk-11.0.13      | 341.0 MB  | #######8                              |  21% \u001b[A\n",
      "openjdk-11.0.13      | 341.0 MB  | #########8                            |  27% \u001b[A\n",
      "openjdk-11.0.13      | 341.0 MB  | ###########9                          |  32% \u001b[A\n",
      "openjdk-11.0.13      | 341.0 MB  | #############9                        |  38% \u001b[A\n",
      "openjdk-11.0.13      | 341.0 MB  | ################                      |  43% \u001b[A\n",
      "openjdk-11.0.13      | 341.0 MB  | ##################                    |  49% \u001b[A\n",
      "openjdk-11.0.13      | 341.0 MB  | ###################9                  |  54% \u001b[A\n",
      "openjdk-11.0.13      | 341.0 MB  | #####################6                |  59% \u001b[A\n",
      "openjdk-11.0.13      | 341.0 MB  | #######################3              |  63% \u001b[A\n",
      "openjdk-11.0.13      | 341.0 MB  | ########################9             |  68% \u001b[A\n",
      "openjdk-11.0.13      | 341.0 MB  | ##########################5           |  72% \u001b[A\n",
      "openjdk-11.0.13      | 341.0 MB  | ############################          |  76% \u001b[A\n",
      "openjdk-11.0.13      | 341.0 MB  | #############################6        |  80% \u001b[A\n",
      "openjdk-11.0.13      | 341.0 MB  | ###############################1      |  84% \u001b[A\n",
      "openjdk-11.0.13      | 341.0 MB  | ################################5     |  88% \u001b[A\n",
      "openjdk-11.0.13      | 341.0 MB  | ##################################    |  92% \u001b[A\n",
      "openjdk-11.0.13      | 341.0 MB  | ###################################6  |  96% \u001b[A\n",
      "                                                                                \u001b[A\n",
      "                                                                                \u001b[A\n",
      "\n",
      "                                                                                \u001b[A\u001b[A\n",
      "Preparing transaction: done\n",
      "Verifying transaction: done\n",
      "Executing transaction: done\n",
      "\n",
      "Note: you may need to restart the kernel to use updated packages.\n",
      "Collecting pyspark==3.4.0\n",
      "  Downloading pyspark-3.4.0.tar.gz (310.8 MB)\n",
      "\u001b[2K     \u001b[90m━━━━━━━━━━━━━━━━━━━━━━━━━━━━━━━━━━━━━━━\u001b[0m \u001b[32m310.8/310.8 MB\u001b[0m \u001b[31m3.5 MB/s\u001b[0m eta \u001b[36m0:00:00\u001b[0m00:01\u001b[0m00:01\u001b[0m\n",
      "\u001b[?25h  Preparing metadata (setup.py) ... \u001b[?25ldone\n",
      "\u001b[?25hCollecting py4j==0.10.9.7 (from pyspark==3.4.0)\n",
      "  Downloading py4j-0.10.9.7-py2.py3-none-any.whl.metadata (1.5 kB)\n",
      "Downloading py4j-0.10.9.7-py2.py3-none-any.whl (200 kB)\n",
      "\u001b[2K   \u001b[90m━━━━━━━━━━━━━━━━━━━━━━━━━━━━━━━━━━━━━━━━\u001b[0m \u001b[32m200.5/200.5 kB\u001b[0m \u001b[31m2.4 MB/s\u001b[0m eta \u001b[36m0:00:00\u001b[0mta \u001b[36m0:00:01\u001b[0m\n",
      "\u001b[?25hBuilding wheels for collected packages: pyspark\n",
      "  Building wheel for pyspark (setup.py) ... \u001b[?25ldone\n",
      "\u001b[?25h  Created wheel for pyspark: filename=pyspark-3.4.0-py2.py3-none-any.whl size=311317123 sha256=6359c096059301dc9bfe37ca9e06ba98db46b53c6f9d01e3f15b27cc9a5996ab\n",
      "  Stored in directory: /root/.cache/pip/wheels/7b/1b/4b/3363a1d04368e7ff0d408e57ff57966fcdf00583774e761327\n",
      "Successfully built pyspark\n",
      "Installing collected packages: py4j, pyspark\n",
      "Successfully installed py4j-0.10.9.7 pyspark-3.4.0\n",
      "\u001b[33mWARNING: Running pip as the 'root' user can result in broken permissions and conflicting behaviour with the system package manager. It is recommended to use a virtual environment instead: https://pip.pypa.io/warnings/venv\u001b[0m\u001b[33m\n",
      "\u001b[0m\n",
      "\u001b[1m[\u001b[0m\u001b[34;49mnotice\u001b[0m\u001b[1;39;49m]\u001b[0m\u001b[39;49m A new release of pip is available: \u001b[0m\u001b[31;49m23.3.1\u001b[0m\u001b[39;49m -> \u001b[0m\u001b[32;49m24.0\u001b[0m\n",
      "\u001b[1m[\u001b[0m\u001b[34;49mnotice\u001b[0m\u001b[1;39;49m]\u001b[0m\u001b[39;49m To update, run: \u001b[0m\u001b[32;49mpip install --upgrade pip\u001b[0m\n",
      "Note: you may need to restart the kernel to use updated packages.\n",
      "Collecting spark-nlp==5.1.3\n",
      "  Downloading spark_nlp-5.1.3-py2.py3-none-any.whl.metadata (53 kB)\n",
      "\u001b[2K     \u001b[90m━━━━━━━━━━━━━━━━━━━━━━━━━━━━━━━━━━━━━━━\u001b[0m \u001b[32m54.0/54.0 kB\u001b[0m \u001b[31m787.0 kB/s\u001b[0m eta \u001b[36m0:00:00\u001b[0ma \u001b[36m0:00:01\u001b[0m\n",
      "\u001b[?25hDownloading spark_nlp-5.1.3-py2.py3-none-any.whl (537 kB)\n",
      "\u001b[2K   \u001b[90m━━━━━━━━━━━━━━━━━━━━━━━━━━━━━━━━━━━━━━━━\u001b[0m \u001b[32m537.5/537.5 kB\u001b[0m \u001b[31m5.2 MB/s\u001b[0m eta \u001b[36m0:00:00\u001b[0m:00:01\u001b[0m\n",
      "\u001b[?25hInstalling collected packages: spark-nlp\n",
      "Successfully installed spark-nlp-5.1.3\n",
      "\u001b[33mWARNING: Running pip as the 'root' user can result in broken permissions and conflicting behaviour with the system package manager. It is recommended to use a virtual environment instead: https://pip.pypa.io/warnings/venv\u001b[0m\u001b[33m\n",
      "\u001b[0m\n",
      "\u001b[1m[\u001b[0m\u001b[34;49mnotice\u001b[0m\u001b[1;39;49m]\u001b[0m\u001b[39;49m A new release of pip is available: \u001b[0m\u001b[31;49m23.3.1\u001b[0m\u001b[39;49m -> \u001b[0m\u001b[32;49m24.0\u001b[0m\n",
      "\u001b[1m[\u001b[0m\u001b[34;49mnotice\u001b[0m\u001b[1;39;49m]\u001b[0m\u001b[39;49m To update, run: \u001b[0m\u001b[32;49mpip install --upgrade pip\u001b[0m\n",
      "Note: you may need to restart the kernel to use updated packages.\n"
     ]
    },
    {
     "data": {
      "text/html": [
       "<script>Jupyter.notebook.kernel.restart()</script>"
      ],
      "text/plain": [
       "<IPython.core.display.HTML object>"
      ]
     },
     "execution_count": 2,
     "metadata": {},
     "output_type": "execute_result"
    }
   ],
   "source": [
    "# Setup - Run only once per Kernel App\n",
    "%conda install openjdk -y\n",
    "\n",
    "# install PySpark\n",
    "%pip install pyspark==3.4.0\n",
    "\n",
    "# install spark-nlp\n",
    "%pip install spark-nlp==5.1.3\n",
    "\n",
    "# restart kernel\n",
    "from IPython.core.display import HTML\n",
    "HTML(\"<script>Jupyter.notebook.kernel.restart()</script>\")"
   ]
  },
  {
   "cell_type": "code",
   "execution_count": 3,
   "id": "42512e7b-4d67-4e49-8538-862c677cbc27",
   "metadata": {
    "tags": []
   },
   "outputs": [],
   "source": [
    "#https://openblocklabs-interview-datasets.s3.amazonaws.com/market_depth/ekubo_market_depth_dataset.parquet"
   ]
  },
  {
   "cell_type": "code",
   "execution_count": 4,
   "id": "1a16691d-d1a6-4926-9040-132c559c611e",
   "metadata": {
    "tags": []
   },
   "outputs": [
    {
     "name": "stdout",
     "output_type": "stream",
     "text": [
      "download: s3://openblocklabs-interview-datasets/market_depth/ekubo_market_depth_dataset.parquet to ./ekubo_market_depth_dataset.parquet\n"
     ]
    }
   ],
   "source": [
    "!aws s3 cp s3://openblocklabs-interview-datasets/market_depth/ekubo_market_depth_dataset.parquet . --request-payer requester"
   ]
  },
  {
   "cell_type": "code",
   "execution_count": 5,
   "id": "4fa8de64-07e3-456e-84b1-5349b281ae8f",
   "metadata": {
    "tags": []
   },
   "outputs": [
    {
     "name": "stdout",
     "output_type": "stream",
     "text": [
      "sagemaker.config INFO - Not applying SDK defaults from location: /etc/xdg/sagemaker/config.yaml\n",
      "sagemaker.config INFO - Not applying SDK defaults from location: /root/.config/sagemaker/config.yaml\n",
      "sagemaker.config INFO - Not applying SDK defaults from location: /etc/xdg/sagemaker/config.yaml\n",
      "sagemaker.config INFO - Not applying SDK defaults from location: /root/.config/sagemaker/config.yaml\n",
      "copy: s3://openblocklabs-interview-datasets/market_depth/ekubo_market_depth_dataset.parquet to s3://sagemaker-us-east-1-211125710179/openblocks/data/ekubo_market_depth_dataset.parquet\n"
     ]
    },
    {
     "data": {
      "text/plain": [
       "CompletedProcess(args='aws s3 cp s3://openblocklabs-interview-datasets/market_depth/ekubo_market_depth_dataset.parquet s3://sagemaker-us-east-1-211125710179/openblocks/data/ekubo_market_depth_dataset.parquet --request-payer requester', returncode=0)"
      ]
     },
     "execution_count": 5,
     "metadata": {},
     "output_type": "execute_result"
    }
   ],
   "source": [
    "import sagemaker\n",
    "import subprocess\n",
    "\n",
    "# Initialize SageMaker session and get the default bucket\n",
    "sess = sagemaker.Session()\n",
    "bucket = sess.default_bucket()\n",
    "\n",
    "# Define the source S3 path and target S3 path\n",
    "source_s3_path = \"s3://openblocklabs-interview-datasets/market_depth/ekubo_market_depth_dataset.parquet\"\n",
    "target_s3_path = f\"s3://{bucket}/openblocks/data/ekubo_market_depth_dataset.parquet\"\n",
    "\n",
    "# Construct the AWS CLI command for copying\n",
    "aws_cli_command = f\"aws s3 cp {source_s3_path} {target_s3_path} --request-payer requester\"\n",
    "\n",
    "# Execute the command\n",
    "subprocess.run(aws_cli_command, shell=True, check=True)\n"
   ]
  },
  {
   "cell_type": "code",
   "execution_count": 6,
   "id": "f990c3e1-1bba-4b5b-afee-606532d90bba",
   "metadata": {
    "tags": []
   },
   "outputs": [],
   "source": [
    "import json\n",
    "import sparknlp\n",
    "import numpy as np\n",
    "import pandas as pd\n",
    "from sparknlp.base import *\n",
    "from pyspark.ml import Pipeline\n",
    "from sparknlp.annotator import *\n",
    "import pyspark.sql.functions as F\n",
    "from pyspark.sql import SparkSession\n",
    "from sparknlp.pretrained import PretrainedPipeline"
   ]
  },
  {
   "cell_type": "code",
   "execution_count": 7,
   "id": "e2f7c1a0-4015-4abd-aef1-ed1df45dc0fd",
   "metadata": {
    "tags": []
   },
   "outputs": [
    {
     "name": "stderr",
     "output_type": "stream",
     "text": [
      "Warning: Ignoring non-Spark config property: fs.s3a.aws.credentials.provider\n"
     ]
    },
    {
     "name": "stdout",
     "output_type": "stream",
     "text": [
      ":: loading settings :: url = jar:file:/opt/conda/lib/python3.10/site-packages/pyspark/jars/ivy-2.5.1.jar!/org/apache/ivy/core/settings/ivysettings.xml\n"
     ]
    },
    {
     "name": "stderr",
     "output_type": "stream",
     "text": [
      "Ivy Default Cache set to: /root/.ivy2/cache\n",
      "The jars for the packages stored in: /root/.ivy2/jars\n",
      "com.johnsnowlabs.nlp#spark-nlp_2.12 added as a dependency\n",
      "org.apache.hadoop#hadoop-aws added as a dependency\n",
      ":: resolving dependencies :: org.apache.spark#spark-submit-parent-e6534569-c5b5-459b-9ccf-fd8fe0f64659;1.0\n",
      "\tconfs: [default]\n",
      "\tfound com.johnsnowlabs.nlp#spark-nlp_2.12;5.1.3 in central\n",
      "\tfound com.typesafe#config;1.4.2 in central\n",
      "\tfound org.rocksdb#rocksdbjni;6.29.5 in central\n",
      "\tfound com.amazonaws#aws-java-sdk-bundle;1.11.828 in central\n",
      "\tfound com.github.universal-automata#liblevenshtein;3.0.0 in central\n",
      "\tfound com.google.protobuf#protobuf-java-util;3.0.0-beta-3 in central\n",
      "\tfound com.google.protobuf#protobuf-java;3.0.0-beta-3 in central\n",
      "\tfound com.google.code.gson#gson;2.3 in central\n",
      "\tfound it.unimi.dsi#fastutil;7.0.12 in central\n",
      "\tfound org.projectlombok#lombok;1.16.8 in central\n",
      "\tfound com.google.cloud#google-cloud-storage;2.20.1 in central\n",
      "\tfound com.google.guava#guava;31.1-jre in central\n",
      "\tfound com.google.guava#failureaccess;1.0.1 in central\n",
      "\tfound com.google.guava#listenablefuture;9999.0-empty-to-avoid-conflict-with-guava in central\n",
      "\tfound com.google.errorprone#error_prone_annotations;2.18.0 in central\n",
      "\tfound com.google.j2objc#j2objc-annotations;1.3 in central\n",
      "\tfound com.google.http-client#google-http-client;1.43.0 in central\n",
      "\tfound io.opencensus#opencensus-contrib-http-util;0.31.1 in central\n",
      "\tfound com.google.http-client#google-http-client-jackson2;1.43.0 in central\n",
      "\tfound com.google.http-client#google-http-client-gson;1.43.0 in central\n",
      "\tfound com.google.api-client#google-api-client;2.2.0 in central\n",
      "\tfound commons-codec#commons-codec;1.15 in central\n",
      "\tfound com.google.oauth-client#google-oauth-client;1.34.1 in central\n",
      "\tfound com.google.http-client#google-http-client-apache-v2;1.43.0 in central\n",
      "\tfound com.google.apis#google-api-services-storage;v1-rev20220705-2.0.0 in central\n",
      "\tfound com.google.code.gson#gson;2.10.1 in central\n",
      "\tfound com.google.cloud#google-cloud-core;2.12.0 in central\n",
      "\tfound io.grpc#grpc-context;1.53.0 in central\n",
      "\tfound com.google.auto.value#auto-value-annotations;1.10.1 in central\n",
      "\tfound com.google.auto.value#auto-value;1.10.1 in central\n",
      "\tfound javax.annotation#javax.annotation-api;1.3.2 in central\n",
      "\tfound commons-logging#commons-logging;1.2 in central\n",
      "\tfound com.google.cloud#google-cloud-core-http;2.12.0 in central\n",
      "\tfound com.google.http-client#google-http-client-appengine;1.43.0 in central\n",
      "\tfound com.google.api#gax-httpjson;0.108.2 in central\n",
      "\tfound com.google.cloud#google-cloud-core-grpc;2.12.0 in central\n",
      "\tfound io.grpc#grpc-alts;1.53.0 in central\n",
      "\tfound io.grpc#grpc-grpclb;1.53.0 in central\n",
      "\tfound org.conscrypt#conscrypt-openjdk-uber;2.5.2 in central\n",
      "\tfound io.grpc#grpc-auth;1.53.0 in central\n",
      "\tfound io.grpc#grpc-protobuf;1.53.0 in central\n",
      "\tfound io.grpc#grpc-protobuf-lite;1.53.0 in central\n",
      "\tfound io.grpc#grpc-core;1.53.0 in central\n",
      "\tfound com.google.api#gax;2.23.2 in central\n",
      "\tfound com.google.api#gax-grpc;2.23.2 in central\n",
      "\tfound com.google.auth#google-auth-library-credentials;1.16.0 in central\n",
      "\tfound com.google.auth#google-auth-library-oauth2-http;1.16.0 in central\n",
      "\tfound com.google.api#api-common;2.6.2 in central\n",
      "\tfound io.opencensus#opencensus-api;0.31.1 in central\n",
      "\tfound com.google.api.grpc#proto-google-iam-v1;1.9.2 in central\n",
      "\tfound com.google.protobuf#protobuf-java;3.21.12 in central\n",
      "\tfound com.google.protobuf#protobuf-java-util;3.21.12 in central\n",
      "\tfound com.google.api.grpc#proto-google-common-protos;2.14.2 in central\n",
      "\tfound org.threeten#threetenbp;1.6.5 in central\n",
      "\tfound com.google.api.grpc#proto-google-cloud-storage-v2;2.20.1-alpha in central\n",
      "\tfound com.google.api.grpc#grpc-google-cloud-storage-v2;2.20.1-alpha in central\n",
      "\tfound com.google.api.grpc#gapic-google-cloud-storage-v2;2.20.1-alpha in central\n",
      "\tfound com.fasterxml.jackson.core#jackson-core;2.14.2 in central\n",
      "\tfound com.google.code.findbugs#jsr305;3.0.2 in central\n",
      "\tfound io.grpc#grpc-api;1.53.0 in central\n",
      "\tfound io.grpc#grpc-stub;1.53.0 in central\n",
      "\tfound org.checkerframework#checker-qual;3.31.0 in central\n",
      "\tfound io.perfmark#perfmark-api;0.26.0 in central\n",
      "\tfound com.google.android#annotations;4.1.1.4 in central\n",
      "\tfound org.codehaus.mojo#animal-sniffer-annotations;1.22 in central\n",
      "\tfound io.opencensus#opencensus-proto;0.2.0 in central\n",
      "\tfound io.grpc#grpc-services;1.53.0 in central\n",
      "\tfound com.google.re2j#re2j;1.6 in central\n",
      "\tfound io.grpc#grpc-netty-shaded;1.53.0 in central\n",
      "\tfound io.grpc#grpc-googleapis;1.53.0 in central\n",
      "\tfound io.grpc#grpc-xds;1.53.0 in central\n",
      "\tfound com.navigamez#greex;1.0 in central\n",
      "\tfound dk.brics.automaton#automaton;1.11-8 in central\n",
      "\tfound com.johnsnowlabs.nlp#tensorflow-cpu_2.12;0.4.4 in central\n",
      "\tfound com.microsoft.onnxruntime#onnxruntime;1.15.0 in central\n",
      "\tfound org.apache.hadoop#hadoop-aws;3.2.2 in central\n",
      "downloading https://repo1.maven.org/maven2/com/johnsnowlabs/nlp/spark-nlp_2.12/5.1.3/spark-nlp_2.12-5.1.3.jar ...\n",
      "\t[SUCCESSFUL ] com.johnsnowlabs.nlp#spark-nlp_2.12;5.1.3!spark-nlp_2.12.jar (664ms)\n",
      "downloading https://repo1.maven.org/maven2/org/apache/hadoop/hadoop-aws/3.2.2/hadoop-aws-3.2.2.jar ...\n",
      "\t[SUCCESSFUL ] org.apache.hadoop#hadoop-aws;3.2.2!hadoop-aws.jar (77ms)\n",
      "downloading https://repo1.maven.org/maven2/com/typesafe/config/1.4.2/config-1.4.2.jar ...\n",
      "\t[SUCCESSFUL ] com.typesafe#config;1.4.2!config.jar(bundle) (69ms)\n",
      "downloading https://repo1.maven.org/maven2/org/rocksdb/rocksdbjni/6.29.5/rocksdbjni-6.29.5.jar ...\n",
      "\t[SUCCESSFUL ] org.rocksdb#rocksdbjni;6.29.5!rocksdbjni.jar (739ms)\n",
      "downloading https://repo1.maven.org/maven2/com/amazonaws/aws-java-sdk-bundle/1.11.828/aws-java-sdk-bundle-1.11.828.jar ...\n",
      "\t[SUCCESSFUL ] com.amazonaws#aws-java-sdk-bundle;1.11.828!aws-java-sdk-bundle.jar (3072ms)\n",
      "downloading https://repo1.maven.org/maven2/com/github/universal-automata/liblevenshtein/3.0.0/liblevenshtein-3.0.0.jar ...\n",
      "\t[SUCCESSFUL ] com.github.universal-automata#liblevenshtein;3.0.0!liblevenshtein.jar (66ms)\n",
      "downloading https://repo1.maven.org/maven2/com/google/cloud/google-cloud-storage/2.20.1/google-cloud-storage-2.20.1.jar ...\n",
      "\t[SUCCESSFUL ] com.google.cloud#google-cloud-storage;2.20.1!google-cloud-storage.jar (84ms)\n",
      "downloading https://repo1.maven.org/maven2/com/navigamez/greex/1.0/greex-1.0.jar ...\n",
      "\t[SUCCESSFUL ] com.navigamez#greex;1.0!greex.jar (38ms)\n",
      "downloading https://repo1.maven.org/maven2/com/johnsnowlabs/nlp/tensorflow-cpu_2.12/0.4.4/tensorflow-cpu_2.12-0.4.4.jar ...\n",
      "\t[SUCCESSFUL ] com.johnsnowlabs.nlp#tensorflow-cpu_2.12;0.4.4!tensorflow-cpu_2.12.jar (4848ms)\n",
      "downloading https://repo1.maven.org/maven2/com/microsoft/onnxruntime/onnxruntime/1.15.0/onnxruntime-1.15.0.jar ...\n",
      "\t[SUCCESSFUL ] com.microsoft.onnxruntime#onnxruntime;1.15.0!onnxruntime.jar (920ms)\n",
      "downloading https://repo1.maven.org/maven2/it/unimi/dsi/fastutil/7.0.12/fastutil-7.0.12.jar ...\n",
      "\t[SUCCESSFUL ] it.unimi.dsi#fastutil;7.0.12!fastutil.jar (360ms)\n",
      "downloading https://repo1.maven.org/maven2/org/projectlombok/lombok/1.16.8/lombok-1.16.8.jar ...\n",
      "\t[SUCCESSFUL ] org.projectlombok#lombok;1.16.8!lombok.jar (85ms)\n",
      "downloading https://repo1.maven.org/maven2/com/google/guava/guava/31.1-jre/guava-31.1-jre.jar ...\n",
      "\t[SUCCESSFUL ] com.google.guava#guava;31.1-jre!guava.jar(bundle) (148ms)\n",
      "downloading https://repo1.maven.org/maven2/com/google/guava/failureaccess/1.0.1/failureaccess-1.0.1.jar ...\n",
      "\t[SUCCESSFUL ] com.google.guava#failureaccess;1.0.1!failureaccess.jar(bundle) (45ms)\n",
      "downloading https://repo1.maven.org/maven2/com/google/guava/listenablefuture/9999.0-empty-to-avoid-conflict-with-guava/listenablefuture-9999.0-empty-to-avoid-conflict-with-guava.jar ...\n",
      "\t[SUCCESSFUL ] com.google.guava#listenablefuture;9999.0-empty-to-avoid-conflict-with-guava!listenablefuture.jar (39ms)\n",
      "downloading https://repo1.maven.org/maven2/com/google/errorprone/error_prone_annotations/2.18.0/error_prone_annotations-2.18.0.jar ...\n",
      "\t[SUCCESSFUL ] com.google.errorprone#error_prone_annotations;2.18.0!error_prone_annotations.jar (38ms)\n",
      "downloading https://repo1.maven.org/maven2/com/google/j2objc/j2objc-annotations/1.3/j2objc-annotations-1.3.jar ...\n",
      "\t[SUCCESSFUL ] com.google.j2objc#j2objc-annotations;1.3!j2objc-annotations.jar (42ms)\n",
      "downloading https://repo1.maven.org/maven2/com/google/http-client/google-http-client/1.43.0/google-http-client-1.43.0.jar ...\n",
      "\t[SUCCESSFUL ] com.google.http-client#google-http-client;1.43.0!google-http-client.jar (64ms)\n",
      "downloading https://repo1.maven.org/maven2/io/opencensus/opencensus-contrib-http-util/0.31.1/opencensus-contrib-http-util-0.31.1.jar ...\n",
      "\t[SUCCESSFUL ] io.opencensus#opencensus-contrib-http-util;0.31.1!opencensus-contrib-http-util.jar (42ms)\n",
      "downloading https://repo1.maven.org/maven2/com/google/http-client/google-http-client-jackson2/1.43.0/google-http-client-jackson2-1.43.0.jar ...\n",
      "\t[SUCCESSFUL ] com.google.http-client#google-http-client-jackson2;1.43.0!google-http-client-jackson2.jar (44ms)\n",
      "downloading https://repo1.maven.org/maven2/com/google/http-client/google-http-client-gson/1.43.0/google-http-client-gson-1.43.0.jar ...\n",
      "\t[SUCCESSFUL ] com.google.http-client#google-http-client-gson;1.43.0!google-http-client-gson.jar (47ms)\n",
      "downloading https://repo1.maven.org/maven2/com/google/api-client/google-api-client/2.2.0/google-api-client-2.2.0.jar ...\n",
      "\t[SUCCESSFUL ] com.google.api-client#google-api-client;2.2.0!google-api-client.jar (102ms)\n",
      "downloading https://repo1.maven.org/maven2/commons-codec/commons-codec/1.15/commons-codec-1.15.jar ...\n",
      "\t[SUCCESSFUL ] commons-codec#commons-codec;1.15!commons-codec.jar (83ms)\n",
      "downloading https://repo1.maven.org/maven2/com/google/oauth-client/google-oauth-client/1.34.1/google-oauth-client-1.34.1.jar ...\n",
      "\t[SUCCESSFUL ] com.google.oauth-client#google-oauth-client;1.34.1!google-oauth-client.jar (48ms)\n",
      "downloading https://repo1.maven.org/maven2/com/google/http-client/google-http-client-apache-v2/1.43.0/google-http-client-apache-v2-1.43.0.jar ...\n",
      "\t[SUCCESSFUL ] com.google.http-client#google-http-client-apache-v2;1.43.0!google-http-client-apache-v2.jar (45ms)\n",
      "downloading https://repo1.maven.org/maven2/com/google/apis/google-api-services-storage/v1-rev20220705-2.0.0/google-api-services-storage-v1-rev20220705-2.0.0.jar ...\n",
      "\t[SUCCESSFUL ] com.google.apis#google-api-services-storage;v1-rev20220705-2.0.0!google-api-services-storage.jar (70ms)\n",
      "downloading https://repo1.maven.org/maven2/com/google/code/gson/gson/2.10.1/gson-2.10.1.jar ...\n",
      "\t[SUCCESSFUL ] com.google.code.gson#gson;2.10.1!gson.jar (62ms)\n",
      "downloading https://repo1.maven.org/maven2/com/google/cloud/google-cloud-core/2.12.0/google-cloud-core-2.12.0.jar ...\n",
      "\t[SUCCESSFUL ] com.google.cloud#google-cloud-core;2.12.0!google-cloud-core.jar (60ms)\n",
      "downloading https://repo1.maven.org/maven2/io/grpc/grpc-context/1.53.0/grpc-context-1.53.0.jar ...\n",
      "\t[SUCCESSFUL ] io.grpc#grpc-context;1.53.0!grpc-context.jar (42ms)\n",
      "downloading https://repo1.maven.org/maven2/com/google/auto/value/auto-value-annotations/1.10.1/auto-value-annotations-1.10.1.jar ...\n",
      "\t[SUCCESSFUL ] com.google.auto.value#auto-value-annotations;1.10.1!auto-value-annotations.jar (43ms)\n",
      "downloading https://repo1.maven.org/maven2/com/google/auto/value/auto-value/1.10.1/auto-value-1.10.1.jar ...\n",
      "\t[SUCCESSFUL ] com.google.auto.value#auto-value;1.10.1!auto-value.jar (174ms)\n",
      "downloading https://repo1.maven.org/maven2/javax/annotation/javax.annotation-api/1.3.2/javax.annotation-api-1.3.2.jar ...\n",
      "\t[SUCCESSFUL ] javax.annotation#javax.annotation-api;1.3.2!javax.annotation-api.jar (40ms)\n",
      "downloading https://repo1.maven.org/maven2/commons-logging/commons-logging/1.2/commons-logging-1.2.jar ...\n",
      "\t[SUCCESSFUL ] commons-logging#commons-logging;1.2!commons-logging.jar (54ms)\n",
      "downloading https://repo1.maven.org/maven2/com/google/cloud/google-cloud-core-http/2.12.0/google-cloud-core-http-2.12.0.jar ...\n",
      "\t[SUCCESSFUL ] com.google.cloud#google-cloud-core-http;2.12.0!google-cloud-core-http.jar (40ms)\n",
      "downloading https://repo1.maven.org/maven2/com/google/http-client/google-http-client-appengine/1.43.0/google-http-client-appengine-1.43.0.jar ...\n",
      "\t[SUCCESSFUL ] com.google.http-client#google-http-client-appengine;1.43.0!google-http-client-appengine.jar (42ms)\n",
      "downloading https://repo1.maven.org/maven2/com/google/api/gax-httpjson/0.108.2/gax-httpjson-0.108.2.jar ...\n",
      "\t[SUCCESSFUL ] com.google.api#gax-httpjson;0.108.2!gax-httpjson.jar (72ms)\n",
      "downloading https://repo1.maven.org/maven2/com/google/cloud/google-cloud-core-grpc/2.12.0/google-cloud-core-grpc-2.12.0.jar ...\n",
      "\t[SUCCESSFUL ] com.google.cloud#google-cloud-core-grpc;2.12.0!google-cloud-core-grpc.jar (46ms)\n",
      "downloading https://repo1.maven.org/maven2/io/grpc/grpc-alts/1.53.0/grpc-alts-1.53.0.jar ...\n",
      "\t[SUCCESSFUL ] io.grpc#grpc-alts;1.53.0!grpc-alts.jar (68ms)\n",
      "downloading https://repo1.maven.org/maven2/io/grpc/grpc-grpclb/1.53.0/grpc-grpclb-1.53.0.jar ...\n",
      "\t[SUCCESSFUL ] io.grpc#grpc-grpclb;1.53.0!grpc-grpclb.jar (57ms)\n",
      "downloading https://repo1.maven.org/maven2/org/conscrypt/conscrypt-openjdk-uber/2.5.2/conscrypt-openjdk-uber-2.5.2.jar ...\n",
      "\t[SUCCESSFUL ] org.conscrypt#conscrypt-openjdk-uber;2.5.2!conscrypt-openjdk-uber.jar (147ms)\n",
      "downloading https://repo1.maven.org/maven2/io/grpc/grpc-auth/1.53.0/grpc-auth-1.53.0.jar ...\n",
      "\t[SUCCESSFUL ] io.grpc#grpc-auth;1.53.0!grpc-auth.jar (40ms)\n",
      "downloading https://repo1.maven.org/maven2/io/grpc/grpc-protobuf/1.53.0/grpc-protobuf-1.53.0.jar ...\n",
      "\t[SUCCESSFUL ] io.grpc#grpc-protobuf;1.53.0!grpc-protobuf.jar (41ms)\n",
      "downloading https://repo1.maven.org/maven2/io/grpc/grpc-protobuf-lite/1.53.0/grpc-protobuf-lite-1.53.0.jar ...\n",
      "\t[SUCCESSFUL ] io.grpc#grpc-protobuf-lite;1.53.0!grpc-protobuf-lite.jar (44ms)\n",
      "downloading https://repo1.maven.org/maven2/io/grpc/grpc-core/1.53.0/grpc-core-1.53.0.jar ...\n",
      "\t[SUCCESSFUL ] io.grpc#grpc-core;1.53.0!grpc-core.jar (72ms)\n",
      "downloading https://repo1.maven.org/maven2/com/google/api/gax/2.23.2/gax-2.23.2.jar ...\n",
      "\t[SUCCESSFUL ] com.google.api#gax;2.23.2!gax.jar (61ms)\n",
      "downloading https://repo1.maven.org/maven2/com/google/api/gax-grpc/2.23.2/gax-grpc-2.23.2.jar ...\n",
      "\t[SUCCESSFUL ] com.google.api#gax-grpc;2.23.2!gax-grpc.jar (54ms)\n",
      "downloading https://repo1.maven.org/maven2/com/google/auth/google-auth-library-credentials/1.16.0/google-auth-library-credentials-1.16.0.jar ...\n",
      "\t[SUCCESSFUL ] com.google.auth#google-auth-library-credentials;1.16.0!google-auth-library-credentials.jar (40ms)\n",
      "downloading https://repo1.maven.org/maven2/com/google/auth/google-auth-library-oauth2-http/1.16.0/google-auth-library-oauth2-http-1.16.0.jar ...\n",
      "\t[SUCCESSFUL ] com.google.auth#google-auth-library-oauth2-http;1.16.0!google-auth-library-oauth2-http.jar (68ms)\n",
      "downloading https://repo1.maven.org/maven2/com/google/api/api-common/2.6.2/api-common-2.6.2.jar ...\n",
      "\t[SUCCESSFUL ] com.google.api#api-common;2.6.2!api-common.jar (45ms)\n",
      "downloading https://repo1.maven.org/maven2/io/opencensus/opencensus-api/0.31.1/opencensus-api-0.31.1.jar ...\n",
      "\t[SUCCESSFUL ] io.opencensus#opencensus-api;0.31.1!opencensus-api.jar (62ms)\n",
      "downloading https://repo1.maven.org/maven2/com/google/api/grpc/proto-google-iam-v1/1.9.2/proto-google-iam-v1-1.9.2.jar ...\n",
      "\t[SUCCESSFUL ] com.google.api.grpc#proto-google-iam-v1;1.9.2!proto-google-iam-v1.jar (58ms)\n",
      "downloading https://repo1.maven.org/maven2/com/google/protobuf/protobuf-java/3.21.12/protobuf-java-3.21.12.jar ...\n",
      "\t[SUCCESSFUL ] com.google.protobuf#protobuf-java;3.21.12!protobuf-java.jar(bundle) (96ms)\n",
      "downloading https://repo1.maven.org/maven2/com/google/protobuf/protobuf-java-util/3.21.12/protobuf-java-util-3.21.12.jar ...\n",
      "\t[SUCCESSFUL ] com.google.protobuf#protobuf-java-util;3.21.12!protobuf-java-util.jar(bundle) (66ms)\n",
      "downloading https://repo1.maven.org/maven2/com/google/api/grpc/proto-google-common-protos/2.14.2/proto-google-common-protos-2.14.2.jar ...\n",
      "\t[SUCCESSFUL ] com.google.api.grpc#proto-google-common-protos;2.14.2!proto-google-common-protos.jar (96ms)\n",
      "downloading https://repo1.maven.org/maven2/org/threeten/threetenbp/1.6.5/threetenbp-1.6.5.jar ...\n",
      "\t[SUCCESSFUL ] org.threeten#threetenbp;1.6.5!threetenbp.jar (65ms)\n",
      "downloading https://repo1.maven.org/maven2/com/google/api/grpc/proto-google-cloud-storage-v2/2.20.1-alpha/proto-google-cloud-storage-v2-2.20.1-alpha.jar ...\n",
      "\t[SUCCESSFUL ] com.google.api.grpc#proto-google-cloud-storage-v2;2.20.1-alpha!proto-google-cloud-storage-v2.jar (91ms)\n",
      "downloading https://repo1.maven.org/maven2/com/google/api/grpc/grpc-google-cloud-storage-v2/2.20.1-alpha/grpc-google-cloud-storage-v2-2.20.1-alpha.jar ...\n",
      "\t[SUCCESSFUL ] com.google.api.grpc#grpc-google-cloud-storage-v2;2.20.1-alpha!grpc-google-cloud-storage-v2.jar (55ms)\n",
      "downloading https://repo1.maven.org/maven2/com/google/api/grpc/gapic-google-cloud-storage-v2/2.20.1-alpha/gapic-google-cloud-storage-v2-2.20.1-alpha.jar ...\n",
      "\t[SUCCESSFUL ] com.google.api.grpc#gapic-google-cloud-storage-v2;2.20.1-alpha!gapic-google-cloud-storage-v2.jar (56ms)\n",
      "downloading https://repo1.maven.org/maven2/com/fasterxml/jackson/core/jackson-core/2.14.2/jackson-core-2.14.2.jar ...\n",
      "\t[SUCCESSFUL ] com.fasterxml.jackson.core#jackson-core;2.14.2!jackson-core.jar(bundle) (68ms)\n",
      "downloading https://repo1.maven.org/maven2/com/google/code/findbugs/jsr305/3.0.2/jsr305-3.0.2.jar ...\n",
      "\t[SUCCESSFUL ] com.google.code.findbugs#jsr305;3.0.2!jsr305.jar (38ms)\n",
      "downloading https://repo1.maven.org/maven2/io/grpc/grpc-api/1.53.0/grpc-api-1.53.0.jar ...\n",
      "\t[SUCCESSFUL ] io.grpc#grpc-api;1.53.0!grpc-api.jar (68ms)\n",
      "downloading https://repo1.maven.org/maven2/io/grpc/grpc-stub/1.53.0/grpc-stub-1.53.0.jar ...\n",
      "\t[SUCCESSFUL ] io.grpc#grpc-stub;1.53.0!grpc-stub.jar (43ms)\n",
      "downloading https://repo1.maven.org/maven2/org/checkerframework/checker-qual/3.31.0/checker-qual-3.31.0.jar ...\n",
      "\t[SUCCESSFUL ] org.checkerframework#checker-qual;3.31.0!checker-qual.jar (68ms)\n",
      "downloading https://repo1.maven.org/maven2/io/perfmark/perfmark-api/0.26.0/perfmark-api-0.26.0.jar ...\n",
      "\t[SUCCESSFUL ] io.perfmark#perfmark-api;0.26.0!perfmark-api.jar (38ms)\n",
      "downloading https://repo1.maven.org/maven2/com/google/android/annotations/4.1.1.4/annotations-4.1.1.4.jar ...\n",
      "\t[SUCCESSFUL ] com.google.android#annotations;4.1.1.4!annotations.jar (46ms)\n",
      "downloading https://repo1.maven.org/maven2/org/codehaus/mojo/animal-sniffer-annotations/1.22/animal-sniffer-annotations-1.22.jar ...\n",
      "\t[SUCCESSFUL ] org.codehaus.mojo#animal-sniffer-annotations;1.22!animal-sniffer-annotations.jar (41ms)\n",
      "downloading https://repo1.maven.org/maven2/io/opencensus/opencensus-proto/0.2.0/opencensus-proto-0.2.0.jar ...\n",
      "\t[SUCCESSFUL ] io.opencensus#opencensus-proto;0.2.0!opencensus-proto.jar (74ms)\n",
      "downloading https://repo1.maven.org/maven2/io/grpc/grpc-services/1.53.0/grpc-services-1.53.0.jar ...\n",
      "\t[SUCCESSFUL ] io.grpc#grpc-services;1.53.0!grpc-services.jar (101ms)\n",
      "downloading https://repo1.maven.org/maven2/com/google/re2j/re2j/1.6/re2j-1.6.jar ...\n",
      "\t[SUCCESSFUL ] com.google.re2j#re2j;1.6!re2j.jar (71ms)\n",
      "downloading https://repo1.maven.org/maven2/io/grpc/grpc-netty-shaded/1.53.0/grpc-netty-shaded-1.53.0.jar ...\n",
      "\t[SUCCESSFUL ] io.grpc#grpc-netty-shaded;1.53.0!grpc-netty-shaded.jar (246ms)\n",
      "downloading https://repo1.maven.org/maven2/io/grpc/grpc-googleapis/1.53.0/grpc-googleapis-1.53.0.jar ...\n",
      "\t[SUCCESSFUL ] io.grpc#grpc-googleapis;1.53.0!grpc-googleapis.jar (76ms)\n",
      "downloading https://repo1.maven.org/maven2/io/grpc/grpc-xds/1.53.0/grpc-xds-1.53.0.jar ...\n",
      "\t[SUCCESSFUL ] io.grpc#grpc-xds;1.53.0!grpc-xds.jar (284ms)\n",
      "downloading https://repo1.maven.org/maven2/dk/brics/automaton/automaton/1.11-8/automaton-1.11-8.jar ...\n",
      "\t[SUCCESSFUL ] dk.brics.automaton#automaton;1.11-8!automaton.jar (54ms)\n",
      ":: resolution report :: resolve 26022ms :: artifacts dl 15586ms\n",
      "\t:: modules in use:\n",
      "\tcom.amazonaws#aws-java-sdk-bundle;1.11.828 from central in [default]\n",
      "\tcom.fasterxml.jackson.core#jackson-core;2.14.2 from central in [default]\n",
      "\tcom.github.universal-automata#liblevenshtein;3.0.0 from central in [default]\n",
      "\tcom.google.android#annotations;4.1.1.4 from central in [default]\n",
      "\tcom.google.api#api-common;2.6.2 from central in [default]\n",
      "\tcom.google.api#gax;2.23.2 from central in [default]\n",
      "\tcom.google.api#gax-grpc;2.23.2 from central in [default]\n",
      "\tcom.google.api#gax-httpjson;0.108.2 from central in [default]\n",
      "\tcom.google.api-client#google-api-client;2.2.0 from central in [default]\n",
      "\tcom.google.api.grpc#gapic-google-cloud-storage-v2;2.20.1-alpha from central in [default]\n",
      "\tcom.google.api.grpc#grpc-google-cloud-storage-v2;2.20.1-alpha from central in [default]\n",
      "\tcom.google.api.grpc#proto-google-cloud-storage-v2;2.20.1-alpha from central in [default]\n",
      "\tcom.google.api.grpc#proto-google-common-protos;2.14.2 from central in [default]\n",
      "\tcom.google.api.grpc#proto-google-iam-v1;1.9.2 from central in [default]\n",
      "\tcom.google.apis#google-api-services-storage;v1-rev20220705-2.0.0 from central in [default]\n",
      "\tcom.google.auth#google-auth-library-credentials;1.16.0 from central in [default]\n",
      "\tcom.google.auth#google-auth-library-oauth2-http;1.16.0 from central in [default]\n",
      "\tcom.google.auto.value#auto-value;1.10.1 from central in [default]\n",
      "\tcom.google.auto.value#auto-value-annotations;1.10.1 from central in [default]\n",
      "\tcom.google.cloud#google-cloud-core;2.12.0 from central in [default]\n",
      "\tcom.google.cloud#google-cloud-core-grpc;2.12.0 from central in [default]\n",
      "\tcom.google.cloud#google-cloud-core-http;2.12.0 from central in [default]\n",
      "\tcom.google.cloud#google-cloud-storage;2.20.1 from central in [default]\n",
      "\tcom.google.code.findbugs#jsr305;3.0.2 from central in [default]\n",
      "\tcom.google.code.gson#gson;2.10.1 from central in [default]\n",
      "\tcom.google.errorprone#error_prone_annotations;2.18.0 from central in [default]\n",
      "\tcom.google.guava#failureaccess;1.0.1 from central in [default]\n",
      "\tcom.google.guava#guava;31.1-jre from central in [default]\n",
      "\tcom.google.guava#listenablefuture;9999.0-empty-to-avoid-conflict-with-guava from central in [default]\n",
      "\tcom.google.http-client#google-http-client;1.43.0 from central in [default]\n",
      "\tcom.google.http-client#google-http-client-apache-v2;1.43.0 from central in [default]\n",
      "\tcom.google.http-client#google-http-client-appengine;1.43.0 from central in [default]\n",
      "\tcom.google.http-client#google-http-client-gson;1.43.0 from central in [default]\n",
      "\tcom.google.http-client#google-http-client-jackson2;1.43.0 from central in [default]\n",
      "\tcom.google.j2objc#j2objc-annotations;1.3 from central in [default]\n",
      "\tcom.google.oauth-client#google-oauth-client;1.34.1 from central in [default]\n",
      "\tcom.google.protobuf#protobuf-java;3.21.12 from central in [default]\n",
      "\tcom.google.protobuf#protobuf-java-util;3.21.12 from central in [default]\n",
      "\tcom.google.re2j#re2j;1.6 from central in [default]\n",
      "\tcom.johnsnowlabs.nlp#spark-nlp_2.12;5.1.3 from central in [default]\n",
      "\tcom.johnsnowlabs.nlp#tensorflow-cpu_2.12;0.4.4 from central in [default]\n",
      "\tcom.microsoft.onnxruntime#onnxruntime;1.15.0 from central in [default]\n",
      "\tcom.navigamez#greex;1.0 from central in [default]\n",
      "\tcom.typesafe#config;1.4.2 from central in [default]\n",
      "\tcommons-codec#commons-codec;1.15 from central in [default]\n",
      "\tcommons-logging#commons-logging;1.2 from central in [default]\n",
      "\tdk.brics.automaton#automaton;1.11-8 from central in [default]\n",
      "\tio.grpc#grpc-alts;1.53.0 from central in [default]\n",
      "\tio.grpc#grpc-api;1.53.0 from central in [default]\n",
      "\tio.grpc#grpc-auth;1.53.0 from central in [default]\n",
      "\tio.grpc#grpc-context;1.53.0 from central in [default]\n",
      "\tio.grpc#grpc-core;1.53.0 from central in [default]\n",
      "\tio.grpc#grpc-googleapis;1.53.0 from central in [default]\n",
      "\tio.grpc#grpc-grpclb;1.53.0 from central in [default]\n",
      "\tio.grpc#grpc-netty-shaded;1.53.0 from central in [default]\n",
      "\tio.grpc#grpc-protobuf;1.53.0 from central in [default]\n",
      "\tio.grpc#grpc-protobuf-lite;1.53.0 from central in [default]\n",
      "\tio.grpc#grpc-services;1.53.0 from central in [default]\n",
      "\tio.grpc#grpc-stub;1.53.0 from central in [default]\n",
      "\tio.grpc#grpc-xds;1.53.0 from central in [default]\n",
      "\tio.opencensus#opencensus-api;0.31.1 from central in [default]\n",
      "\tio.opencensus#opencensus-contrib-http-util;0.31.1 from central in [default]\n",
      "\tio.opencensus#opencensus-proto;0.2.0 from central in [default]\n",
      "\tio.perfmark#perfmark-api;0.26.0 from central in [default]\n",
      "\tit.unimi.dsi#fastutil;7.0.12 from central in [default]\n",
      "\tjavax.annotation#javax.annotation-api;1.3.2 from central in [default]\n",
      "\torg.apache.hadoop#hadoop-aws;3.2.2 from central in [default]\n",
      "\torg.checkerframework#checker-qual;3.31.0 from central in [default]\n",
      "\torg.codehaus.mojo#animal-sniffer-annotations;1.22 from central in [default]\n",
      "\torg.conscrypt#conscrypt-openjdk-uber;2.5.2 from central in [default]\n",
      "\torg.projectlombok#lombok;1.16.8 from central in [default]\n",
      "\torg.rocksdb#rocksdbjni;6.29.5 from central in [default]\n",
      "\torg.threeten#threetenbp;1.6.5 from central in [default]\n",
      "\t:: evicted modules:\n",
      "\tcom.google.protobuf#protobuf-java-util;3.0.0-beta-3 by [com.google.protobuf#protobuf-java-util;3.21.12] in [default]\n",
      "\tcom.google.protobuf#protobuf-java;3.0.0-beta-3 by [com.google.protobuf#protobuf-java;3.21.12] in [default]\n",
      "\tcom.google.code.gson#gson;2.3 by [com.google.code.gson#gson;2.10.1] in [default]\n",
      "\tcom.amazonaws#aws-java-sdk-bundle;1.11.563 by [com.amazonaws#aws-java-sdk-bundle;1.11.828] in [default]\n",
      "\t---------------------------------------------------------------------\n",
      "\t|                  |            modules            ||   artifacts   |\n",
      "\t|       conf       | number| search|dwnlded|evicted|| number|dwnlded|\n",
      "\t---------------------------------------------------------------------\n",
      "\t|      default     |   77  |   76  |   76  |   4   ||   73  |   73  |\n",
      "\t---------------------------------------------------------------------\n",
      ":: retrieving :: org.apache.spark#spark-submit-parent-e6534569-c5b5-459b-9ccf-fd8fe0f64659\n",
      "\tconfs: [default]\n",
      "\t73 artifacts copied, 0 already retrieved (688714kB/10817ms)\n",
      "24/03/13 05:31:51 WARN NativeCodeLoader: Unable to load native-hadoop library for your platform... using builtin-java classes where applicable\n",
      "Setting default log level to \"WARN\".\n",
      "To adjust logging level use sc.setLogLevel(newLevel). For SparkR, use setLogLevel(newLevel).\n"
     ]
    }
   ],
   "source": [
    "# Import pyspark and build Spark session\n",
    "spark = SparkSession.builder \\\n",
    "    .appName(\"Spark NLP\")\\\n",
    "    .master(\"local[*]\")\\\n",
    "    .config(\"spark.driver.memory\",\"16G\")\\\n",
    "    .config(\"spark.driver.maxResultSize\", \"0\") \\\n",
    "    .config(\"spark.kryoserializer.buffer.max\", \"2000M\")\\\n",
    "    .config(\"spark.jars.packages\", \"com.johnsnowlabs.nlp:spark-nlp_2.12:5.1.3,\" \"org.apache.hadoop:hadoop-aws:3.2.2\")\\\n",
    "    .config(\n",
    "        \"fs.s3a.aws.credentials.provider\",\n",
    "        \"com.amazonaws.auth.ContainerCredentialsProvider\",\n",
    "    )\\\n",
    "    .getOrCreate()\n"
   ]
  },
  {
   "cell_type": "code",
   "execution_count": 8,
   "id": "1f64eb74-4f3f-432f-b966-f1fe974b4aff",
   "metadata": {
    "tags": []
   },
   "outputs": [
    {
     "name": "stderr",
     "output_type": "stream",
     "text": [
      "24/03/13 05:32:02 WARN MetricsConfig: Cannot locate configuration: tried hadoop-metrics2-s3a-file-system.properties,hadoop-metrics2.properties\n",
      "                                                                                \r"
     ]
    },
    {
     "name": "stdout",
     "output_type": "stream",
     "text": [
      "CPU times: user 5.73 ms, sys: 4.58 ms, total: 10.3 ms\n",
      "Wall time: 5.48 s\n"
     ]
    }
   ],
   "source": [
    "%%time\n",
    "\n",
    "df = spark.read.parquet(f\"s3a://{bucket}/openblocks/data/ekubo_market_depth_dataset.parquet\")"
   ]
  },
  {
   "cell_type": "code",
   "execution_count": 9,
   "id": "1fc55242-7cee-46c0-9cf3-565ff06d59a6",
   "metadata": {
    "tags": []
   },
   "outputs": [
    {
     "name": "stdout",
     "output_type": "stream",
     "text": [
      "root\n",
      " |-- BLOCK_NUMBER: decimal(38,0) (nullable = true)\n",
      " |-- BLOCK_TIMESTAMP: timestamp (nullable = true)\n",
      " |-- TX_HASH: string (nullable = true)\n",
      " |-- TX_ID: string (nullable = true)\n",
      " |-- POOL_ID: string (nullable = true)\n",
      " |-- TOKEN0_ADDRESS: string (nullable = true)\n",
      " |-- TOKEN1_ADDRESS: string (nullable = true)\n",
      " |-- EVENT_NAME: string (nullable = true)\n",
      " |-- FROM_ADDRESS: string (nullable = true)\n",
      " |-- TO_ADDRESS: string (nullable = true)\n",
      " |-- TOKEN0_RAW_AMOUNT: decimal(38,0) (nullable = true)\n",
      " |-- TOKEN0_DECIMALS: decimal(2,0) (nullable = true)\n",
      " |-- TOKEN0_REAL_AMOUNT: decimal(38,30) (nullable = true)\n",
      " |-- TOKEN1_RAW_AMOUNT: decimal(38,0) (nullable = true)\n",
      " |-- TOKEN1_DECIMALS: decimal(2,0) (nullable = true)\n",
      " |-- TOKEN1_REAL_AMOUNT: decimal(38,30) (nullable = true)\n",
      " |-- FEE_TIER: float (nullable = true)\n",
      " |-- LIQUIDITY_AMOUNT: decimal(38,0) (nullable = true)\n",
      " |-- LOWER_TICK: decimal(38,0) (nullable = true)\n",
      " |-- UPPER_TICK: decimal(38,0) (nullable = true)\n",
      " |-- SWAP_TICK: decimal(38,0) (nullable = true)\n",
      " |-- TICK_SPACING: decimal(38,0) (nullable = true)\n",
      "\n"
     ]
    }
   ],
   "source": [
    "#Print the Schema\n",
    "df.printSchema()"
   ]
  },
  {
   "cell_type": "code",
   "execution_count": 10,
   "id": "3d24dc82-dc89-4226-9d71-5fe7fb7876e9",
   "metadata": {
    "tags": []
   },
   "outputs": [
    {
     "name": "stdout",
     "output_type": "stream",
     "text": [
      "DataFrame shape: (3024741, 22)\n",
      "CPU times: user 258 µs, sys: 2.68 ms, total: 2.94 ms\n",
      "Wall time: 2.03 s\n"
     ]
    }
   ],
   "source": [
    "%%time\n",
    "num_rows = df.count()\n",
    "num_columns = len(df.columns)\n",
    "print(f\"DataFrame shape: ({num_rows}, {num_columns})\")"
   ]
  },
  {
   "cell_type": "code",
   "execution_count": 11,
   "id": "4666d853-25ba-4008-a1bd-76f160de79ae",
   "metadata": {
    "tags": []
   },
   "outputs": [
    {
     "name": "stderr",
     "output_type": "stream",
     "text": [
      "[Stage 4:>                                                          (0 + 1) / 1]\r"
     ]
    },
    {
     "name": "stdout",
     "output_type": "stream",
     "text": [
      "+------------+-------------------+--------------------+--------------------+--------------------+--------------------+--------------------+----------+--------------------+--------------------+-----------------+---------------+--------------------+-----------------+---------------+--------------------+--------+----------------+----------+----------+---------+------------+\n",
      "|BLOCK_NUMBER|    BLOCK_TIMESTAMP|             TX_HASH|               TX_ID|             POOL_ID|      TOKEN0_ADDRESS|      TOKEN1_ADDRESS|EVENT_NAME|        FROM_ADDRESS|          TO_ADDRESS|TOKEN0_RAW_AMOUNT|TOKEN0_DECIMALS|  TOKEN0_REAL_AMOUNT|TOKEN1_RAW_AMOUNT|TOKEN1_DECIMALS|  TOKEN1_REAL_AMOUNT|FEE_TIER|LIQUIDITY_AMOUNT|LOWER_TICK|UPPER_TICK|SWAP_TICK|TICK_SPACING|\n",
      "+------------+-------------------+--------------------+--------------------+--------------------+--------------------+--------------------+----------+--------------------+--------------------+-----------------+---------------+--------------------+-----------------+---------------+--------------------+--------+----------------+----------+----------+---------+------------+\n",
      "|      328311|2023-10-16 15:58:15|0x068ae08b780c44b...| 5461067_0_328311_98|0x00000005dd3d2f4...|0x053c91253bc9682...|0x068f5c6a6178076...|      Mint|0x0372a7f547471e9...|0x00000005dd3d2f4...|           -79992|              6|-0.07999199999999...|           -80000|              6|-0.08000000000000...|  5.0E-4|         8039644|    -20000|     20000|        0|        1000|\n",
      "|      328253|2023-10-16 15:05:36|0x00bdc788d3ce649...|5461067_0_328253_212|0x00000005dd3d2f4...|0x053c91253bc9682...|0x068f5c6a6178076...|      Mint|0x04e64ccbadc967b...|0x00000005dd3d2f4...|        -82087672|              6|-82.0876719999999...|        -82095379|              6|-82.0953789999999...|  5.0E-4|      8250270816|    -20000|     20000|        0|        1000|\n",
      "|      328269|2023-10-16 15:23:34|0x03b06aff66afbc7...|5461067_0_328269_137|0x00000005dd3d2f4...|0x049d36570d4e46f...|0x053c91253bc9682...|      Mint|0x04c7b913ce8d1d7...|0x00000005dd3d2f4...| -632340897114350|             18|-0.00063234089711...|          -997738|              6|-0.99773800000000...|  5.0E-4|   2524377067828| -20284000| -20244000|        0|        1000|\n",
      "|      328545|2023-10-16 20:56:28|0x034398a7788f3a7...|5461067_0_328545_149|0x00000005dd3d2f4...|0x049d36570d4e46f...|0x053c91253bc9682...|      Mint|0x05022bef5db6fad...|0x00000005dd3d2f4...| -641968862647892|             18|-0.00064196886264...|         -1000000|              6|-1.00000000000000...|  5.0E-4|   2546541156515| -20279000| -20239000|        0|        1000|\n",
      "|      328205|2023-10-16 13:42:10|0x051ca2db4564744...| 5461067_0_328205_41|0x00000005dd3d2f4...|0x053c91253bc9682...|0x068f5c6a6178076...|      Mint|0x054526db0dbc4db...|0x00000005dd3d2f4...|       -105941124|              6|-105.941124000000...|       -106177367|              6|-106.177367000000...|  5.0E-4|     10659047790|    -20000|     20000|        0|        1000|\n",
      "|      328430|2023-10-16 18:50:22|0x04bbefe7c98d5bb...| 5461067_0_328430_10|0x00000005dd3d2f4...|0x053c91253bc9682...|0x068f5c6a6178076...|      Mint|0x055a1b9c1fc26a9...|0x00000005dd3d2f4...|           -80000|              6|-0.08000000000000...|           -80020|              6|-0.08001999999999...|  5.0E-4|         8041027|    -20000|     20000|        0|        1000|\n",
      "|      328373|2023-10-16 17:34:05|0x0414461d900bcac...| 5461067_0_328373_15|0x00000005dd3d2f4...|0x049d36570d4e46f...|0x053c91253bc9682...|      Mint|0x056e42f8e7f3abf...|0x00000005dd3d2f4...| -299999999999934|             18|-0.00029999999999...|          -468078|              6|-0.46807799999999...|  5.0E-4|   1190958190253| -20287000| -20247000|        0|        1000|\n",
      "|      328373|2023-10-16 17:34:05|0x04f1d36ac51cf39...|  5461067_0_328373_0|0x00000005dd3d2f4...|0x049d36570d4e46f...|0x053c91253bc9682...|      Mint|0x05cd353fa70c51d...|0x00000005dd3d2f4...|  -99999414324590|             18|-0.00009999941432...|          -156025|              6|-0.15602499999999...|  5.0E-4|    396983738368| -20287000| -20247000|        0|        1000|\n",
      "|      328461|2023-10-16 19:18:07|0x04f044099499c95...|5461067_0_328461_222|0x00000005dd3d2f4...|0x049d36570d4e46f...|0x053c91253bc9682...|      Mint|0x04302bf5a38fa56...|0x00000005dd3d2f4...|-1867119153799910|             18|-0.00186711915379...|         -3001234|              6|-3.00123400000000...|  5.0E-4|   7523292872405| -20275000| -20235000|        0|        1000|\n",
      "|      328224|2023-10-16 14:16:21|0x0762a7c9bd7f88d...| 5461067_0_328224_38|0x00000005dd3d2f4...|0x049d36570d4e46f...|0x053c91253bc9682...|      Mint|0x04e64ccbadc967b...|0x00000005dd3d2f4...|-9999999494457572|             18|-0.00999999949445...|         -9168284|              6|-9.16828399999999...|  5.0E-4|  35065660937600| -20279000| -20243000|        0|        1000|\n",
      "+------------+-------------------+--------------------+--------------------+--------------------+--------------------+--------------------+----------+--------------------+--------------------+-----------------+---------------+--------------------+-----------------+---------------+--------------------+--------+----------------+----------+----------+---------+------------+\n",
      "only showing top 10 rows\n",
      "\n"
     ]
    },
    {
     "name": "stderr",
     "output_type": "stream",
     "text": [
      "                                                                                \r"
     ]
    }
   ],
   "source": [
    "df.show(10)"
   ]
  },
  {
   "cell_type": "markdown",
   "id": "9faf54f9-690e-4519-9d2e-c214ef4a0f28",
   "metadata": {},
   "source": [
    "## Ticks to price in ekubo protocol \n",
    "\n",
    "https://docs.ekubo.org/about-ekubo/key-concepts\n",
    "\n",
    "- Ticks correspond to exact prices which can be used to specify boundaries for positions. Position boundaries are specified as ticks rather than arbitrary prices so the AMM can more efficiently process swaps. Ticks could be defined arbitrarily, but the most uniform way to break up the entire price range is in log-space.\n",
    "\n",
    "- In Ekubo, the tick size is 1.000001, or 1/100th of a basis point. You can get the price by raising 1.000001 to the power tick. This level of precision is smaller than most centralized limit order books. In other words, that means you can create one-tick positions, similar to limit orders, at prices more specific than you could on centralized exchanges. This makes Ekubo a great place to build an on-chain order book."
   ]
  },
  {
   "cell_type": "code",
   "execution_count": 13,
   "id": "05ca05f6-d1ed-43d9-9002-5e3490811966",
   "metadata": {
    "tags": []
   },
   "outputs": [
    {
     "name": "stderr",
     "output_type": "stream",
     "text": [
      "[Stage 5:>                                                          (0 + 1) / 1]\r"
     ]
    },
    {
     "name": "stdout",
     "output_type": "stream",
     "text": [
      "+----------+----------+--------------------+--------------------+\n",
      "|LOWER_TICK|UPPER_TICK|           price_low|          price_high|\n",
      "+----------+----------+--------------------+--------------------+\n",
      "|    -20000|     20000|  0.9801986831103483|  1.0202013298230708|\n",
      "|    -20000|     20000|  0.9801986831103483|  1.0202013298230708|\n",
      "| -20284000| -20244000|1.551583435245099...|1.614904724158150...|\n",
      "| -20279000| -20239000|1.559360775680326...|1.622999463715774...|\n",
      "|    -20000|     20000|  0.9801986831103483|  1.0202013298230708|\n",
      "|    -20000|     20000|  0.9801986831103483|  1.0202013298230708|\n",
      "| -20287000| -20247000|1.546935662408715E-9|1.610067272210807...|\n",
      "| -20287000| -20247000|1.546935662408715E-9|1.610067272210807...|\n",
      "| -20275000| -20235000|1.565610707187346...|1.629504459636125E-9|\n",
      "| -20279000| -20243000|1.559360775680326...|1.616520435795496E-9|\n",
      "| -29935000| -29934000|9.98622129012372E-14|9.996212501190351...|\n",
      "| -20281000| -20241000|1.556245172328908...|1.619756710244375...|\n",
      "| -20274000| -20234000|1.567177100177171...|1.631134778303941...|\n",
      "| -20285000| -20245000|1.550032628118183...|1.613290627424048...|\n",
      "|    -20000|     20000|  0.9801986831103483|  1.0202013298230708|\n",
      "| -20352000| -20164000|1.449583124300548...|1.749405333220039...|\n",
      "| -20298000| -20258000|1.530012625925971...|1.592453593859848...|\n",
      "| -20298000| -20258000|1.530012625925971...|1.592453593859848...|\n",
      "| -20285000| -20245000|1.550032628118183...|1.613290627424048...|\n",
      "|    -20000|     20000|  0.9801986831103483|  1.0202013298230708|\n",
      "+----------+----------+--------------------+--------------------+\n",
      "only showing top 20 rows\n",
      "\n"
     ]
    },
    {
     "name": "stderr",
     "output_type": "stream",
     "text": [
      "                                                                                \r"
     ]
    }
   ],
   "source": [
    "from pyspark.sql.functions import udf\n",
    "from pyspark.sql.types import DoubleType\n",
    "\n",
    "def tick_to_price(tick):\n",
    "    # Convert Decimal tick to float before performing the operation\n",
    "    return 1.000001 ** float(tick)\n",
    "\n",
    "\n",
    "# register UDF\n",
    "tick_to_price_udf = udf(tick_to_price, DoubleType())\n",
    "\n",
    "# apply UDF\n",
    "df_with_prices = df.withColumn(\"price_low\", tick_to_price_udf(\"LOWER_TICK\"))\\\n",
    "                   .withColumn(\"price_high\", tick_to_price_udf(\"UPPER_TICK\"))\n",
    "\n",
    "df_with_prices.select(\"LOWER_TICK\", \"UPPER_TICK\", \"price_low\", \"price_high\").show()\n"
   ]
  },
  {
   "cell_type": "markdown",
   "id": "a2c97bd3-0e2d-4fdc-b604-d401667575e0",
   "metadata": {},
   "source": [
    "## Data Cleaning "
   ]
  },
  {
   "cell_type": "code",
   "execution_count": 18,
   "id": "6bc25900-605c-408a-b539-36583e9d6d6e",
   "metadata": {
    "tags": []
   },
   "outputs": [
    {
     "name": "stderr",
     "output_type": "stream",
     "text": [
      "[Stage 9:============================================>              (3 + 1) / 4]\r"
     ]
    },
    {
     "name": "stdout",
     "output_type": "stream",
     "text": [
      "Extreme Values: [Row(max(price_high)=3.4028220345482378e+38, max(price_low)=3.388278921355584e+38)]\n",
      "Minimum Values: [Row(min(price_high)=2.944276141515469e-39, min(price_low)=2.938737288777316e-39)]\n"
     ]
    },
    {
     "name": "stderr",
     "output_type": "stream",
     "text": [
      "                                                                                \r"
     ]
    }
   ],
   "source": [
    "from pyspark.sql.functions import col, when\n",
    "\n",
    "# Filter out rows where the price is zero or negative\n",
    "df_with_valid_prices = df_with_prices.filter((col(\"price_low\") > 0) & (col(\"price_high\") > 0))\n",
    "\n",
    "# Check for extremely high or low values that could distort the chart\n",
    "extreme_values = df_with_valid_prices.agg({\"price_low\": \"max\", \"price_high\": \"max\"}).collect()\n",
    "min_values = df_with_valid_prices.agg({\"price_low\": \"min\", \"price_high\": \"min\"}).collect()\n",
    "\n",
    "print(\"Extreme Values:\", extreme_values)\n",
    "print(\"Minimum Values:\", min_values)"
   ]
  },
  {
   "cell_type": "code",
   "execution_count": 19,
   "id": "4a067876-3920-48e8-87a8-58cad6709054",
   "metadata": {
    "tags": []
   },
   "outputs": [],
   "source": [
    "upper_bound = 1e6 \n",
    "lower_bound = 1e-6  \n",
    "\n",
    "df_filtered = df_with_valid_prices.filter((col(\"price_low\") > lower_bound) & (col(\"price_low\") < upper_bound) &\n",
    "                                          (col(\"price_high\") > lower_bound) & (col(\"price_high\") < upper_bound))\n"
   ]
  },
  {
   "cell_type": "code",
   "execution_count": 22,
   "id": "019426b0-4334-47e1-b1f8-479b89209aa1",
   "metadata": {
    "tags": []
   },
   "outputs": [],
   "source": [
    "from pyspark.sql.functions import col, when\n",
    "\n",
    "threshold = 1e9  # This is just an example threshold\n",
    "df_capped = df_filtered.withColumn(\"capped_liquidity\", \n",
    "                                   when(col(\"LIQUIDITY_AMOUNT\") > threshold, threshold)\\\n",
    "                                   .otherwise(col(\"LIQUIDITY_AMOUNT\")))\n"
   ]
  },
  {
   "cell_type": "code",
   "execution_count": 23,
   "id": "5caaac3a-89f8-4b12-8bdd-9192959eff90",
   "metadata": {
    "tags": []
   },
   "outputs": [
    {
     "name": "stderr",
     "output_type": "stream",
     "text": [
      "[Stage 12:===========================================>              (3 + 1) / 4]\r"
     ]
    },
    {
     "name": "stdout",
     "output_type": "stream",
     "text": [
      "DataFrame shape: (2666948, 25)\n",
      "CPU times: user 8.94 ms, sys: 0 ns, total: 8.94 ms\n",
      "Wall time: 10.2 s\n"
     ]
    },
    {
     "name": "stderr",
     "output_type": "stream",
     "text": [
      "                                                                                \r"
     ]
    }
   ],
   "source": [
    "%%time\n",
    "num_rows = df_capped.count()\n",
    "num_columns = len(df_capped.columns)\n",
    "print(f\"DataFrame shape: ({num_rows}, {num_columns})\")"
   ]
  },
  {
   "cell_type": "markdown",
   "id": "0b17d352-2f2a-4831-9805-494316411148",
   "metadata": {
    "tags": []
   },
   "source": [
    "After some data cleaning, the datasize went from (3024741, 22) to (2666948, 25) "
   ]
  },
  {
   "cell_type": "markdown",
   "id": "c4acfac9-9cc2-4ac4-87fe-b0a37c9b2852",
   "metadata": {},
   "source": [
    "## Creating STRK/ETH, STRK/USDC, ETH/USDC Pools "
   ]
  },
  {
   "cell_type": "code",
   "execution_count": 27,
   "id": "a41b2179-bed8-4684-9f8e-b3d468b71410",
   "metadata": {
    "tags": []
   },
   "outputs": [
    {
     "name": "stderr",
     "output_type": "stream",
     "text": [
      "                                                                                \r"
     ]
    },
    {
     "data": {
      "text/plain": [
       "[Row(TOKEN0_ADDRESS='0x049d36570d4e46f48e99674bd3fcc84644ddd6b96f7c741b1562b82f9e004dc7', count=1634145),\n",
       " Row(TOKEN0_ADDRESS='0x053c91253bc9682c04929ca02ed00b3e423f6710d2ee7e0d5ebb06f3ecf368a8', count=809605),\n",
       " Row(TOKEN0_ADDRESS='0x04718f5a0fc34cc1af16a1cdee98ffb20c31f5cd61d6ab07201858f4287c938d', count=223198)]"
      ]
     },
     "execution_count": 27,
     "metadata": {},
     "output_type": "execute_result"
    }
   ],
   "source": [
    "from pyspark.sql.functions import col\n",
    "address_counts = df_capped.groupBy(\"TOKEN0_ADDRESS\").count()\n",
    "top_10_addresses = address_counts.orderBy(col(\"count\").desc())\n",
    "top_10_addresses.take(5)"
   ]
  },
  {
   "cell_type": "markdown",
   "id": "55855e9f-3cb7-460b-8b19-db8936b89e0a",
   "metadata": {
    "tags": []
   },
   "source": [
    "address:  \n",
    "- eth: `0x049d36570d4e46f48e99674bd3fcc84644ddd6b96f7c741b1562b82f9e004dc` \n",
    "- USDC: `0x053c91253bc9682c04929ca02ed00b3e423f6710d2ee7e0d5ebb06f3ecf368a8`\n",
    "- STRK: `0x04718f5a0fc34cc1af16a1cdee98ffb20c31f5cd61d6ab07201858f4287c938d`"
   ]
  },
  {
   "cell_type": "code",
   "execution_count": 31,
   "id": "e1b2ba41-c470-4a2f-9221-1a8b66c67eb3",
   "metadata": {
    "tags": []
   },
   "outputs": [],
   "source": [
    "eth_address = \"0x049d36570d4e46f48e99674bd3fcc84644ddd6b96f7c741b1562b82f9e004dc7\"\n",
    "strk_address = \"0x04718f5a0fc34cc1af16a1cdee98ffb20c31f5cd61d6ab07201858f4287c938d\"\n",
    "usdc_address = \"0x053c91253bc9682c04929ca02ed00b3e423f6710d2ee7e0d5ebb06f3ecf368a8\""
   ]
  },
  {
   "cell_type": "code",
   "execution_count": 32,
   "id": "069042ac-0d6d-486e-8092-ded85d252c37",
   "metadata": {
    "tags": []
   },
   "outputs": [
    {
     "name": "stderr",
     "output_type": "stream",
     "text": [
      "                                                                                \r"
     ]
    },
    {
     "data": {
      "text/plain": [
       "[Row(BLOCK_NUMBER=Decimal('536785'), BLOCK_TIMESTAMP=datetime.datetime(2024, 2, 8, 22, 46, 45), TX_HASH='0x05653fdfe2ee52befbed76d298173c2a4cc6ee894b68f0a1070aafdb8efa215e', TX_ID='5461067_0_536785_34', POOL_ID='0x00000005dd3d2f4429af886cd1a3b08289dbcea99a294197e9eb43b0e0325b4b-0x04718f5a0fc34cc1af16a1cdee98ffb20c31f5cd61d6ab07201858f4287c938d-0x049d36570d4e46f48e99674bd3fcc84644ddd6b96f7c741b1562b82f9e004dc7-34028236692093847977029636859101184-200', TOKEN0_ADDRESS='0x04718f5a0fc34cc1af16a1cdee98ffb20c31f5cd61d6ab07201858f4287c938d', TOKEN1_ADDRESS='0x049d36570d4e46f48e99674bd3fcc84644ddd6b96f7c741b1562b82f9e004dc7', EVENT_NAME='Mint', FROM_ADDRESS='0x02b86094d3a7c4e642577798c000827ff1d664c75bd3d9728786cdb600670117', TO_ADDRESS='0x00000005dd3d2f4429af886cd1a3b08289dbcea99a294197e9eb43b0e0325b4b', TOKEN0_RAW_AMOUNT=Decimal('0'), TOKEN0_DECIMALS=Decimal('18'), TOKEN0_REAL_AMOUNT=Decimal('0E-30'), TOKEN1_RAW_AMOUNT=Decimal('-99999999999999983'), TOKEN1_DECIMALS=Decimal('18'), TOKEN1_REAL_AMOUNT=Decimal('-0.099999999999999977795539507497'), FEE_TIER=9.999999747378752e-05, LIQUIDITY_AMOUNT=Decimal('1462430409628060'), LOWER_TICK=Decimal('6907800'), UPPER_TICK=Decimal('9210400'), SWAP_TICK=Decimal('0'), TICK_SPACING=Decimal('200'), price_low=1000.0412674033605, price_high=10000.550235829212, capped_liquidity=1000000000.0),\n",
       " Row(BLOCK_NUMBER=Decimal('536786'), BLOCK_TIMESTAMP=datetime.datetime(2024, 2, 8, 22, 49, 47), TX_HASH='0x07c4ad8489af381a038c14cb5c98df1ff4ed37316d5eee9bd8f7b1f63efd21a5', TX_ID='5461067_0_536786_24', POOL_ID='0x00000005dd3d2f4429af886cd1a3b08289dbcea99a294197e9eb43b0e0325b4b-0x04718f5a0fc34cc1af16a1cdee98ffb20c31f5cd61d6ab07201858f4287c938d-0x049d36570d4e46f48e99674bd3fcc84644ddd6b96f7c741b1562b82f9e004dc7-34028236692093847977029636859101184-200', TOKEN0_ADDRESS='0x04718f5a0fc34cc1af16a1cdee98ffb20c31f5cd61d6ab07201858f4287c938d', TOKEN1_ADDRESS='0x049d36570d4e46f48e99674bd3fcc84644ddd6b96f7c741b1562b82f9e004dc7', EVENT_NAME='Mint', FROM_ADDRESS='0x02b86094d3a7c4e642577798c000827ff1d664c75bd3d9728786cdb600670117', TO_ADDRESS='0x00000005dd3d2f4429af886cd1a3b08289dbcea99a294197e9eb43b0e0325b4b', TOKEN0_RAW_AMOUNT=Decimal('0'), TOKEN0_DECIMALS=Decimal('18'), TOKEN0_REAL_AMOUNT=Decimal('0E-30'), TOKEN1_RAW_AMOUNT=Decimal('-100000000000000000'), TOKEN1_DECIMALS=Decimal('18'), TOKEN1_REAL_AMOUNT=Decimal('-0.100000000000000005551115123126'), FEE_TIER=9.999999747378752e-05, LIQUIDITY_AMOUNT=Decimal('2233586254822338413'), LOWER_TICK=Decimal('-9210400'), UPPER_TICK=Decimal('-5809200'), SWAP_TICK=Decimal('0'), TICK_SPACING=Decimal('200'), price_low=9.999449794445068e-05, price_high=0.0029998376905608654, capped_liquidity=1000000000.0),\n",
       " Row(BLOCK_NUMBER=Decimal('539781'), BLOCK_TIMESTAMP=datetime.datetime(2024, 2, 11, 11, 56, 53), TX_HASH='0x02a7ef0f2694011db0b5e06e19ec8a1cdaa92b5ff02eae12438b908518acb948', TX_ID='5461067_0_539781_55', POOL_ID='0x00000005dd3d2f4429af886cd1a3b08289dbcea99a294197e9eb43b0e0325b4b-0x04718f5a0fc34cc1af16a1cdee98ffb20c31f5cd61d6ab07201858f4287c938d-0x049d36570d4e46f48e99674bd3fcc84644ddd6b96f7c741b1562b82f9e004dc7-17014118346046923173168730371588410572-95310', TOKEN0_ADDRESS='0x04718f5a0fc34cc1af16a1cdee98ffb20c31f5cd61d6ab07201858f4287c938d', TOKEN1_ADDRESS='0x049d36570d4e46f48e99674bd3fcc84644ddd6b96f7c741b1562b82f9e004dc7', EVENT_NAME='Mint', FROM_ADDRESS='0x050447ec772f7ba4084b8909fc7080afb1bfc373d640570836df8664055ee36c', TO_ADDRESS='0x00000005dd3d2f4429af886cd1a3b08289dbcea99a294197e9eb43b0e0325b4b', TOKEN0_RAW_AMOUNT=Decimal('0'), TOKEN0_DECIMALS=Decimal('18'), TOKEN0_REAL_AMOUNT=Decimal('0E-30'), TOKEN1_RAW_AMOUNT=Decimal('-40000000000000000'), TOKEN1_DECIMALS=Decimal('18'), TOKEN1_REAL_AMOUNT=Decimal('-0.040000000000000000832667268469'), FEE_TIER=0.05000000074505806, LIQUIDITY_AMOUNT=Decimal('2421076164331122864'), LOWER_TICK=Decimal('-8291970'), UPPER_TICK=Decimal('-6862320'), SWAP_TICK=Decimal('0'), TICK_SPACING=Decimal('95310'), price_low=0.00025052148983971764, price_high=0.0010464868642056353, capped_liquidity=1000000000.0),\n",
       " Row(BLOCK_NUMBER=Decimal('554509'), BLOCK_TIMESTAMP=datetime.datetime(2024, 2, 19, 1, 35, 21), TX_HASH='0x026d75033a157719af668329ef2aad563eb8feeeec8a4249e040452db16f4887', TX_ID='5461067_0_554509_46', POOL_ID='0x00000005dd3d2f4429af886cd1a3b08289dbcea99a294197e9eb43b0e0325b4b-0x04718f5a0fc34cc1af16a1cdee98ffb20c31f5cd61d6ab07201858f4287c938d-0x049d36570d4e46f48e99674bd3fcc84644ddd6b96f7c741b1562b82f9e004dc7-3402823669209384634633746074317682114-19802', TOKEN0_ADDRESS='0x04718f5a0fc34cc1af16a1cdee98ffb20c31f5cd61d6ab07201858f4287c938d', TOKEN1_ADDRESS='0x049d36570d4e46f48e99674bd3fcc84644ddd6b96f7c741b1562b82f9e004dc7', EVENT_NAME='Mint', FROM_ADDRESS='0x0715bbc05fb4602fdc551271d14989faa75b488eac1a1999496a9ab7897377b1', TO_ADDRESS='0x00000005dd3d2f4429af886cd1a3b08289dbcea99a294197e9eb43b0e0325b4b', TOKEN0_RAW_AMOUNT=Decimal('0'), TOKEN0_DECIMALS=Decimal('18'), TOKEN0_REAL_AMOUNT=Decimal('0E-30'), TOKEN1_RAW_AMOUNT=Decimal('-30000000000000000'), TOKEN1_DECIMALS=Decimal('18'), TOKEN1_REAL_AMOUNT=Decimal('-0.029999999999999998889776975375'), FEE_TIER=0.009999999776482582, LIQUIDITY_AMOUNT=Decimal('23278699796573763576'), LOWER_TICK=Decimal('-7346542'), UPPER_TICK=Decimal('-7247532'), SWAP_TICK=Decimal('0'), TICK_SPACING=Decimal('19802'), price_low=0.0006448206601387354, price_high=0.0007119318441517244, capped_liquidity=1000000000.0),\n",
       " Row(BLOCK_NUMBER=Decimal('558242'), BLOCK_TIMESTAMP=datetime.datetime(2024, 2, 20, 14, 58, 11), TX_HASH='0x03a457829027eed99dbf409933a20349038b4ef9699c82658ace414832cfe970', TX_ID='5461067_0_558242_126', POOL_ID='0x00000005dd3d2f4429af886cd1a3b08289dbcea99a294197e9eb43b0e0325b4b-0x04718f5a0fc34cc1af16a1cdee98ffb20c31f5cd61d6ab07201858f4287c938d-0x049d36570d4e46f48e99674bd3fcc84644ddd6b96f7c741b1562b82f9e004dc7-3402823669209384634633746074317682114-19802', TOKEN0_ADDRESS='0x04718f5a0fc34cc1af16a1cdee98ffb20c31f5cd61d6ab07201858f4287c938d', TOKEN1_ADDRESS='0x049d36570d4e46f48e99674bd3fcc84644ddd6b96f7c741b1562b82f9e004dc7', EVENT_NAME='Mint', FROM_ADDRESS='0x0739dc9a6cb1be10bf069d0615cf62af72e79fdcb50bb86cf02a2c7fd70c90ad', TO_ADDRESS='0x00000005dd3d2f4429af886cd1a3b08289dbcea99a294197e9eb43b0e0325b4b', TOKEN0_RAW_AMOUNT=Decimal('-10292172443000824254'), TOKEN0_DECIMALS=Decimal('18'), TOKEN0_REAL_AMOUNT=Decimal('-10.292172443000824344494503748138'), TOKEN1_RAW_AMOUNT=Decimal('-12325055669589258'), TOKEN1_DECIMALS=Decimal('18'), TOKEN1_REAL_AMOUNT=Decimal('-0.012325055669589258730556302623'), FEE_TIER=0.009999999776482582, LIQUIDITY_AMOUNT=Decimal('2018800763280881282'), LOWER_TICK=Decimal('-7544562'), UPPER_TICK=Decimal('-6752482'), SWAP_TICK=Decimal('0'), TICK_SPACING=Decimal('19802'), price_low=0.000528980902918425, price_high=0.0011679810451143801, capped_liquidity=1000000000.0)]"
      ]
     },
     "execution_count": 32,
     "metadata": {},
     "output_type": "execute_result"
    }
   ],
   "source": [
    "strk_eth_pool = df_capped.filter(\n",
    "    ((F.col('TOKEN0_ADDRESS') == strk_address) & (F.col('TOKEN1_ADDRESS') == eth_address)) |\n",
    "    (F.col('TOKEN0_ADDRESS') == eth_address) & (F.col('TOKEN1_ADDRESS') == strk_address)\n",
    ")\n",
    "strk_eth_pool.take(5)"
   ]
  },
  {
   "cell_type": "code",
   "execution_count": 33,
   "id": "ed3d5371-d04f-4b93-bca0-9ff982f0c21b",
   "metadata": {
    "tags": []
   },
   "outputs": [
    {
     "name": "stderr",
     "output_type": "stream",
     "text": [
      "                                                                                \r"
     ]
    },
    {
     "data": {
      "text/plain": [
       "[Row(BLOCK_NUMBER=Decimal('567360'), BLOCK_TIMESTAMP=datetime.datetime(2024, 2, 22, 2, 38, 32), TX_HASH='0x07cb0d586fd5375510ea07e7a58f09e3107f7f92c6502b990bf161c3ed818008', TX_ID='5461067_0_567360_4', POOL_ID='0x00000005dd3d2f4429af886cd1a3b08289dbcea99a294197e9eb43b0e0325b4b-0x04718f5a0fc34cc1af16a1cdee98ffb20c31f5cd61d6ab07201858f4287c938d-0x053c91253bc9682c04929ca02ed00b3e423f6710d2ee7e0d5ebb06f3ecf368a8-17014118346046923173168730371588410572-95310', TOKEN0_ADDRESS='0x04718f5a0fc34cc1af16a1cdee98ffb20c31f5cd61d6ab07201858f4287c938d', TOKEN1_ADDRESS='0x053c91253bc9682c04929ca02ed00b3e423f6710d2ee7e0d5ebb06f3ecf368a8', EVENT_NAME='Mint', FROM_ADDRESS='0x0395211ec88e0a6ad6be1a84f3d3d330dd1cb9b2057e77ed036548909e49c09e', TO_ADDRESS='0x00000005dd3d2f4429af886cd1a3b08289dbcea99a294197e9eb43b0e0325b4b', TOKEN0_RAW_AMOUNT=Decimal('-89999999'), TOKEN0_DECIMALS=Decimal('18'), TOKEN0_REAL_AMOUNT=Decimal('-8.9999999000000005287E-11'), TOKEN1_RAW_AMOUNT=Decimal('-89999999'), TOKEN1_DECIMALS=Decimal('6'), TOKEN1_REAL_AMOUNT=Decimal('-89.999999000000002524757292121649'), FEE_TIER=0.05000000074505806, LIQUIDITY_AMOUNT=Decimal('168699882'), LOWER_TICK=Decimal('-1524960'), UPPER_TICK=Decimal('1524960'), SWAP_TICK=Decimal('0'), TICK_SPACING=Decimal('95310'), price_low=0.2176299278472025, price_high=4.5949562631022784, capped_liquidity=168699882.0),\n",
       " Row(BLOCK_NUMBER=Decimal('567634'), BLOCK_TIMESTAMP=datetime.datetime(2024, 2, 22, 4, 40, 22), TX_HASH='0x01d23057d7c32dccd4a0b85508b307798da8c05b1fc67fac6a2078746ee3987a', TX_ID='5461067_0_567634_0', POOL_ID='0x00000005dd3d2f4429af886cd1a3b08289dbcea99a294197e9eb43b0e0325b4b-0x04718f5a0fc34cc1af16a1cdee98ffb20c31f5cd61d6ab07201858f4287c938d-0x053c91253bc9682c04929ca02ed00b3e423f6710d2ee7e0d5ebb06f3ecf368a8-17014118346046923173168730371588410572-95310', TOKEN0_ADDRESS='0x04718f5a0fc34cc1af16a1cdee98ffb20c31f5cd61d6ab07201858f4287c938d', TOKEN1_ADDRESS='0x053c91253bc9682c04929ca02ed00b3e423f6710d2ee7e0d5ebb06f3ecf368a8', EVENT_NAME='Burn', FROM_ADDRESS='0x0395211ec88e0a6ad6be1a84f3d3d330dd1cb9b2057e77ed036548909e49c09e', TO_ADDRESS='0x00000005dd3d2f4429af886cd1a3b08289dbcea99a294197e9eb43b0e0325b4b', TOKEN0_RAW_AMOUNT=Decimal('268776506'), TOKEN0_DECIMALS=Decimal('18'), TOKEN0_REAL_AMOUNT=Decimal('2.68776506000000013596E-10'), TOKEN1_RAW_AMOUNT=Decimal('0'), TOKEN1_DECIMALS=Decimal('6'), TOKEN1_REAL_AMOUNT=Decimal('0E-30'), FEE_TIER=0.05000000074505806, LIQUIDITY_AMOUNT=Decimal('-168699882'), LOWER_TICK=Decimal('-1524960'), UPPER_TICK=Decimal('1524960'), SWAP_TICK=Decimal('0'), TICK_SPACING=Decimal('95310'), price_low=0.2176299278472025, price_high=4.5949562631022784, capped_liquidity=-168699882.0),\n",
       " Row(BLOCK_NUMBER=Decimal('581479'), BLOCK_TIMESTAMP=datetime.datetime(2024, 2, 24, 22, 3, 38), TX_HASH='0x01422cc5026c2a13c60cd2a136187e98721cd0d7543764f4178a7acf55284f32', TX_ID='5461067_0_581479_32', POOL_ID='0x00000005dd3d2f4429af886cd1a3b08289dbcea99a294197e9eb43b0e0325b4b-0x04718f5a0fc34cc1af16a1cdee98ffb20c31f5cd61d6ab07201858f4287c938d-0x053c91253bc9682c04929ca02ed00b3e423f6710d2ee7e0d5ebb06f3ecf368a8-1020847100762815411640772995208708096-5982', TOKEN0_ADDRESS='0x04718f5a0fc34cc1af16a1cdee98ffb20c31f5cd61d6ab07201858f4287c938d', TOKEN1_ADDRESS='0x053c91253bc9682c04929ca02ed00b3e423f6710d2ee7e0d5ebb06f3ecf368a8', EVENT_NAME='Swap', FROM_ADDRESS='0x03266fe47923e1500aec0fa973df8093b5850bbce8dcd0666d3f47298b4b806e', TO_ADDRESS='0x00000005dd3d2f4429af886cd1a3b08289dbcea99a294197e9eb43b0e0325b4b', TOKEN0_RAW_AMOUNT=Decimal('-10000000000000000000000'), TOKEN0_DECIMALS=Decimal('18'), TOKEN0_REAL_AMOUNT=Decimal('-10000.000000000000000000000000000000'), TOKEN1_RAW_AMOUNT=Decimal('18927644337'), TOKEN1_DECIMALS=Decimal('6'), TOKEN1_REAL_AMOUNT=Decimal('18927.644337000001542037352919578552'), FEE_TIER=0.003000000026077032, LIQUIDITY_AMOUNT=Decimal('0'), LOWER_TICK=Decimal('0'), UPPER_TICK=Decimal('0'), SWAP_TICK=Decimal('-26990715'), TICK_SPACING=Decimal('5982'), price_low=1.0, price_high=1.0, capped_liquidity=0.0),\n",
       " Row(BLOCK_NUMBER=Decimal('581479'), BLOCK_TIMESTAMP=datetime.datetime(2024, 2, 24, 22, 3, 38), TX_HASH='0x01422cc5026c2a13c60cd2a136187e98721cd0d7543764f4178a7acf55284f32', TX_ID='5461067_0_581479_32', POOL_ID='0x00000005dd3d2f4429af886cd1a3b08289dbcea99a294197e9eb43b0e0325b4b-0x04718f5a0fc34cc1af16a1cdee98ffb20c31f5cd61d6ab07201858f4287c938d-0x053c91253bc9682c04929ca02ed00b3e423f6710d2ee7e0d5ebb06f3ecf368a8-1020847100762815411640772995208708096-5982', TOKEN0_ADDRESS='0x04718f5a0fc34cc1af16a1cdee98ffb20c31f5cd61d6ab07201858f4287c938d', TOKEN1_ADDRESS='0x053c91253bc9682c04929ca02ed00b3e423f6710d2ee7e0d5ebb06f3ecf368a8', EVENT_NAME='Swap', FROM_ADDRESS='0x03266fe47923e1500aec0fa973df8093b5850bbce8dcd0666d3f47298b4b806e', TO_ADDRESS='0x00000005dd3d2f4429af886cd1a3b08289dbcea99a294197e9eb43b0e0325b4b', TOKEN0_RAW_AMOUNT=Decimal('-10000000000000000000000'), TOKEN0_DECIMALS=Decimal('18'), TOKEN0_REAL_AMOUNT=Decimal('-10000.000000000000000000000000000000'), TOKEN1_RAW_AMOUNT=Decimal('18927644337'), TOKEN1_DECIMALS=Decimal('6'), TOKEN1_REAL_AMOUNT=Decimal('18927.644337000001542037352919578552'), FEE_TIER=0.003000000026077032, LIQUIDITY_AMOUNT=Decimal('0'), LOWER_TICK=Decimal('0'), UPPER_TICK=Decimal('0'), SWAP_TICK=Decimal('-26990715'), TICK_SPACING=Decimal('5982'), price_low=1.0, price_high=1.0, capped_liquidity=0.0),\n",
       " Row(BLOCK_NUMBER=Decimal('581485'), BLOCK_TIMESTAMP=datetime.datetime(2024, 2, 24, 22, 6, 14), TX_HASH='0x0487c917880ddf70cb6a1b15a041b86cef5cdbee963e17b654bdcad7fe924afa', TX_ID='5461067_0_581485_3', POOL_ID='0x00000005dd3d2f4429af886cd1a3b08289dbcea99a294197e9eb43b0e0325b4b-0x04718f5a0fc34cc1af16a1cdee98ffb20c31f5cd61d6ab07201858f4287c938d-0x053c91253bc9682c04929ca02ed00b3e423f6710d2ee7e0d5ebb06f3ecf368a8-34028236692093847977029636859101184-200', TOKEN0_ADDRESS='0x04718f5a0fc34cc1af16a1cdee98ffb20c31f5cd61d6ab07201858f4287c938d', TOKEN1_ADDRESS='0x053c91253bc9682c04929ca02ed00b3e423f6710d2ee7e0d5ebb06f3ecf368a8', EVENT_NAME='Swap', FROM_ADDRESS='0x04d6299f4280c68856e91626bb948283c30b44e9758f79a714be7be86026c820', TO_ADDRESS='0x00000005dd3d2f4429af886cd1a3b08289dbcea99a294197e9eb43b0e0325b4b', TOKEN0_RAW_AMOUNT=Decimal('-33078643346585547368'), TOKEN0_DECIMALS=Decimal('18'), TOKEN0_REAL_AMOUNT=Decimal('-33.078643346585543838500598212704'), TOKEN1_RAW_AMOUNT=Decimal('62705180'), TOKEN1_DECIMALS=Decimal('6'), TOKEN1_REAL_AMOUNT=Decimal('62.705179999999998585735738743097'), FEE_TIER=9.999999747378752e-05, LIQUIDITY_AMOUNT=Decimal('0'), LOWER_TICK=Decimal('0'), UPPER_TICK=Decimal('0'), SWAP_TICK=Decimal('-26991874'), TICK_SPACING=Decimal('200'), price_low=1.0, price_high=1.0, capped_liquidity=0.0)]"
      ]
     },
     "execution_count": 33,
     "metadata": {},
     "output_type": "execute_result"
    }
   ],
   "source": [
    "strk_usdc_pool = df_capped.filter(\n",
    "    ((F.col('TOKEN0_ADDRESS') == strk_address) & (F.col('TOKEN1_ADDRESS') == usdc_address)) |\n",
    "    (F.col('TOKEN0_ADDRESS') == usdc_address) & (F.col('TOKEN1_ADDRESS') == strk_address)\n",
    ")\n",
    "strk_usdc_pool.take(5)"
   ]
  },
  {
   "cell_type": "code",
   "execution_count": 36,
   "id": "4c8684bf-ab44-4be5-a789-f282bc0e4099",
   "metadata": {
    "tags": []
   },
   "outputs": [
    {
     "name": "stderr",
     "output_type": "stream",
     "text": [
      "                                                                                \r"
     ]
    },
    {
     "data": {
      "text/plain": [
       "[Row(BLOCK_NUMBER=Decimal('351649'), BLOCK_TIMESTAMP=datetime.datetime(2023, 10, 26, 5, 32, 59), TX_HASH='0x010294365cb23752815ae454effa44400fc8834c460978db25a35838a1fc128b', TX_ID='5461067_0_351649_123', POOL_ID='0x00000005dd3d2f4429af886cd1a3b08289dbcea99a294197e9eb43b0e0325b4b-0x049d36570d4e46f48e99674bd3fcc84644ddd6b96f7c741b1562b82f9e004dc7-0x053c91253bc9682c04929ca02ed00b3e423f6710d2ee7e0d5ebb06f3ecf368a8-170141183460469235273462165868118016-1000', TOKEN0_ADDRESS='0x049d36570d4e46f48e99674bd3fcc84644ddd6b96f7c741b1562b82f9e004dc7', TOKEN1_ADDRESS='0x053c91253bc9682c04929ca02ed00b3e423f6710d2ee7e0d5ebb06f3ecf368a8', EVENT_NAME='Mint', FROM_ADDRESS='0x058211a84d40a17b5b4fbc4cfbf95e622bad1fac17cdd055680504db12d2e1ed', TO_ADDRESS='0x00000005dd3d2f4429af886cd1a3b08289dbcea99a294197e9eb43b0e0325b4b', TOKEN0_RAW_AMOUNT=Decimal('-10000000000000'), TOKEN0_DECIMALS=Decimal('18'), TOKEN0_REAL_AMOUNT=Decimal('-0.000010000000000000000818030539'), TOKEN1_RAW_AMOUNT=Decimal('0'), TOKEN1_DECIMALS=Decimal('6'), TOKEN1_REAL_AMOUNT=Decimal('0E-30'), FEE_TIER=0.0005000000237487257, LIQUIDITY_AMOUNT=Decimal('499991916768012'), LOWER_TICK=Decimal('-20000'), UPPER_TICK=Decimal('20000'), SWAP_TICK=Decimal('0'), TICK_SPACING=Decimal('1000'), price_low=0.9801986831103483, price_high=1.0202013298230708, capped_liquidity=1000000000.0),\n",
       " Row(BLOCK_NUMBER=Decimal('283921'), BLOCK_TIMESTAMP=datetime.datetime(2023, 10, 2, 10, 40, 24), TX_HASH='0x061f67ea48bee1e1e83fdcec0a3080e41cf997052a1510a0c59db556682eb030', TX_ID='5461067_0_283921_61', POOL_ID='0x00000005dd3d2f4429af886cd1a3b08289dbcea99a294197e9eb43b0e0325b4b-0x049d36570d4e46f48e99674bd3fcc84644ddd6b96f7c741b1562b82f9e004dc7-0x053c91253bc9682c04929ca02ed00b3e423f6710d2ee7e0d5ebb06f3ecf368a8-170141183460469235273462165868118016-1000', TOKEN0_ADDRESS='0x049d36570d4e46f48e99674bd3fcc84644ddd6b96f7c741b1562b82f9e004dc7', TOKEN1_ADDRESS='0x053c91253bc9682c04929ca02ed00b3e423f6710d2ee7e0d5ebb06f3ecf368a8', EVENT_NAME='Mint', FROM_ADDRESS='0x03c276626dae0604f710506f70fe9d40cf30ea59dcde8473d33b173008f1212c', TO_ADDRESS='0x00000005dd3d2f4429af886cd1a3b08289dbcea99a294197e9eb43b0e0325b4b', TOKEN0_RAW_AMOUNT=Decimal('-321500000000'), TOKEN0_DECIMALS=Decimal('18'), TOKEN0_REAL_AMOUNT=Decimal('-3.21500000000000013509484E-7'), TOKEN1_RAW_AMOUNT=Decimal('0'), TOKEN1_DECIMALS=Decimal('6'), TOKEN1_REAL_AMOUNT=Decimal('0E-30'), FEE_TIER=0.0005000000237487257, LIQUIDITY_AMOUNT=Decimal('669644676937910'), LOWER_TICK=Decimal('7439000'), UPPER_TICK=Decimal('7479000'), SWAP_TICK=Decimal('0'), TICK_SPACING=Decimal('1000'), price_low=1701.041993946738, price_high=1770.4627992384094, capped_liquidity=1000000000.0),\n",
       " Row(BLOCK_NUMBER=Decimal('283000'), BLOCK_TIMESTAMP=datetime.datetime(2023, 10, 2, 6, 21, 59), TX_HASH='0x064a8648d649f70a3905619abe273ce2ef16bfc2f3851670d7d00c2bf35b8131', TX_ID='5461067_0_283000_1', POOL_ID='0x00000005dd3d2f4429af886cd1a3b08289dbcea99a294197e9eb43b0e0325b4b-0x049d36570d4e46f48e99674bd3fcc84644ddd6b96f7c741b1562b82f9e004dc7-0x053c91253bc9682c04929ca02ed00b3e423f6710d2ee7e0d5ebb06f3ecf368a8-170141183460469235273462165868118016-1000', TOKEN0_ADDRESS='0x049d36570d4e46f48e99674bd3fcc84644ddd6b96f7c741b1562b82f9e004dc7', TOKEN1_ADDRESS='0x053c91253bc9682c04929ca02ed00b3e423f6710d2ee7e0d5ebb06f3ecf368a8', EVENT_NAME='Mint', FROM_ADDRESS='0x04a0fc57cbafddb030e63af86cae38443d77c922f0d20113ad606ded17c7be95', TO_ADDRESS='0x00000005dd3d2f4429af886cd1a3b08289dbcea99a294197e9eb43b0e0325b4b', TOKEN0_RAW_AMOUNT=Decimal('-100000000000000'), TOKEN0_DECIMALS=Decimal('18'), TOKEN0_REAL_AMOUNT=Decimal('-0.000100000000000000004792173602'), TOKEN1_RAW_AMOUNT=Decimal('0'), TOKEN1_DECIMALS=Decimal('6'), TOKEN1_REAL_AMOUNT=Decimal('0E-30'), FEE_TIER=0.0005000000237487257, LIQUIDITY_AMOUNT=Decimal('206524672635854219'), LOWER_TICK=Decimal('7422000'), UPPER_TICK=Decimal('7462000'), SWAP_TICK=Decimal('0'), TICK_SPACING=Decimal('1000'), price_low=1672.368707864973, price_high=1740.619334749975, capped_liquidity=1000000000.0),\n",
       " Row(BLOCK_NUMBER=Decimal('336975'), BLOCK_TIMESTAMP=datetime.datetime(2023, 10, 19, 19, 32, 52), TX_HASH='0x026c0ce3b6d44a308d0557fd42ec087dad419ba88b17b85cfc9d9fe43d1abc56', TX_ID='5461067_0_336975_80', POOL_ID='0x00000005dd3d2f4429af886cd1a3b08289dbcea99a294197e9eb43b0e0325b4b-0x049d36570d4e46f48e99674bd3fcc84644ddd6b96f7c741b1562b82f9e004dc7-0x053c91253bc9682c04929ca02ed00b3e423f6710d2ee7e0d5ebb06f3ecf368a8-0-1', TOKEN0_ADDRESS='0x049d36570d4e46f48e99674bd3fcc84644ddd6b96f7c741b1562b82f9e004dc7', TOKEN1_ADDRESS='0x053c91253bc9682c04929ca02ed00b3e423f6710d2ee7e0d5ebb06f3ecf368a8', EVENT_NAME='Mint', FROM_ADDRESS='0x02544b2f120cadec4cebacd16db21d638e02fb1ad3654d5a53a29f2bc2564ede', TO_ADDRESS='0x00000005dd3d2f4429af886cd1a3b08289dbcea99a294197e9eb43b0e0325b4b', TOKEN0_RAW_AMOUNT=Decimal('-10000000000000'), TOKEN0_DECIMALS=Decimal('18'), TOKEN0_REAL_AMOUNT=Decimal('-0.000010000000000000000818030539'), TOKEN1_RAW_AMOUNT=Decimal('0'), TOKEN1_DECIMALS=Decimal('6'), TOKEN1_REAL_AMOUNT=Decimal('0E-30'), FEE_TIER=0.0, LIQUIDITY_AMOUNT=Decimal('20000019657184474'), LOWER_TICK=Decimal('-13815517'), UPPER_TICK=Decimal('-13815516'), SWAP_TICK=Decimal('0'), TICK_SPACING=Decimal('1'), price_low=1.000000466854833e-06, price_high=1.0000014668552998e-06, capped_liquidity=1000000000.0),\n",
       " Row(BLOCK_NUMBER=Decimal('318879'), BLOCK_TIMESTAMP=datetime.datetime(2023, 10, 13, 10, 12, 21), TX_HASH='0x04ea90b41eb8ff52ae0d84687d6c0ef7f85ee5d069db2c2150a04eb0e1a7598e', TX_ID='5461067_0_318879_49', POOL_ID='0x00000005dd3d2f4429af886cd1a3b08289dbcea99a294197e9eb43b0e0325b4b-0x049d36570d4e46f48e99674bd3fcc84644ddd6b96f7c741b1562b82f9e004dc7-0x053c91253bc9682c04929ca02ed00b3e423f6710d2ee7e0d5ebb06f3ecf368a8-170141183460469235273462165868118016-1000', TOKEN0_ADDRESS='0x049d36570d4e46f48e99674bd3fcc84644ddd6b96f7c741b1562b82f9e004dc7', TOKEN1_ADDRESS='0x053c91253bc9682c04929ca02ed00b3e423f6710d2ee7e0d5ebb06f3ecf368a8', EVENT_NAME='Mint', FROM_ADDRESS='0x059693aad775648adb7b853f4ece3044f91a40b49e15e81c4c85e37598311d0c', TO_ADDRESS='0x00000005dd3d2f4429af886cd1a3b08289dbcea99a294197e9eb43b0e0325b4b', TOKEN0_RAW_AMOUNT=Decimal('-87500000000'), TOKEN0_DECIMALS=Decimal('18'), TOKEN0_REAL_AMOUNT=Decimal('-8.7499999999999996040460E-8'), TOKEN1_RAW_AMOUNT=Decimal('0'), TOKEN1_DECIMALS=Decimal('6'), TOKEN1_REAL_AMOUNT=Decimal('0E-30'), FEE_TIER=0.0005000000237487257, LIQUIDITY_AMOUNT=Decimal('171809880229963'), LOWER_TICK=Decimal('7321000'), UPPER_TICK=Decimal('7361000'), SWAP_TICK=Decimal('0'), TICK_SPACING=Decimal('1000'), price_low=1511.709394557631, price_high=1573.4033938302096, capped_liquidity=1000000000.0)]"
      ]
     },
     "execution_count": 36,
     "metadata": {},
     "output_type": "execute_result"
    }
   ],
   "source": [
    "eth_usdc_pool = df_capped.filter(\n",
    "    ((F.col('TOKEN0_ADDRESS') == eth_address) & (F.col('TOKEN1_ADDRESS') == usdc_address)) |\n",
    "    (F.col('TOKEN0_ADDRESS') == usdc_address) & (F.col('TOKEN1_ADDRESS') == eth_address)\n",
    ")\n",
    "eth_usdc_pool.take(5)"
   ]
  },
  {
   "cell_type": "code",
   "execution_count": 37,
   "id": "84be3efd-ebdd-44f8-956d-dbdccbe950e6",
   "metadata": {
    "tags": []
   },
   "outputs": [
    {
     "name": "stderr",
     "output_type": "stream",
     "text": [
      "[Stage 27:===========================================>              (3 + 1) / 4]\r"
     ]
    },
    {
     "name": "stdout",
     "output_type": "stream",
     "text": [
      "buy transactions count in eth/usdc pool: 39\n",
      "sell transactions count in eth/usdc pool: 6\n"
     ]
    },
    {
     "name": "stderr",
     "output_type": "stream",
     "text": [
      "                                                                                \r"
     ]
    }
   ],
   "source": [
    "buy_transactions_count = eth_usdc_pool.filter(F.col('EVENT_NAME') == 'Mint').count()\n",
    "sell_transactions_count = eth_usdc_pool.filter(F.col('EVENT_NAME') == 'Burn').count()\n",
    "print(f\"buy transactions count in eth/usdc pool: {buy_transactions_count}\")\n",
    "print(f\"sell transactions count in eth/usdc pool: {sell_transactions_count}\")"
   ]
  },
  {
   "cell_type": "code",
   "execution_count": 38,
   "id": "0b59ac9e-4ee2-4f13-91cb-80e3ee9340a6",
   "metadata": {
    "tags": []
   },
   "outputs": [
    {
     "name": "stderr",
     "output_type": "stream",
     "text": [
      "                                                                                \r"
     ]
    },
    {
     "name": "stdout",
     "output_type": "stream",
     "text": [
      "buy transactions count in strk/eth pool: 17347\n",
      "sell transactions count in strk/eth pool: 4476\n"
     ]
    },
    {
     "name": "stderr",
     "output_type": "stream",
     "text": [
      "                                                                                \r"
     ]
    }
   ],
   "source": [
    "buy_transactions_count = strk_eth_pool.filter(F.col('EVENT_NAME') == 'Mint').count()\n",
    "sell_transactions_count = strk_eth_pool.filter(F.col('EVENT_NAME') == 'Burn').count()\n",
    "print(f\"buy transactions count in strk/eth pool: {buy_transactions_count}\")\n",
    "print(f\"sell transactions count in strk/eth pool: {sell_transactions_count}\")"
   ]
  },
  {
   "cell_type": "code",
   "execution_count": 39,
   "id": "c374c83a-949e-4dbf-b40d-3ed0f4c21e70",
   "metadata": {
    "tags": []
   },
   "outputs": [
    {
     "name": "stderr",
     "output_type": "stream",
     "text": [
      "                                                                                \r"
     ]
    },
    {
     "name": "stdout",
     "output_type": "stream",
     "text": [
      "buy transactions count in strk/eth pool: 17347\n",
      "sell transactions count in strk/eth pool: 4476\n"
     ]
    },
    {
     "name": "stderr",
     "output_type": "stream",
     "text": [
      "                                                                                \r"
     ]
    }
   ],
   "source": [
    "buy_transactions_count = strk_eth_pool.filter(F.col('EVENT_NAME') == 'Mint').count()\n",
    "sell_transactions_count = strk_eth_pool.filter(F.col('EVENT_NAME') == 'Burn').count()\n",
    "print(f\"buy transactions count in strk/eth pool: {buy_transactions_count}\")\n",
    "print(f\"sell transactions count in strk/eth pool: {sell_transactions_count}\")"
   ]
  },
  {
   "cell_type": "markdown",
   "id": "ce830f95-8c1c-47a6-ad9d-30685cbbadbf",
   "metadata": {},
   "source": [
    "## Calculate the cumulative liquidity for each pool  "
   ]
  },
  {
   "cell_type": "code",
   "execution_count": 40,
   "id": "3ae302b0-11a3-4926-a92e-11e07aa37b82",
   "metadata": {
    "tags": []
   },
   "outputs": [
    {
     "name": "stderr",
     "output_type": "stream",
     "text": [
      "[Stage 42:===========================================>              (3 + 1) / 4]\r"
     ]
    },
    {
     "name": "stdout",
     "output_type": "stream",
     "text": [
      "+------------+-------------------+--------------------+-------------------+--------------------+--------------------+--------------------+----------+--------------------+--------------------+--------------------+---------------+--------------------+-----------------+---------------+--------------------+--------+----------------+----------+----------+---------+------------+------------------+------------------+----------------+\n",
      "|BLOCK_NUMBER|    BLOCK_TIMESTAMP|             TX_HASH|              TX_ID|             POOL_ID|      TOKEN0_ADDRESS|      TOKEN1_ADDRESS|EVENT_NAME|        FROM_ADDRESS|          TO_ADDRESS|   TOKEN0_RAW_AMOUNT|TOKEN0_DECIMALS|  TOKEN0_REAL_AMOUNT|TOKEN1_RAW_AMOUNT|TOKEN1_DECIMALS|  TOKEN1_REAL_AMOUNT|FEE_TIER|LIQUIDITY_AMOUNT|LOWER_TICK|UPPER_TICK|SWAP_TICK|TICK_SPACING|         price_low|        price_high|capped_liquidity|\n",
      "+------------+-------------------+--------------------+-------------------+--------------------+--------------------+--------------------+----------+--------------------+--------------------+--------------------+---------------+--------------------+-----------------+---------------+--------------------+--------+----------------+----------+----------+---------+------------+------------------+------------------+----------------+\n",
      "|      567360|2024-02-22 02:38:32|0x07cb0d586fd5375...| 5461067_0_567360_4|0x00000005dd3d2f4...|0x04718f5a0fc34cc...|0x053c91253bc9682...|      Mint|0x0395211ec88e0a6...|0x00000005dd3d2f4...|           -89999999|             18|-8.99999990000000...|        -89999999|              6|-89.9999990000000...|    0.05|       168699882|  -1524960|   1524960|        0|       95310|0.2176299278472025|4.5949562631022784|    1.68699882E8|\n",
      "|      567634|2024-02-22 04:40:22|0x01d23057d7c32dc...| 5461067_0_567634_0|0x00000005dd3d2f4...|0x04718f5a0fc34cc...|0x053c91253bc9682...|      Burn|0x0395211ec88e0a6...|0x00000005dd3d2f4...|           268776506|             18|2.687765060000000...|                0|              6|               0E-30|    0.05|      -168699882|  -1524960|   1524960|        0|       95310|0.2176299278472025|4.5949562631022784|   -1.68699882E8|\n",
      "|      581479|2024-02-24 22:03:38|0x01422cc5026c2a1...|5461067_0_581479_32|0x00000005dd3d2f4...|0x04718f5a0fc34cc...|0x053c91253bc9682...|      Swap|0x03266fe47923e15...|0x00000005dd3d2f4...|-1000000000000000...|             18|-10000.0000000000...|      18927644337|              6|18927.64433700000...|   0.003|               0|         0|         0|-26990715|        5982|               1.0|               1.0|             0.0|\n",
      "|      564263|2024-02-21 10:18:13|0x024daca9d3fe8d1...|5461067_0_564263_20|0x00000005dd3d2f4...|0x04718f5a0fc34cc...|0x053c91253bc9682...|      Swap|0x04270219d365d6b...|0x00000005dd3d2f4...|-1656000000000000...|             18|-1656.00000000000...|       3094153127|              6|3094.153127000000...|   0.003|               0|         0|         0|-27005115|        5982|               1.0|               1.0|             0.0|\n",
      "|      581479|2024-02-24 22:03:38|0x01422cc5026c2a1...|5461067_0_581479_32|0x00000005dd3d2f4...|0x04718f5a0fc34cc...|0x053c91253bc9682...|      Swap|0x03266fe47923e15...|0x00000005dd3d2f4...|-1000000000000000...|             18|-10000.0000000000...|      18927644337|              6|18927.64433700000...|   0.003|               0|         0|         0|-26990715|        5982|               1.0|               1.0|             0.0|\n",
      "+------------+-------------------+--------------------+-------------------+--------------------+--------------------+--------------------+----------+--------------------+--------------------+--------------------+---------------+--------------------+-----------------+---------------+--------------------+--------+----------------+----------+----------+---------+------------+------------------+------------------+----------------+\n",
      "only showing top 5 rows\n",
      "\n"
     ]
    },
    {
     "name": "stderr",
     "output_type": "stream",
     "text": [
      "                                                                                \r"
     ]
    }
   ],
   "source": [
    "from pyspark.sql.functions import col\n",
    "\n",
    "strk_usdc_pool_with_prices = strk_usdc_pool.withColumn(\"price_low\", tick_to_price_udf(\"LOWER_TICK\"))\\\n",
    "                   .withColumn(\"price_high\", tick_to_price_udf(\"UPPER_TICK\"))\n",
    "\n",
    "strk_usdc_pool_sorted = strk_usdc_pool_with_prices.orderBy(col('price_low'))\n",
    "strk_usdc_pool_sorted.show(5)"
   ]
  },
  {
   "cell_type": "code",
   "execution_count": 41,
   "id": "768c3a56-57eb-42bf-aef3-298600a2cfc9",
   "metadata": {
    "tags": []
   },
   "outputs": [
    {
     "name": "stderr",
     "output_type": "stream",
     "text": [
      "24/03/13 05:42:06 WARN WindowExec: No Partition Defined for Window operation! Moving all data to a single partition, this can cause serious performance degradation.\n",
      "24/03/13 05:42:06 WARN WindowExec: No Partition Defined for Window operation! Moving all data to a single partition, this can cause serious performance degradation.\n",
      "24/03/13 05:42:10 WARN WindowExec: No Partition Defined for Window operation! Moving all data to a single partition, this can cause serious performance degradation.\n",
      "24/03/13 05:42:10 WARN WindowExec: No Partition Defined for Window operation! Moving all data to a single partition, this can cause serious performance degradation.\n",
      "24/03/13 05:42:11 WARN WindowExec: No Partition Defined for Window operation! Moving all data to a single partition, this can cause serious performance degradation.\n",
      "24/03/13 05:42:11 WARN WindowExec: No Partition Defined for Window operation! Moving all data to a single partition, this can cause serious performance degradation.\n",
      "24/03/13 05:42:12 WARN WindowExec: No Partition Defined for Window operation! Moving all data to a single partition, this can cause serious performance degradation.\n",
      "24/03/13 05:42:12 WARN WindowExec: No Partition Defined for Window operation! Moving all data to a single partition, this can cause serious performance degradation.\n",
      "24/03/13 05:42:15 WARN WindowExec: No Partition Defined for Window operation! Moving all data to a single partition, this can cause serious performance degradation.\n",
      "24/03/13 05:42:15 WARN WindowExec: No Partition Defined for Window operation! Moving all data to a single partition, this can cause serious performance degradation.\n",
      "24/03/13 05:42:15 WARN WindowExec: No Partition Defined for Window operation! Moving all data to a single partition, this can cause serious performance degradation.\n",
      "24/03/13 05:42:15 WARN WindowExec: No Partition Defined for Window operation! Moving all data to a single partition, this can cause serious performance degradation.\n",
      "                                                                                \r"
     ]
    }
   ],
   "source": [
    "from pyspark.sql import Window\n",
    "from pyspark.sql.functions import col, sum as _sum\n",
    "\n",
    "# Assuming you have a Spark DataFrame `df` with the columns `price_low`, `price_high`, and `LIQUIDITY_AMOUNT`\n",
    "\n",
    "# Calculate cumulative liquidity for price_low (buy orders)\n",
    "windowSpecBuy = Window.orderBy(col('price_low')).rowsBetween(Window.unboundedPreceding, Window.currentRow)\n",
    "strk_usdc_pool_sorted = strk_usdc_pool_sorted.withColumn('Cumulative_Liquidity_Buy', _sum('LIQUIDITY_AMOUNT').over(windowSpecBuy))\n",
    "\n",
    "# Calculate cumulative liquidity for price_high (sell orders)\n",
    "windowSpecSell = Window.orderBy(col('price_high').desc()).rowsBetween(Window.unboundedPreceding, Window.currentRow)\n",
    "strk_usdc_pool_sorted = strk_usdc_pool_sorted.withColumn('Cumulative_Liquidity_Sell', _sum('LIQUIDITY_AMOUNT').over(windowSpecSell))\n",
    "\n",
    "# Now you have two new columns: `Cumulative_Liquidity_Buy` and `Cumulative_Liquidity_Sell`\n",
    "# Next, you'd collect the data to your local environment\n",
    "buy_orders = strk_usdc_pool_sorted.select('price_low', 'Cumulative_Liquidity_Buy').sort('price_low').toPandas()\n",
    "sell_orders = strk_usdc_pool_sorted.select('price_high', 'Cumulative_Liquidity_Sell').sort('price_high', ascending=False).toPandas()\n"
   ]
  },
  {
   "cell_type": "markdown",
   "id": "5bed0e4c-75ef-40d3-9c9e-075ae5a3fe18",
   "metadata": {},
   "source": [
    "## Market Depth Analysis:\n",
    "- Calculate market depth for the Ekubo Protocol for STRK/ETH, STRK/USDC, ETH/USDC, USDC/USDT pools."
   ]
  },
  {
   "cell_type": "code",
   "execution_count": 42,
   "id": "44c0da87-5960-40bc-8d18-d04cef325248",
   "metadata": {
    "tags": []
   },
   "outputs": [
    {
     "name": "stdout",
     "output_type": "stream",
     "text": [
      "+----------+----------+--------------------+--------------------+\n",
      "|LOWER_TICK|UPPER_TICK|           price_low|          price_high|\n",
      "+----------+----------+--------------------+--------------------+\n",
      "|    -20000|     20000|  0.9801986831103483|  1.0202013298230708|\n",
      "|    -20000|     20000|  0.9801986831103483|  1.0202013298230708|\n",
      "| -20284000| -20244000|1.551583435245099...|1.614904724158150...|\n",
      "| -20279000| -20239000|1.559360775680326...|1.622999463715774...|\n",
      "|    -20000|     20000|  0.9801986831103483|  1.0202013298230708|\n",
      "|    -20000|     20000|  0.9801986831103483|  1.0202013298230708|\n",
      "| -20287000| -20247000|1.546935662408715E-9|1.610067272210807...|\n",
      "| -20287000| -20247000|1.546935662408715E-9|1.610067272210807...|\n",
      "| -20275000| -20235000|1.565610707187346...|1.629504459636125E-9|\n",
      "| -20279000| -20243000|1.559360775680326...|1.616520435795496E-9|\n",
      "| -29935000| -29934000|9.98622129012372E-14|9.996212501190351...|\n",
      "| -20281000| -20241000|1.556245172328908...|1.619756710244375...|\n",
      "| -20274000| -20234000|1.567177100177171...|1.631134778303941...|\n",
      "| -20285000| -20245000|1.550032628118183...|1.613290627424048...|\n",
      "|    -20000|     20000|  0.9801986831103483|  1.0202013298230708|\n",
      "| -20352000| -20164000|1.449583124300548...|1.749405333220039...|\n",
      "| -20298000| -20258000|1.530012625925971...|1.592453593859848...|\n",
      "| -20298000| -20258000|1.530012625925971...|1.592453593859848...|\n",
      "| -20285000| -20245000|1.550032628118183...|1.613290627424048...|\n",
      "|    -20000|     20000|  0.9801986831103483|  1.0202013298230708|\n",
      "+----------+----------+--------------------+--------------------+\n",
      "only showing top 20 rows\n",
      "\n"
     ]
    }
   ],
   "source": [
    "from pyspark.sql.functions import udf\n",
    "from pyspark.sql.types import DoubleType\n",
    "\n",
    "def tick_to_price(tick):\n",
    "    # Convert Decimal tick to float before performing the operation\n",
    "    return 1.000001 ** float(tick)\n",
    "\n",
    "\n",
    "# register UDF\n",
    "tick_to_price_udf = udf(tick_to_price, DoubleType())\n",
    "\n",
    "# apply UDF\n",
    "df_with_prices = df.withColumn(\"price_low\", tick_to_price_udf(\"LOWER_TICK\"))\\\n",
    "                   .withColumn(\"price_high\", tick_to_price_udf(\"UPPER_TICK\"))\n",
    "\n",
    "df_with_prices.select(\"LOWER_TICK\", \"UPPER_TICK\", \"price_low\", \"price_high\").show()\n"
   ]
  },
  {
   "cell_type": "code",
   "execution_count": 43,
   "id": "206751c8-5179-4ebd-acfe-4351b1463e99",
   "metadata": {
    "tags": []
   },
   "outputs": [
    {
     "data": {
      "image/png": "[encoded data removed]",
      "text/plain": [
       "<Figure size 640x480 with 1 Axes>"
      ]
     },
     "metadata": {},
     "output_type": "display_data"
    }
   ],
   "source": [
    "import matplotlib.pyplot as plt\n",
    "\n",
    "# Plot buy orders\n",
    "plt.plot(buy_orders['price_low'], buy_orders['Cumulative_Liquidity_Buy'], label='Buy Orders')\n",
    "\n",
    "# Plot sell orders\n",
    "plt.plot(sell_orders['price_high'], sell_orders['Cumulative_Liquidity_Sell'], label='Sell Orders')\n",
    "\n",
    "plt.fill_between(buy_orders['price_low'], 0, buy_orders['Cumulative_Liquidity_Buy'], color='green', alpha=0.3)\n",
    "plt.fill_between(sell_orders['price_high'], 0, sell_orders['Cumulative_Liquidity_Sell'], color='red', alpha=0.3)\n",
    "\n",
    "# Labels and Legend\n",
    "plt.xlabel('Price')\n",
    "plt.ylabel('Cumulative Liquidity')\n",
    "plt.title('Market Depth Chart for strk/usdc pool')\n",
    "plt.legend()\n",
    "\n",
    "# Display the plot\n",
    "plt.show()"
   ]
  },
  {
   "cell_type": "code",
   "execution_count": 44,
   "id": "d359a470-b607-41f3-bb2d-ba2a4b8b087c",
   "metadata": {
    "tags": []
   },
   "outputs": [],
   "source": [
    "eth_usdc_pool_with_prices = eth_usdc_pool.withColumn(\"price_low\", tick_to_price_udf(\"LOWER_TICK\"))\\\n",
    "                                         .withColumn(\"price_high\", tick_to_price_udf(\"UPPER_TICK\"))\n",
    "\n",
    "strk_eth_pool_with_prices = strk_eth_pool.withColumn(\"price_low\", tick_to_price_udf(\"LOWER_TICK\"))\\\n",
    "                                         .withColumn(\"price_high\", tick_to_price_udf(\"UPPER_TICK\"))\n"
   ]
  },
  {
   "cell_type": "code",
   "execution_count": 45,
   "id": "2721ec51-7e95-47fa-ba24-5fc4eff0ce7f",
   "metadata": {
    "tags": []
   },
   "outputs": [],
   "source": [
    "# Create window specifications for cumulative liquidity calculations\n",
    "windowSpecBuy = Window.orderBy(col('price_low')).rowsBetween(Window.unboundedPreceding, Window.currentRow)\n",
    "windowSpecSell = Window.orderBy(col('price_high').desc()).rowsBetween(Window.unboundedPreceding, Window.currentRow)\n"
   ]
  },
  {
   "cell_type": "code",
   "execution_count": 46,
   "id": "2db005f0-5849-41c0-9992-f1de0eb2dfe0",
   "metadata": {
    "tags": []
   },
   "outputs": [],
   "source": [
    "# Calculate cumulative liquidity for buy and sell orders in each pool\n",
    "eth_usdc_pool_sorted = eth_usdc_pool_with_prices.withColumn('Cumulative_Liquidity_Buy', _sum('LIQUIDITY_AMOUNT').over(windowSpecBuy))\\\n",
    "                                                .withColumn('Cumulative_Liquidity_Sell', _sum('LIQUIDITY_AMOUNT').over(windowSpecSell))\n",
    "\n",
    "strk_eth_pool_sorted = strk_eth_pool_with_prices.withColumn('Cumulative_Liquidity_Buy', _sum('LIQUIDITY_AMOUNT').over(windowSpecBuy))\\\n",
    "                                                .withColumn('Cumulative_Liquidity_Sell', _sum('LIQUIDITY_AMOUNT').over(windowSpecSell))\n"
   ]
  },
  {
   "cell_type": "code",
   "execution_count": 54,
   "id": "c971fa54-90b0-46d1-a782-efe8cc2c1da1",
   "metadata": {
    "tags": []
   },
   "outputs": [
    {
     "data": {
      "text/plain": [
       "DataFrame[BLOCK_NUMBER: decimal(38,0), BLOCK_TIMESTAMP: timestamp, TX_HASH: string, TX_ID: string, POOL_ID: string, TOKEN0_ADDRESS: string, TOKEN1_ADDRESS: string, EVENT_NAME: string, FROM_ADDRESS: string, TO_ADDRESS: string, TOKEN0_RAW_AMOUNT: decimal(38,0), TOKEN0_DECIMALS: decimal(2,0), TOKEN0_REAL_AMOUNT: decimal(38,30), TOKEN1_RAW_AMOUNT: decimal(38,0), TOKEN1_DECIMALS: decimal(2,0), TOKEN1_REAL_AMOUNT: decimal(38,30), FEE_TIER: float, LIQUIDITY_AMOUNT: decimal(38,0), LOWER_TICK: decimal(38,0), UPPER_TICK: decimal(38,0), SWAP_TICK: decimal(38,0), TICK_SPACING: decimal(38,0), price_low: double, price_high: double, capped_liquidity: double, Cumulative_Liquidity_Buy: decimal(38,0), Cumulative_Liquidity_Sell: decimal(38,0)]"
      ]
     },
     "execution_count": 54,
     "metadata": {},
     "output_type": "execute_result"
    }
   ],
   "source": [
    "strk_eth_pool_sorted"
   ]
  },
  {
   "cell_type": "code",
   "execution_count": 55,
   "id": "a3267cf9-e420-438d-b349-4371404f5a9e",
   "metadata": {
    "tags": []
   },
   "outputs": [
    {
     "data": {
      "text/plain": [
       "DataFrame[BLOCK_NUMBER: decimal(38,0), BLOCK_TIMESTAMP: timestamp, TX_HASH: string, TX_ID: string, POOL_ID: string, TOKEN0_ADDRESS: string, TOKEN1_ADDRESS: string, EVENT_NAME: string, FROM_ADDRESS: string, TO_ADDRESS: string, TOKEN0_RAW_AMOUNT: decimal(38,0), TOKEN0_DECIMALS: decimal(2,0), TOKEN0_REAL_AMOUNT: decimal(38,30), TOKEN1_RAW_AMOUNT: decimal(38,0), TOKEN1_DECIMALS: decimal(2,0), TOKEN1_REAL_AMOUNT: decimal(38,30), FEE_TIER: float, LIQUIDITY_AMOUNT: decimal(38,0), LOWER_TICK: decimal(38,0), UPPER_TICK: decimal(38,0), SWAP_TICK: decimal(38,0), TICK_SPACING: decimal(38,0), price_low: double, price_high: double, capped_liquidity: double, Cumulative_Liquidity_Buy: decimal(38,0), Cumulative_Liquidity_Sell: decimal(38,0)]"
      ]
     },
     "execution_count": 55,
     "metadata": {},
     "output_type": "execute_result"
    }
   ],
   "source": [
    "eth_usdc_pool_sorted"
   ]
  },
  {
   "cell_type": "code",
   "execution_count": 47,
   "id": "4f21534e-1125-4dee-b623-df0a035f8d74",
   "metadata": {
    "tags": []
   },
   "outputs": [
    {
     "name": "stderr",
     "output_type": "stream",
     "text": [
      "24/03/13 05:42:19 WARN WindowExec: No Partition Defined for Window operation! Moving all data to a single partition, this can cause serious performance degradation.\n",
      "24/03/13 05:42:19 WARN WindowExec: No Partition Defined for Window operation! Moving all data to a single partition, this can cause serious performance degradation.\n",
      "24/03/13 05:42:30 WARN WindowExec: No Partition Defined for Window operation! Moving all data to a single partition, this can cause serious performance degradation.\n",
      "24/03/13 05:42:30 WARN WindowExec: No Partition Defined for Window operation! Moving all data to a single partition, this can cause serious performance degradation.\n",
      "24/03/13 05:42:42 WARN WindowExec: No Partition Defined for Window operation! Moving all data to a single partition, this can cause serious performance degradation.\n",
      "24/03/13 05:42:42 WARN WindowExec: No Partition Defined for Window operation! Moving all data to a single partition, this can cause serious performance degradation.\n",
      "24/03/13 05:42:53 WARN WindowExec: No Partition Defined for Window operation! Moving all data to a single partition, this can cause serious performance degradation.\n",
      "24/03/13 05:42:53 WARN WindowExec: No Partition Defined for Window operation! Moving all data to a single partition, this can cause serious performance degradation.\n",
      "24/03/13 05:43:04 WARN WindowExec: No Partition Defined for Window operation! Moving all data to a single partition, this can cause serious performance degradation.\n",
      "24/03/13 05:43:04 WARN WindowExec: No Partition Defined for Window operation! Moving all data to a single partition, this can cause serious performance degradation.\n",
      "24/03/13 05:43:06 WARN WindowExec: No Partition Defined for Window operation! Moving all data to a single partition, this can cause serious performance degradation.\n",
      "24/03/13 05:43:06 WARN WindowExec: No Partition Defined for Window operation! Moving all data to a single partition, this can cause serious performance degradation.\n",
      "24/03/13 05:43:07 WARN WindowExec: No Partition Defined for Window operation! Moving all data to a single partition, this can cause serious performance degradation.\n",
      "24/03/13 05:43:07 WARN WindowExec: No Partition Defined for Window operation! Moving all data to a single partition, this can cause serious performance degradation.\n",
      "24/03/13 05:43:09 WARN WindowExec: No Partition Defined for Window operation! Moving all data to a single partition, this can cause serious performance degradation.\n",
      "24/03/13 05:43:09 WARN WindowExec: No Partition Defined for Window operation! Moving all data to a single partition, this can cause serious performance degradation.\n",
      "                                                                                \r"
     ]
    }
   ],
   "source": [
    "# Collect data for plotting\n",
    "eth_usdc_buy_orders = eth_usdc_pool_sorted.select('price_low', 'Cumulative_Liquidity_Buy').sort('price_low').toPandas()\n",
    "eth_usdc_sell_orders = eth_usdc_pool_sorted.select('price_high', 'Cumulative_Liquidity_Sell').sort('price_high', ascending=False).toPandas()\n",
    "\n",
    "strk_eth_buy_orders = strk_eth_pool_sorted.select('price_low', 'Cumulative_Liquidity_Buy').sort('price_low').toPandas()\n",
    "strk_eth_sell_orders = strk_eth_pool_sorted.select('price_high', 'Cumulative_Liquidity_Sell').sort('price_high', ascending=False).toPandas()\n"
   ]
  },
  {
   "cell_type": "code",
   "execution_count": 48,
   "id": "e51c3c61-3efd-4029-a93e-6e8e7ee9a72d",
   "metadata": {
    "tags": []
   },
   "outputs": [
    {
     "data": {
      "image/png": "[encoded data removed]",
      "text/plain": [
       "<Figure size 1200x700 with 1 Axes>"
      ]
     },
     "metadata": {},
     "output_type": "display_data"
    }
   ],
   "source": [
    "# Plot for ETH/USDC\n",
    "plt.figure(figsize=(12, 7))\n",
    "plt.plot(eth_usdc_buy_orders['price_low'], eth_usdc_buy_orders['Cumulative_Liquidity_Buy'], label='ETH/USDC Buy Orders', color='blue')\n",
    "plt.plot(eth_usdc_sell_orders['price_high'], eth_usdc_sell_orders['Cumulative_Liquidity_Sell'], label='ETH/USDC Sell Orders', color='orange')\n",
    "plt.xlabel('Price')\n",
    "plt.ylabel('Cumulative Liquidity')\n",
    "plt.title('ETH/USDC Market Depth Chart')\n",
    "plt.legend()\n",
    "plt.show()"
   ]
  },
  {
   "cell_type": "code",
   "execution_count": 49,
   "id": "b6f0328b-6b39-4050-8dfd-06d137641beb",
   "metadata": {
    "tags": []
   },
   "outputs": [
    {
     "data": {
      "image/png": "[encoded data removed]",
      "text/plain": [
       "<Figure size 1200x700 with 1 Axes>"
      ]
     },
     "metadata": {},
     "output_type": "display_data"
    }
   ],
   "source": [
    "# Plot for STRK/ETH\n",
    "plt.figure(figsize=(12, 7))\n",
    "plt.plot(strk_eth_buy_orders['price_low'], strk_eth_buy_orders['Cumulative_Liquidity_Buy'], label='STRK/ETH Buy Orders', color='blue')\n",
    "plt.plot(strk_eth_sell_orders['price_high'], strk_eth_sell_orders['Cumulative_Liquidity_Sell'], label='STRK/ETH Sell Orders', color='orange')\n",
    "plt.xlabel('Price')\n",
    "plt.ylabel('Cumulative Liquidity')\n",
    "plt.title('STRK/ETH Market Depth Chart')\n",
    "plt.legend()\n",
    "plt.show()\n"
   ]
  },
  {
   "cell_type": "code",
   "execution_count": 50,
   "id": "ea47d0f0-8a28-444e-9fc6-811150b5f41b",
   "metadata": {
    "tags": []
   },
   "outputs": [],
   "source": [
    "eth_usdc_buy_orders_filtered = eth_usdc_buy_orders[(eth_usdc_buy_orders['price_low'] >= 1000) & (eth_usdc_buy_orders['price_low'] <= 3000)]\n",
    "eth_usdc_sell_orders_filtered = eth_usdc_sell_orders[(eth_usdc_sell_orders['price_high'] >= 1000) & (eth_usdc_sell_orders['price_high'] <= 3000)]\n",
    "\n",
    "strk_eth_buy_orders_filtered = strk_eth_buy_orders[strk_eth_buy_orders['price_low'] <= 10000]\n",
    "strk_eth_sell_orders_filtered = strk_eth_sell_orders[strk_eth_sell_orders['price_high'] <= 10000]\n"
   ]
  },
  {
   "cell_type": "code",
   "execution_count": 51,
   "id": "db92c057-d997-4b86-b9d5-e0e975ad0738",
   "metadata": {
    "tags": []
   },
   "outputs": [
    {
     "data": {
      "image/png": "[encoded data removed]",
      "text/plain": [
       "<Figure size 1000x600 with 1 Axes>"
      ]
     },
     "metadata": {},
     "output_type": "display_data"
    }
   ],
   "source": [
    "# Plot for ETH/USDC\n",
    "plt.figure(figsize=(10, 6))\n",
    "plt.plot(eth_usdc_buy_orders_filtered['price_low'], eth_usdc_buy_orders_filtered['Cumulative_Liquidity_Buy'], label='ETH/USDC Buy Orders', color='blue')\n",
    "plt.plot(eth_usdc_sell_orders_filtered['price_high'], eth_usdc_sell_orders_filtered['Cumulative_Liquidity_Sell'], label='ETH/USDC Sell Orders', color='orange')\n",
    "\n",
    "# Labels and Legend\n",
    "plt.xlabel('Price')\n",
    "plt.ylabel('Cumulative Liquidity')\n",
    "plt.title('ETH/USDC Market Depth Chart (Price: 2000-2500)')\n",
    "plt.legend()\n",
    "plt.xlim(1500, 2500)  # Limit x-axis to 2000-2500 price range\n",
    "plt.yscale('log')     # Optional: Use logarithmic scale for y-axis if needed\n",
    "plt.show()"
   ]
  },
  {
   "cell_type": "code",
   "execution_count": 52,
   "id": "1bbe1372-00fd-4ef3-9019-7a557f66650c",
   "metadata": {
    "tags": []
   },
   "outputs": [
    {
     "data": {
      "image/png": "[encoded data removed]",
      "text/plain": [
       "<Figure size 1000x600 with 1 Axes>"
      ]
     },
     "metadata": {},
     "output_type": "display_data"
    }
   ],
   "source": [
    "# Plot for STRK/ETH\n",
    "plt.figure(figsize=(10, 6))\n",
    "plt.plot(strk_eth_buy_orders_filtered['price_low'], strk_eth_buy_orders_filtered['Cumulative_Liquidity_Buy'], label='STRK/ETH Buy Orders', color='blue')\n",
    "plt.plot(strk_eth_sell_orders_filtered['price_high'], strk_eth_sell_orders_filtered['Cumulative_Liquidity_Sell'], label='STRK/ETH Sell Orders', color='orange')\n",
    "\n",
    "# Labels and Legend\n",
    "plt.xlabel('Price')\n",
    "plt.ylabel('Cumulative Liquidity')\n",
    "plt.title('STRK/ETH Market Depth Chart (Price: 0-10000)')\n",
    "plt.legend()\n",
    "plt.xlim(0, 2000)    # Limit x-axis to 0-10000 price range\n",
    "plt.yscale('log')     # Optional: Use logarithmic scale for y-axis if needed\n",
    "plt.show()\n"
   ]
  },
  {
   "cell_type": "code",
   "execution_count": 53,
   "id": "c5893918-8639-43ef-b558-b7961812a415",
   "metadata": {
    "tags": []
   },
   "outputs": [
    {
     "data": {
      "image/png": "[encoded data removed]",
      "text/plain": [
       "<Figure size 640x480 with 1 Axes>"
      ]
     },
     "metadata": {},
     "output_type": "display_data"
    }
   ],
   "source": [
    "# Create scatter plots\n",
    "plt.scatter(eth_usdc_buy_orders_filtered['price_low'], np.log10(eth_usdc_buy_orders_filtered['Cumulative_Liquidity_Buy']), color='blue', label='ETH/USDC Buy Orders')\n",
    "plt.scatter(eth_usdc_sell_orders_filtered['price_high'], np.log10(eth_usdc_sell_orders_filtered['Cumulative_Liquidity_Sell']), color='orange', label='ETH/USDC Sell Orders')\n",
    "\n",
    "# Labels and legend\n",
    "plt.xlabel('Price')\n",
    "plt.ylabel('Log Cumulative Liquidity')\n",
    "plt.title('ETH/USDC Market Depth Chart (Price: 2000-2500)')\n",
    "plt.legend()\n",
    "\n",
    "# Show the plot\n",
    "plt.show()"
   ]
  },
  {
   "cell_type": "code",
   "execution_count": null,
   "id": "0dd4420c-66bc-482e-966d-4cb7bb4879f9",
   "metadata": {},
   "outputs": [],
   "source": []
  },
  {
   "cell_type": "markdown",
   "id": "1e105660-2e9a-461c-807f-33e49db9dccf",
   "metadata": {},
   "source": [
    "## Profit and Loss (PnL) Calculations:\n",
    "\n",
    "- From the event data, calculate the PnL for a set of hypothetical positions of the most profitable LPs. Detail your approach and the outcomes of these calculations.\n"
   ]
  },
  {
   "cell_type": "code",
   "execution_count": null,
   "id": "8cd90f11-97c6-483c-ad06-d5111e396be2",
   "metadata": {},
   "outputs": [],
   "source": []
  },
  {
   "cell_type": "code",
   "execution_count": null,
   "id": "5a171dc4-0e53-4b63-bb40-a7926880a700",
   "metadata": {},
   "outputs": [],
   "source": []
  }
 ],
 "metadata": {
  "availableInstances": [
   {
    "_defaultOrder": 0,
    "_isFastLaunch": true,
    "category": "General purpose",
    "gpuNum": 0,
    "hideHardwareSpecs": false,
    "memoryGiB": 4,
    "name": "ml.t3.medium",
    "vcpuNum": 2
   },
   {
    "_defaultOrder": 1,
    "_isFastLaunch": false,
    "category": "General purpose",
    "gpuNum": 0,
    "hideHardwareSpecs": false,
    "memoryGiB": 8,
    "name": "ml.t3.large",
    "vcpuNum": 2
   },
   {
    "_defaultOrder": 2,
    "_isFastLaunch": false,
    "category": "General purpose",
    "gpuNum": 0,
    "hideHardwareSpecs": false,
    "memoryGiB": 16,
    "name": "ml.t3.xlarge",
    "vcpuNum": 4
   },
   {
    "_defaultOrder": 3,
    "_isFastLaunch": false,
    "category": "General purpose",
    "gpuNum": 0,
    "hideHardwareSpecs": false,
    "memoryGiB": 32,
    "name": "ml.t3.2xlarge",
    "vcpuNum": 8
   },
   {
    "_defaultOrder": 4,
    "_isFastLaunch": true,
    "category": "General purpose",
    "gpuNum": 0,
    "hideHardwareSpecs": false,
    "memoryGiB": 8,
    "name": "ml.m5.large",
    "vcpuNum": 2
   },
   {
    "_defaultOrder": 5,
    "_isFastLaunch": false,
    "category": "General purpose",
    "gpuNum": 0,
    "hideHardwareSpecs": false,
    "memoryGiB": 16,
    "name": "ml.m5.xlarge",
    "vcpuNum": 4
   },
   {
    "_defaultOrder": 6,
    "_isFastLaunch": false,
    "category": "General purpose",
    "gpuNum": 0,
    "hideHardwareSpecs": false,
    "memoryGiB": 32,
    "name": "ml.m5.2xlarge",
    "vcpuNum": 8
   },
   {
    "_defaultOrder": 7,
    "_isFastLaunch": false,
    "category": "General purpose",
    "gpuNum": 0,
    "hideHardwareSpecs": false,
    "memoryGiB": 64,
    "name": "ml.m5.4xlarge",
    "vcpuNum": 16
   },
   {
    "_defaultOrder": 8,
    "_isFastLaunch": false,
    "category": "General purpose",
    "gpuNum": 0,
    "hideHardwareSpecs": false,
    "memoryGiB": 128,
    "name": "ml.m5.8xlarge",
    "vcpuNum": 32
   },
   {
    "_defaultOrder": 9,
    "_isFastLaunch": false,
    "category": "General purpose",
    "gpuNum": 0,
    "hideHardwareSpecs": false,
    "memoryGiB": 192,
    "name": "ml.m5.12xlarge",
    "vcpuNum": 48
   },
   {
    "_defaultOrder": 10,
    "_isFastLaunch": false,
    "category": "General purpose",
    "gpuNum": 0,
    "hideHardwareSpecs": false,
    "memoryGiB": 256,
    "name": "ml.m5.16xlarge",
    "vcpuNum": 64
   },
   {
    "_defaultOrder": 11,
    "_isFastLaunch": false,
    "category": "General purpose",
    "gpuNum": 0,
    "hideHardwareSpecs": false,
    "memoryGiB": 384,
    "name": "ml.m5.24xlarge",
    "vcpuNum": 96
   },
   {
    "_defaultOrder": 12,
    "_isFastLaunch": false,
    "category": "General purpose",
    "gpuNum": 0,
    "hideHardwareSpecs": false,
    "memoryGiB": 8,
    "name": "ml.m5d.large",
    "vcpuNum": 2
   },
   {
    "_defaultOrder": 13,
    "_isFastLaunch": false,
    "category": "General purpose",
    "gpuNum": 0,
    "hideHardwareSpecs": false,
    "memoryGiB": 16,
    "name": "ml.m5d.xlarge",
    "vcpuNum": 4
   },
   {
    "_defaultOrder": 14,
    "_isFastLaunch": false,
    "category": "General purpose",
    "gpuNum": 0,
    "hideHardwareSpecs": false,
    "memoryGiB": 32,
    "name": "ml.m5d.2xlarge",
    "vcpuNum": 8
   },
   {
    "_defaultOrder": 15,
    "_isFastLaunch": false,
    "category": "General purpose",
    "gpuNum": 0,
    "hideHardwareSpecs": false,
    "memoryGiB": 64,
    "name": "ml.m5d.4xlarge",
    "vcpuNum": 16
   },
   {
    "_defaultOrder": 16,
    "_isFastLaunch": false,
    "category": "General purpose",
    "gpuNum": 0,
    "hideHardwareSpecs": false,
    "memoryGiB": 128,
    "name": "ml.m5d.8xlarge",
    "vcpuNum": 32
   },
   {
    "_defaultOrder": 17,
    "_isFastLaunch": false,
    "category": "General purpose",
    "gpuNum": 0,
    "hideHardwareSpecs": false,
    "memoryGiB": 192,
    "name": "ml.m5d.12xlarge",
    "vcpuNum": 48
   },
   {
    "_defaultOrder": 18,
    "_isFastLaunch": false,
    "category": "General purpose",
    "gpuNum": 0,
    "hideHardwareSpecs": false,
    "memoryGiB": 256,
    "name": "ml.m5d.16xlarge",
    "vcpuNum": 64
   },
   {
    "_defaultOrder": 19,
    "_isFastLaunch": false,
    "category": "General purpose",
    "gpuNum": 0,
    "hideHardwareSpecs": false,
    "memoryGiB": 384,
    "name": "ml.m5d.24xlarge",
    "vcpuNum": 96
   },
   {
    "_defaultOrder": 20,
    "_isFastLaunch": false,
    "category": "General purpose",
    "gpuNum": 0,
    "hideHardwareSpecs": true,
    "memoryGiB": 0,
    "name": "ml.geospatial.interactive",
    "supportedImageNames": [
     "sagemaker-geospatial-v1-0"
    ],
    "vcpuNum": 0
   },
   {
    "_defaultOrder": 21,
    "_isFastLaunch": true,
    "category": "Compute optimized",
    "gpuNum": 0,
    "hideHardwareSpecs": false,
    "memoryGiB": 4,
    "name": "ml.c5.large",
    "vcpuNum": 2
   },
   {
    "_defaultOrder": 22,
    "_isFastLaunch": false,
    "category": "Compute optimized",
    "gpuNum": 0,
    "hideHardwareSpecs": false,
    "memoryGiB": 8,
    "name": "ml.c5.xlarge",
    "vcpuNum": 4
   },
   {
    "_defaultOrder": 23,
    "_isFastLaunch": false,
    "category": "Compute optimized",
    "gpuNum": 0,
    "hideHardwareSpecs": false,
    "memoryGiB": 16,
    "name": "ml.c5.2xlarge",
    "vcpuNum": 8
   },
   {
    "_defaultOrder": 24,
    "_isFastLaunch": false,
    "category": "Compute optimized",
    "gpuNum": 0,
    "hideHardwareSpecs": false,
    "memoryGiB": 32,
    "name": "ml.c5.4xlarge",
    "vcpuNum": 16
   },
   {
    "_defaultOrder": 25,
    "_isFastLaunch": false,
    "category": "Compute optimized",
    "gpuNum": 0,
    "hideHardwareSpecs": false,
    "memoryGiB": 72,
    "name": "ml.c5.9xlarge",
    "vcpuNum": 36
   },
   {
    "_defaultOrder": 26,
    "_isFastLaunch": false,
    "category": "Compute optimized",
    "gpuNum": 0,
    "hideHardwareSpecs": false,
    "memoryGiB": 96,
    "name": "ml.c5.12xlarge",
    "vcpuNum": 48
   },
   {
    "_defaultOrder": 27,
    "_isFastLaunch": false,
    "category": "Compute optimized",
    "gpuNum": 0,
    "hideHardwareSpecs": false,
    "memoryGiB": 144,
    "name": "ml.c5.18xlarge",
    "vcpuNum": 72
   },
   {
    "_defaultOrder": 28,
    "_isFastLaunch": false,
    "category": "Compute optimized",
    "gpuNum": 0,
    "hideHardwareSpecs": false,
    "memoryGiB": 192,
    "name": "ml.c5.24xlarge",
    "vcpuNum": 96
   },
   {
    "_defaultOrder": 29,
    "_isFastLaunch": true,
    "category": "Accelerated computing",
    "gpuNum": 1,
    "hideHardwareSpecs": false,
    "memoryGiB": 16,
    "name": "ml.g4dn.xlarge",
    "vcpuNum": 4
   },
   {
    "_defaultOrder": 30,
    "_isFastLaunch": false,
    "category": "Accelerated computing",
    "gpuNum": 1,
    "hideHardwareSpecs": false,
    "memoryGiB": 32,
    "name": "ml.g4dn.2xlarge",
    "vcpuNum": 8
   },
   {
    "_defaultOrder": 31,
    "_isFastLaunch": false,
    "category": "Accelerated computing",
    "gpuNum": 1,
    "hideHardwareSpecs": false,
    "memoryGiB": 64,
    "name": "ml.g4dn.4xlarge",
    "vcpuNum": 16
   },
   {
    "_defaultOrder": 32,
    "_isFastLaunch": false,
    "category": "Accelerated computing",
    "gpuNum": 1,
    "hideHardwareSpecs": false,
    "memoryGiB": 128,
    "name": "ml.g4dn.8xlarge",
    "vcpuNum": 32
   },
   {
    "_defaultOrder": 33,
    "_isFastLaunch": false,
    "category": "Accelerated computing",
    "gpuNum": 4,
    "hideHardwareSpecs": false,
    "memoryGiB": 192,
    "name": "ml.g4dn.12xlarge",
    "vcpuNum": 48
   },
   {
    "_defaultOrder": 34,
    "_isFastLaunch": false,
    "category": "Accelerated computing",
    "gpuNum": 1,
    "hideHardwareSpecs": false,
    "memoryGiB": 256,
    "name": "ml.g4dn.16xlarge",
    "vcpuNum": 64
   },
   {
    "_defaultOrder": 35,
    "_isFastLaunch": false,
    "category": "Accelerated computing",
    "gpuNum": 1,
    "hideHardwareSpecs": false,
    "memoryGiB": 61,
    "name": "ml.p3.2xlarge",
    "vcpuNum": 8
   },
   {
    "_defaultOrder": 36,
    "_isFastLaunch": false,
    "category": "Accelerated computing",
    "gpuNum": 4,
    "hideHardwareSpecs": false,
    "memoryGiB": 244,
    "name": "ml.p3.8xlarge",
    "vcpuNum": 32
   },
   {
    "_defaultOrder": 37,
    "_isFastLaunch": false,
    "category": "Accelerated computing",
    "gpuNum": 8,
    "hideHardwareSpecs": false,
    "memoryGiB": 488,
    "name": "ml.p3.16xlarge",
    "vcpuNum": 64
   },
   {
    "_defaultOrder": 38,
    "_isFastLaunch": false,
    "category": "Accelerated computing",
    "gpuNum": 8,
    "hideHardwareSpecs": false,
    "memoryGiB": 768,
    "name": "ml.p3dn.24xlarge",
    "vcpuNum": 96
   },
   {
    "_defaultOrder": 39,
    "_isFastLaunch": false,
    "category": "Memory Optimized",
    "gpuNum": 0,
    "hideHardwareSpecs": false,
    "memoryGiB": 16,
    "name": "ml.r5.large",
    "vcpuNum": 2
   },
   {
    "_defaultOrder": 40,
    "_isFastLaunch": false,
    "category": "Memory Optimized",
    "gpuNum": 0,
    "hideHardwareSpecs": false,
    "memoryGiB": 32,
    "name": "ml.r5.xlarge",
    "vcpuNum": 4
   },
   {
    "_defaultOrder": 41,
    "_isFastLaunch": false,
    "category": "Memory Optimized",
    "gpuNum": 0,
    "hideHardwareSpecs": false,
    "memoryGiB": 64,
    "name": "ml.r5.2xlarge",
    "vcpuNum": 8
   },
   {
    "_defaultOrder": 42,
    "_isFastLaunch": false,
    "category": "Memory Optimized",
    "gpuNum": 0,
    "hideHardwareSpecs": false,
    "memoryGiB": 128,
    "name": "ml.r5.4xlarge",
    "vcpuNum": 16
   },
   {
    "_defaultOrder": 43,
    "_isFastLaunch": false,
    "category": "Memory Optimized",
    "gpuNum": 0,
    "hideHardwareSpecs": false,
    "memoryGiB": 256,
    "name": "ml.r5.8xlarge",
    "vcpuNum": 32
   },
   {
    "_defaultOrder": 44,
    "_isFastLaunch": false,
    "category": "Memory Optimized",
    "gpuNum": 0,
    "hideHardwareSpecs": false,
    "memoryGiB": 384,
    "name": "ml.r5.12xlarge",
    "vcpuNum": 48
   },
   {
    "_defaultOrder": 45,
    "_isFastLaunch": false,
    "category": "Memory Optimized",
    "gpuNum": 0,
    "hideHardwareSpecs": false,
    "memoryGiB": 512,
    "name": "ml.r5.16xlarge",
    "vcpuNum": 64
   },
   {
    "_defaultOrder": 46,
    "_isFastLaunch": false,
    "category": "Memory Optimized",
    "gpuNum": 0,
    "hideHardwareSpecs": false,
    "memoryGiB": 768,
    "name": "ml.r5.24xlarge",
    "vcpuNum": 96
   },
   {
    "_defaultOrder": 47,
    "_isFastLaunch": false,
    "category": "Accelerated computing",
    "gpuNum": 1,
    "hideHardwareSpecs": false,
    "memoryGiB": 16,
    "name": "ml.g5.xlarge",
    "vcpuNum": 4
   },
   {
    "_defaultOrder": 48,
    "_isFastLaunch": false,
    "category": "Accelerated computing",
    "gpuNum": 1,
    "hideHardwareSpecs": false,
    "memoryGiB": 32,
    "name": "ml.g5.2xlarge",
    "vcpuNum": 8
   },
   {
    "_defaultOrder": 49,
    "_isFastLaunch": false,
    "category": "Accelerated computing",
    "gpuNum": 1,
    "hideHardwareSpecs": false,
    "memoryGiB": 64,
    "name": "ml.g5.4xlarge",
    "vcpuNum": 16
   },
   {
    "_defaultOrder": 50,
    "_isFastLaunch": false,
    "category": "Accelerated computing",
    "gpuNum": 1,
    "hideHardwareSpecs": false,
    "memoryGiB": 128,
    "name": "ml.g5.8xlarge",
    "vcpuNum": 32
   },
   {
    "_defaultOrder": 51,
    "_isFastLaunch": false,
    "category": "Accelerated computing",
    "gpuNum": 1,
    "hideHardwareSpecs": false,
    "memoryGiB": 256,
    "name": "ml.g5.16xlarge",
    "vcpuNum": 64
   },
   {
    "_defaultOrder": 52,
    "_isFastLaunch": false,
    "category": "Accelerated computing",
    "gpuNum": 4,
    "hideHardwareSpecs": false,
    "memoryGiB": 192,
    "name": "ml.g5.12xlarge",
    "vcpuNum": 48
   },
   {
    "_defaultOrder": 53,
    "_isFastLaunch": false,
    "category": "Accelerated computing",
    "gpuNum": 4,
    "hideHardwareSpecs": false,
    "memoryGiB": 384,
    "name": "ml.g5.24xlarge",
    "vcpuNum": 96
   },
   {
    "_defaultOrder": 54,
    "_isFastLaunch": false,
    "category": "Accelerated computing",
    "gpuNum": 8,
    "hideHardwareSpecs": false,
    "memoryGiB": 768,
    "name": "ml.g5.48xlarge",
    "vcpuNum": 192
   },
   {
    "_defaultOrder": 55,
    "_isFastLaunch": false,
    "category": "Accelerated computing",
    "gpuNum": 8,
    "hideHardwareSpecs": false,
    "memoryGiB": 1152,
    "name": "ml.p4d.24xlarge",
    "vcpuNum": 96
   },
   {
    "_defaultOrder": 56,
    "_isFastLaunch": false,
    "category": "Accelerated computing",
    "gpuNum": 8,
    "hideHardwareSpecs": false,
    "memoryGiB": 1152,
    "name": "ml.p4de.24xlarge",
    "vcpuNum": 96
   },
   {
    "_defaultOrder": 57,
    "_isFastLaunch": false,
    "category": "Accelerated computing",
    "gpuNum": 0,
    "hideHardwareSpecs": false,
    "memoryGiB": 32,
    "name": "ml.trn1.2xlarge",
    "vcpuNum": 8
   },
   {
    "_defaultOrder": 58,
    "_isFastLaunch": false,
    "category": "Accelerated computing",
    "gpuNum": 0,
    "hideHardwareSpecs": false,
    "memoryGiB": 512,
    "name": "ml.trn1.32xlarge",
    "vcpuNum": 128
   },
   {
    "_defaultOrder": 59,
    "_isFastLaunch": false,
    "category": "Accelerated computing",
    "gpuNum": 0,
    "hideHardwareSpecs": false,
    "memoryGiB": 512,
    "name": "ml.trn1n.32xlarge",
    "vcpuNum": 128
   }
  ],
  "instance_type": "ml.t3.xlarge",
  "kernelspec": {
   "display_name": "Python 3 (Data Science 3.0)",
   "language": "python",
   "name": "python3__SAGEMAKER_INTERNAL__arn:aws:sagemaker:us-east-1:081325390199:image/sagemaker-data-science-310-v1"
  },
  "language_info": {
   "codemirror_mode": {
    "name": "ipython",
    "version": 3
   },
   "file_extension": ".py",
   "mimetype": "text/x-python",
   "name": "python",
   "nbconvert_exporter": "python",
   "pygments_lexer": "ipython3",
   "version": "3.10.6"
  }
 },
 "nbformat": 4,
 "nbformat_minor": 5
}
