{
 "cells": [
  {
   "cell_type": "code",
   "execution_count": 2,
   "id": "4c6ba7a9-d5af-4ab3-903f-552c15e13770",
   "metadata": {
    "tags": []
   },
   "outputs": [
    {
     "name": "stdout",
     "output_type": "stream",
     "text": [
      "Collecting package metadata (current_repodata.json): done\n",
      "Solving environment: done\n",
      "\n",
      "\n",
      "==> WARNING: A newer version of conda exists. <==\n",
      "  current version: 23.3.1\n",
      "  latest version: 24.1.2\n",
      "\n",
      "Please update conda by running\n",
      "\n",
      "    $ conda update -n base -c defaults conda\n",
      "\n",
      "Or to minimize the number of packages updated during conda update use\n",
      "\n",
      "     conda install conda=24.1.2\n",
      "\n",
      "\n",
      "\n",
      "# All requested packages already installed.\n",
      "\n",
      "\n",
      "Note: you may need to restart the kernel to use updated packages.\n",
      "Requirement already satisfied: pyspark==3.4.0 in /opt/conda/lib/python3.10/site-packages (3.4.0)\n",
      "Requirement already satisfied: py4j==0.10.9.7 in /opt/conda/lib/python3.10/site-packages (from pyspark==3.4.0) (0.10.9.7)\n",
      "\u001b[33mWARNING: Running pip as the 'root' user can result in broken permissions and conflicting behaviour with the system package manager. It is recommended to use a virtual environment instead: https://pip.pypa.io/warnings/venv\u001b[0m\u001b[33m\n",
      "\u001b[0m\n",
      "\u001b[1m[\u001b[0m\u001b[34;49mnotice\u001b[0m\u001b[1;39;49m]\u001b[0m\u001b[39;49m A new release of pip is available: \u001b[0m\u001b[31;49m23.3.1\u001b[0m\u001b[39;49m -> \u001b[0m\u001b[32;49m24.0\u001b[0m\n",
      "\u001b[1m[\u001b[0m\u001b[34;49mnotice\u001b[0m\u001b[1;39;49m]\u001b[0m\u001b[39;49m To update, run: \u001b[0m\u001b[32;49mpip install --upgrade pip\u001b[0m\n",
      "Note: you may need to restart the kernel to use updated packages.\n",
      "Requirement already satisfied: spark-nlp==5.1.3 in /opt/conda/lib/python3.10/site-packages (5.1.3)\n",
      "\u001b[33mWARNING: Running pip as the 'root' user can result in broken permissions and conflicting behaviour with the system package manager. It is recommended to use a virtual environment instead: https://pip.pypa.io/warnings/venv\u001b[0m\u001b[33m\n",
      "\u001b[0m\n",
      "\u001b[1m[\u001b[0m\u001b[34;49mnotice\u001b[0m\u001b[1;39;49m]\u001b[0m\u001b[39;49m A new release of pip is available: \u001b[0m\u001b[31;49m23.3.1\u001b[0m\u001b[39;49m -> \u001b[0m\u001b[32;49m24.0\u001b[0m\n",
      "\u001b[1m[\u001b[0m\u001b[34;49mnotice\u001b[0m\u001b[1;39;49m]\u001b[0m\u001b[39;49m To update, run: \u001b[0m\u001b[32;49mpip install --upgrade pip\u001b[0m\n",
      "Note: you may need to restart the kernel to use updated packages.\n"
     ]
    },
    {
     "data": {
      "text/html": [
       "<script>Jupyter.notebook.kernel.restart()</script>"
      ],
      "text/plain": [
       "<IPython.core.display.HTML object>"
      ]
     },
     "execution_count": 2,
     "metadata": {},
     "output_type": "execute_result"
    }
   ],
   "source": [
    "# Setup - Run only once per Kernel App\n",
    "%conda install openjdk -y\n",
    "\n",
    "# install PySpark\n",
    "%pip install pyspark==3.4.0\n",
    "\n",
    "# install spark-nlp\n",
    "%pip install spark-nlp==5.1.3\n",
    "\n",
    "# restart kernel\n",
    "from IPython.core.display import HTML\n",
    "HTML(\"<script>Jupyter.notebook.kernel.restart()</script>\")"
   ]
  },
  {
   "cell_type": "code",
   "execution_count": 3,
   "id": "42512e7b-4d67-4e49-8538-862c677cbc27",
   "metadata": {},
   "outputs": [],
   "source": [
    "#https://openblocklabs-interview-datasets.s3.amazonaws.com/market_depth/ekubo_market_depth_dataset.parquet"
   ]
  },
  {
   "cell_type": "code",
   "execution_count": 4,
   "id": "1a16691d-d1a6-4926-9040-132c559c611e",
   "metadata": {
    "tags": []
   },
   "outputs": [
    {
     "name": "stdout",
     "output_type": "stream",
     "text": [
      "download: s3://openblocklabs-interview-datasets/market_depth/ekubo_market_depth_dataset.parquet to ./ekubo_market_depth_dataset.parquet\n"
     ]
    }
   ],
   "source": [
    "!aws s3 cp s3://openblocklabs-interview-datasets/market_depth/ekubo_market_depth_dataset.parquet . --request-payer requester"
   ]
  },
  {
   "cell_type": "code",
   "execution_count": 5,
   "id": "4fa8de64-07e3-456e-84b1-5349b281ae8f",
   "metadata": {
    "tags": []
   },
   "outputs": [
    {
     "name": "stdout",
     "output_type": "stream",
     "text": [
      "sagemaker.config INFO - Not applying SDK defaults from location: /etc/xdg/sagemaker/config.yaml\n",
      "sagemaker.config INFO - Not applying SDK defaults from location: /root/.config/sagemaker/config.yaml\n",
      "sagemaker.config INFO - Not applying SDK defaults from location: /etc/xdg/sagemaker/config.yaml\n",
      "sagemaker.config INFO - Not applying SDK defaults from location: /root/.config/sagemaker/config.yaml\n",
      "copy: s3://openblocklabs-interview-datasets/market_depth/ekubo_market_depth_dataset.parquet to s3://sagemaker-us-east-1-587092531128/openblocks/data/ekubo_market_depth_dataset.parquet\n"
     ]
    },
    {
     "data": {
      "text/plain": [
       "CompletedProcess(args='aws s3 cp s3://openblocklabs-interview-datasets/market_depth/ekubo_market_depth_dataset.parquet s3://sagemaker-us-east-1-587092531128/openblocks/data/ekubo_market_depth_dataset.parquet --request-payer requester', returncode=0)"
      ]
     },
     "execution_count": 5,
     "metadata": {},
     "output_type": "execute_result"
    }
   ],
   "source": [
    "import sagemaker\n",
    "import subprocess\n",
    "\n",
    "# Initialize SageMaker session and get the default bucket\n",
    "sess = sagemaker.Session()\n",
    "bucket = sess.default_bucket()\n",
    "\n",
    "# Define the source S3 path and target S3 path\n",
    "source_s3_path = \"s3://openblocklabs-interview-datasets/market_depth/ekubo_market_depth_dataset.parquet\"\n",
    "target_s3_path = f\"s3://{bucket}/openblocks/data/ekubo_market_depth_dataset.parquet\"\n",
    "\n",
    "# Construct the AWS CLI command for copying\n",
    "aws_cli_command = f\"aws s3 cp {source_s3_path} {target_s3_path} --request-payer requester\"\n",
    "\n",
    "# Execute the command\n",
    "subprocess.run(aws_cli_command, shell=True, check=True)\n"
   ]
  },
  {
   "cell_type": "code",
   "execution_count": 6,
   "id": "f990c3e1-1bba-4b5b-afee-606532d90bba",
   "metadata": {
    "tags": []
   },
   "outputs": [],
   "source": [
    "import json\n",
    "import sparknlp\n",
    "import numpy as np\n",
    "import pandas as pd\n",
    "from sparknlp.base import *\n",
    "from pyspark.ml import Pipeline\n",
    "from sparknlp.annotator import *\n",
    "import pyspark.sql.functions as F\n",
    "from pyspark.sql import SparkSession\n",
    "from sparknlp.pretrained import PretrainedPipeline"
   ]
  },
  {
   "cell_type": "code",
   "execution_count": 7,
   "id": "e2f7c1a0-4015-4abd-aef1-ed1df45dc0fd",
   "metadata": {
    "tags": []
   },
   "outputs": [
    {
     "name": "stderr",
     "output_type": "stream",
     "text": [
      "Warning: Ignoring non-Spark config property: fs.s3a.aws.credentials.provider\n"
     ]
    },
    {
     "name": "stdout",
     "output_type": "stream",
     "text": [
      ":: loading settings :: url = jar:file:/opt/conda/lib/python3.10/site-packages/pyspark/jars/ivy-2.5.1.jar!/org/apache/ivy/core/settings/ivysettings.xml\n"
     ]
    },
    {
     "name": "stderr",
     "output_type": "stream",
     "text": [
      "Ivy Default Cache set to: /root/.ivy2/cache\n",
      "The jars for the packages stored in: /root/.ivy2/jars\n",
      "com.johnsnowlabs.nlp#spark-nlp_2.12 added as a dependency\n",
      "org.apache.hadoop#hadoop-aws added as a dependency\n",
      ":: resolving dependencies :: org.apache.spark#spark-submit-parent-a388daf0-76cb-4cd2-93b4-74bbd6f5cd01;1.0\n",
      "\tconfs: [default]\n",
      "\tfound com.johnsnowlabs.nlp#spark-nlp_2.12;5.1.3 in central\n",
      "\tfound com.typesafe#config;1.4.2 in central\n",
      "\tfound org.rocksdb#rocksdbjni;6.29.5 in central\n",
      "\tfound com.amazonaws#aws-java-sdk-bundle;1.11.828 in central\n",
      "\tfound com.github.universal-automata#liblevenshtein;3.0.0 in central\n",
      "\tfound com.google.protobuf#protobuf-java-util;3.0.0-beta-3 in central\n",
      "\tfound com.google.protobuf#protobuf-java;3.0.0-beta-3 in central\n",
      "\tfound com.google.code.gson#gson;2.3 in central\n",
      "\tfound it.unimi.dsi#fastutil;7.0.12 in central\n",
      "\tfound org.projectlombok#lombok;1.16.8 in central\n",
      "\tfound com.google.cloud#google-cloud-storage;2.20.1 in central\n",
      "\tfound com.google.guava#guava;31.1-jre in central\n",
      "\tfound com.google.guava#failureaccess;1.0.1 in central\n",
      "\tfound com.google.guava#listenablefuture;9999.0-empty-to-avoid-conflict-with-guava in central\n",
      "\tfound com.google.errorprone#error_prone_annotations;2.18.0 in central\n",
      "\tfound com.google.j2objc#j2objc-annotations;1.3 in central\n",
      "\tfound com.google.http-client#google-http-client;1.43.0 in central\n",
      "\tfound io.opencensus#opencensus-contrib-http-util;0.31.1 in central\n",
      "\tfound com.google.http-client#google-http-client-jackson2;1.43.0 in central\n",
      "\tfound com.google.http-client#google-http-client-gson;1.43.0 in central\n",
      "\tfound com.google.api-client#google-api-client;2.2.0 in central\n",
      "\tfound commons-codec#commons-codec;1.15 in central\n",
      "\tfound com.google.oauth-client#google-oauth-client;1.34.1 in central\n",
      "\tfound com.google.http-client#google-http-client-apache-v2;1.43.0 in central\n",
      "\tfound com.google.apis#google-api-services-storage;v1-rev20220705-2.0.0 in central\n",
      "\tfound com.google.code.gson#gson;2.10.1 in central\n",
      "\tfound com.google.cloud#google-cloud-core;2.12.0 in central\n",
      "\tfound io.grpc#grpc-context;1.53.0 in central\n",
      "\tfound com.google.auto.value#auto-value-annotations;1.10.1 in central\n",
      "\tfound com.google.auto.value#auto-value;1.10.1 in central\n",
      "\tfound javax.annotation#javax.annotation-api;1.3.2 in central\n",
      "\tfound commons-logging#commons-logging;1.2 in central\n",
      "\tfound com.google.cloud#google-cloud-core-http;2.12.0 in central\n",
      "\tfound com.google.http-client#google-http-client-appengine;1.43.0 in central\n",
      "\tfound com.google.api#gax-httpjson;0.108.2 in central\n",
      "\tfound com.google.cloud#google-cloud-core-grpc;2.12.0 in central\n",
      "\tfound io.grpc#grpc-alts;1.53.0 in central\n",
      "\tfound io.grpc#grpc-grpclb;1.53.0 in central\n",
      "\tfound org.conscrypt#conscrypt-openjdk-uber;2.5.2 in central\n",
      "\tfound io.grpc#grpc-auth;1.53.0 in central\n",
      "\tfound io.grpc#grpc-protobuf;1.53.0 in central\n",
      "\tfound io.grpc#grpc-protobuf-lite;1.53.0 in central\n",
      "\tfound io.grpc#grpc-core;1.53.0 in central\n",
      "\tfound com.google.api#gax;2.23.2 in central\n",
      "\tfound com.google.api#gax-grpc;2.23.2 in central\n",
      "\tfound com.google.auth#google-auth-library-credentials;1.16.0 in central\n",
      "\tfound com.google.auth#google-auth-library-oauth2-http;1.16.0 in central\n",
      "\tfound com.google.api#api-common;2.6.2 in central\n",
      "\tfound io.opencensus#opencensus-api;0.31.1 in central\n",
      "\tfound com.google.api.grpc#proto-google-iam-v1;1.9.2 in central\n",
      "\tfound com.google.protobuf#protobuf-java;3.21.12 in central\n",
      "\tfound com.google.protobuf#protobuf-java-util;3.21.12 in central\n",
      "\tfound com.google.api.grpc#proto-google-common-protos;2.14.2 in central\n",
      "\tfound org.threeten#threetenbp;1.6.5 in central\n",
      "\tfound com.google.api.grpc#proto-google-cloud-storage-v2;2.20.1-alpha in central\n",
      "\tfound com.google.api.grpc#grpc-google-cloud-storage-v2;2.20.1-alpha in central\n",
      "\tfound com.google.api.grpc#gapic-google-cloud-storage-v2;2.20.1-alpha in central\n",
      "\tfound com.fasterxml.jackson.core#jackson-core;2.14.2 in central\n",
      "\tfound com.google.code.findbugs#jsr305;3.0.2 in central\n",
      "\tfound io.grpc#grpc-api;1.53.0 in central\n",
      "\tfound io.grpc#grpc-stub;1.53.0 in central\n",
      "\tfound org.checkerframework#checker-qual;3.31.0 in central\n",
      "\tfound io.perfmark#perfmark-api;0.26.0 in central\n",
      "\tfound com.google.android#annotations;4.1.1.4 in central\n",
      "\tfound org.codehaus.mojo#animal-sniffer-annotations;1.22 in central\n",
      "\tfound io.opencensus#opencensus-proto;0.2.0 in central\n",
      "\tfound io.grpc#grpc-services;1.53.0 in central\n",
      "\tfound com.google.re2j#re2j;1.6 in central\n",
      "\tfound io.grpc#grpc-netty-shaded;1.53.0 in central\n",
      "\tfound io.grpc#grpc-googleapis;1.53.0 in central\n",
      "\tfound io.grpc#grpc-xds;1.53.0 in central\n",
      "\tfound com.navigamez#greex;1.0 in central\n",
      "\tfound dk.brics.automaton#automaton;1.11-8 in central\n",
      "\tfound com.johnsnowlabs.nlp#tensorflow-cpu_2.12;0.4.4 in central\n",
      "\tfound com.microsoft.onnxruntime#onnxruntime;1.15.0 in central\n",
      "\tfound org.apache.hadoop#hadoop-aws;3.2.2 in central\n",
      ":: resolution report :: resolve 5787ms :: artifacts dl 942ms\n",
      "\t:: modules in use:\n",
      "\tcom.amazonaws#aws-java-sdk-bundle;1.11.828 from central in [default]\n",
      "\tcom.fasterxml.jackson.core#jackson-core;2.14.2 from central in [default]\n",
      "\tcom.github.universal-automata#liblevenshtein;3.0.0 from central in [default]\n",
      "\tcom.google.android#annotations;4.1.1.4 from central in [default]\n",
      "\tcom.google.api#api-common;2.6.2 from central in [default]\n",
      "\tcom.google.api#gax;2.23.2 from central in [default]\n",
      "\tcom.google.api#gax-grpc;2.23.2 from central in [default]\n",
      "\tcom.google.api#gax-httpjson;0.108.2 from central in [default]\n",
      "\tcom.google.api-client#google-api-client;2.2.0 from central in [default]\n",
      "\tcom.google.api.grpc#gapic-google-cloud-storage-v2;2.20.1-alpha from central in [default]\n",
      "\tcom.google.api.grpc#grpc-google-cloud-storage-v2;2.20.1-alpha from central in [default]\n",
      "\tcom.google.api.grpc#proto-google-cloud-storage-v2;2.20.1-alpha from central in [default]\n",
      "\tcom.google.api.grpc#proto-google-common-protos;2.14.2 from central in [default]\n",
      "\tcom.google.api.grpc#proto-google-iam-v1;1.9.2 from central in [default]\n",
      "\tcom.google.apis#google-api-services-storage;v1-rev20220705-2.0.0 from central in [default]\n",
      "\tcom.google.auth#google-auth-library-credentials;1.16.0 from central in [default]\n",
      "\tcom.google.auth#google-auth-library-oauth2-http;1.16.0 from central in [default]\n",
      "\tcom.google.auto.value#auto-value;1.10.1 from central in [default]\n",
      "\tcom.google.auto.value#auto-value-annotations;1.10.1 from central in [default]\n",
      "\tcom.google.cloud#google-cloud-core;2.12.0 from central in [default]\n",
      "\tcom.google.cloud#google-cloud-core-grpc;2.12.0 from central in [default]\n",
      "\tcom.google.cloud#google-cloud-core-http;2.12.0 from central in [default]\n",
      "\tcom.google.cloud#google-cloud-storage;2.20.1 from central in [default]\n",
      "\tcom.google.code.findbugs#jsr305;3.0.2 from central in [default]\n",
      "\tcom.google.code.gson#gson;2.10.1 from central in [default]\n",
      "\tcom.google.errorprone#error_prone_annotations;2.18.0 from central in [default]\n",
      "\tcom.google.guava#failureaccess;1.0.1 from central in [default]\n",
      "\tcom.google.guava#guava;31.1-jre from central in [default]\n",
      "\tcom.google.guava#listenablefuture;9999.0-empty-to-avoid-conflict-with-guava from central in [default]\n",
      "\tcom.google.http-client#google-http-client;1.43.0 from central in [default]\n",
      "\tcom.google.http-client#google-http-client-apache-v2;1.43.0 from central in [default]\n",
      "\tcom.google.http-client#google-http-client-appengine;1.43.0 from central in [default]\n",
      "\tcom.google.http-client#google-http-client-gson;1.43.0 from central in [default]\n",
      "\tcom.google.http-client#google-http-client-jackson2;1.43.0 from central in [default]\n",
      "\tcom.google.j2objc#j2objc-annotations;1.3 from central in [default]\n",
      "\tcom.google.oauth-client#google-oauth-client;1.34.1 from central in [default]\n",
      "\tcom.google.protobuf#protobuf-java;3.21.12 from central in [default]\n",
      "\tcom.google.protobuf#protobuf-java-util;3.21.12 from central in [default]\n",
      "\tcom.google.re2j#re2j;1.6 from central in [default]\n",
      "\tcom.johnsnowlabs.nlp#spark-nlp_2.12;5.1.3 from central in [default]\n",
      "\tcom.johnsnowlabs.nlp#tensorflow-cpu_2.12;0.4.4 from central in [default]\n",
      "\tcom.microsoft.onnxruntime#onnxruntime;1.15.0 from central in [default]\n",
      "\tcom.navigamez#greex;1.0 from central in [default]\n",
      "\tcom.typesafe#config;1.4.2 from central in [default]\n",
      "\tcommons-codec#commons-codec;1.15 from central in [default]\n",
      "\tcommons-logging#commons-logging;1.2 from central in [default]\n",
      "\tdk.brics.automaton#automaton;1.11-8 from central in [default]\n",
      "\tio.grpc#grpc-alts;1.53.0 from central in [default]\n",
      "\tio.grpc#grpc-api;1.53.0 from central in [default]\n",
      "\tio.grpc#grpc-auth;1.53.0 from central in [default]\n",
      "\tio.grpc#grpc-context;1.53.0 from central in [default]\n",
      "\tio.grpc#grpc-core;1.53.0 from central in [default]\n",
      "\tio.grpc#grpc-googleapis;1.53.0 from central in [default]\n",
      "\tio.grpc#grpc-grpclb;1.53.0 from central in [default]\n",
      "\tio.grpc#grpc-netty-shaded;1.53.0 from central in [default]\n",
      "\tio.grpc#grpc-protobuf;1.53.0 from central in [default]\n",
      "\tio.grpc#grpc-protobuf-lite;1.53.0 from central in [default]\n",
      "\tio.grpc#grpc-services;1.53.0 from central in [default]\n",
      "\tio.grpc#grpc-stub;1.53.0 from central in [default]\n",
      "\tio.grpc#grpc-xds;1.53.0 from central in [default]\n",
      "\tio.opencensus#opencensus-api;0.31.1 from central in [default]\n",
      "\tio.opencensus#opencensus-contrib-http-util;0.31.1 from central in [default]\n",
      "\tio.opencensus#opencensus-proto;0.2.0 from central in [default]\n",
      "\tio.perfmark#perfmark-api;0.26.0 from central in [default]\n",
      "\tit.unimi.dsi#fastutil;7.0.12 from central in [default]\n",
      "\tjavax.annotation#javax.annotation-api;1.3.2 from central in [default]\n",
      "\torg.apache.hadoop#hadoop-aws;3.2.2 from central in [default]\n",
      "\torg.checkerframework#checker-qual;3.31.0 from central in [default]\n",
      "\torg.codehaus.mojo#animal-sniffer-annotations;1.22 from central in [default]\n",
      "\torg.conscrypt#conscrypt-openjdk-uber;2.5.2 from central in [default]\n",
      "\torg.projectlombok#lombok;1.16.8 from central in [default]\n",
      "\torg.rocksdb#rocksdbjni;6.29.5 from central in [default]\n",
      "\torg.threeten#threetenbp;1.6.5 from central in [default]\n",
      "\t:: evicted modules:\n",
      "\tcom.google.protobuf#protobuf-java-util;3.0.0-beta-3 by [com.google.protobuf#protobuf-java-util;3.21.12] in [default]\n",
      "\tcom.google.protobuf#protobuf-java;3.0.0-beta-3 by [com.google.protobuf#protobuf-java;3.21.12] in [default]\n",
      "\tcom.google.code.gson#gson;2.3 by [com.google.code.gson#gson;2.10.1] in [default]\n",
      "\tcom.amazonaws#aws-java-sdk-bundle;1.11.563 by [com.amazonaws#aws-java-sdk-bundle;1.11.828] in [default]\n",
      "\t---------------------------------------------------------------------\n",
      "\t|                  |            modules            ||   artifacts   |\n",
      "\t|       conf       | number| search|dwnlded|evicted|| number|dwnlded|\n",
      "\t---------------------------------------------------------------------\n",
      "\t|      default     |   77  |   0   |   0   |   4   ||   73  |   0   |\n",
      "\t---------------------------------------------------------------------\n",
      ":: retrieving :: org.apache.spark#spark-submit-parent-a388daf0-76cb-4cd2-93b4-74bbd6f5cd01\n",
      "\tconfs: [default]\n",
      "\t0 artifacts copied, 73 already retrieved (0kB/184ms)\n",
      "24/03/12 00:08:09 WARN NativeCodeLoader: Unable to load native-hadoop library for your platform... using builtin-java classes where applicable\n",
      "Setting default log level to \"WARN\".\n",
      "To adjust logging level use sc.setLogLevel(newLevel). For SparkR, use setLogLevel(newLevel).\n"
     ]
    }
   ],
   "source": [
    "# Import pyspark and build Spark session\n",
    "spark = SparkSession.builder \\\n",
    "    .appName(\"Spark NLP\")\\\n",
    "    .master(\"local[*]\")\\\n",
    "    .config(\"spark.driver.memory\",\"16G\")\\\n",
    "    .config(\"spark.driver.maxResultSize\", \"0\") \\\n",
    "    .config(\"spark.kryoserializer.buffer.max\", \"2000M\")\\\n",
    "    .config(\"spark.jars.packages\", \"com.johnsnowlabs.nlp:spark-nlp_2.12:5.1.3,\" \"org.apache.hadoop:hadoop-aws:3.2.2\")\\\n",
    "    .config(\n",
    "        \"fs.s3a.aws.credentials.provider\",\n",
    "        \"com.amazonaws.auth.ContainerCredentialsProvider\",\n",
    "    )\\\n",
    "    .getOrCreate()\n"
   ]
  },
  {
   "cell_type": "code",
   "execution_count": 8,
   "id": "1f64eb74-4f3f-432f-b966-f1fe974b4aff",
   "metadata": {
    "tags": []
   },
   "outputs": [
    {
     "name": "stderr",
     "output_type": "stream",
     "text": [
      "24/03/12 00:08:20 WARN MetricsConfig: Cannot locate configuration: tried hadoop-metrics2-s3a-file-system.properties,hadoop-metrics2.properties\n",
      "                                                                                \r"
     ]
    },
    {
     "name": "stdout",
     "output_type": "stream",
     "text": [
      "CPU times: user 9.13 ms, sys: 735 µs, total: 9.87 ms\n",
      "Wall time: 8.34 s\n"
     ]
    }
   ],
   "source": [
    "%%time\n",
    "\n",
    "df = spark.read.parquet(f\"s3a://{bucket}/openblocks/data/ekubo_market_depth_dataset.parquet\")"
   ]
  },
  {
   "cell_type": "code",
   "execution_count": 9,
   "id": "1fc55242-7cee-46c0-9cf3-565ff06d59a6",
   "metadata": {
    "tags": []
   },
   "outputs": [
    {
     "name": "stdout",
     "output_type": "stream",
     "text": [
      "root\n",
      " |-- BLOCK_NUMBER: decimal(38,0) (nullable = true)\n",
      " |-- BLOCK_TIMESTAMP: timestamp (nullable = true)\n",
      " |-- TX_HASH: string (nullable = true)\n",
      " |-- TX_ID: string (nullable = true)\n",
      " |-- POOL_ID: string (nullable = true)\n",
      " |-- TOKEN0_ADDRESS: string (nullable = true)\n",
      " |-- TOKEN1_ADDRESS: string (nullable = true)\n",
      " |-- EVENT_NAME: string (nullable = true)\n",
      " |-- FROM_ADDRESS: string (nullable = true)\n",
      " |-- TO_ADDRESS: string (nullable = true)\n",
      " |-- TOKEN0_RAW_AMOUNT: decimal(38,0) (nullable = true)\n",
      " |-- TOKEN0_DECIMALS: decimal(2,0) (nullable = true)\n",
      " |-- TOKEN0_REAL_AMOUNT: decimal(38,30) (nullable = true)\n",
      " |-- TOKEN1_RAW_AMOUNT: decimal(38,0) (nullable = true)\n",
      " |-- TOKEN1_DECIMALS: decimal(2,0) (nullable = true)\n",
      " |-- TOKEN1_REAL_AMOUNT: decimal(38,30) (nullable = true)\n",
      " |-- FEE_TIER: float (nullable = true)\n",
      " |-- LIQUIDITY_AMOUNT: decimal(38,0) (nullable = true)\n",
      " |-- LOWER_TICK: decimal(38,0) (nullable = true)\n",
      " |-- UPPER_TICK: decimal(38,0) (nullable = true)\n",
      " |-- SWAP_TICK: decimal(38,0) (nullable = true)\n",
      " |-- TICK_SPACING: decimal(38,0) (nullable = true)\n",
      "\n"
     ]
    }
   ],
   "source": [
    "#Print the Schema\n",
    "df.printSchema()"
   ]
  },
  {
   "cell_type": "code",
   "execution_count": 10,
   "id": "3d24dc82-dc89-4226-9d71-5fe7fb7876e9",
   "metadata": {
    "tags": []
   },
   "outputs": [
    {
     "name": "stderr",
     "output_type": "stream",
     "text": [
      "[Stage 1:=============================>                             (2 + 2) / 4]\r"
     ]
    },
    {
     "name": "stdout",
     "output_type": "stream",
     "text": [
      "DataFrame shape: (3024741, 22)\n",
      "CPU times: user 1.93 ms, sys: 4.37 ms, total: 6.3 ms\n",
      "Wall time: 3.01 s\n"
     ]
    },
    {
     "name": "stderr",
     "output_type": "stream",
     "text": [
      "                                                                                \r"
     ]
    }
   ],
   "source": [
    "%%time\n",
    "num_rows = df.count()\n",
    "num_columns = len(df.columns)\n",
    "print(f\"DataFrame shape: ({num_rows}, {num_columns})\")"
   ]
  },
  {
   "cell_type": "code",
   "execution_count": 23,
   "id": "4666d853-25ba-4008-a1bd-76f160de79ae",
   "metadata": {
    "tags": []
   },
   "outputs": [
    {
     "name": "stderr",
     "output_type": "stream",
     "text": [
      "[Stage 39:>                                                         (0 + 1) / 1]\r"
     ]
    },
    {
     "name": "stdout",
     "output_type": "stream",
     "text": [
      "+------------+-------------------+--------------------+--------------------+--------------------+--------------------+--------------------+----------+--------------------+--------------------+-----------------+---------------+--------------------+-----------------+---------------+--------------------+--------+----------------+----------+----------+---------+------------+\n",
      "|BLOCK_NUMBER|    BLOCK_TIMESTAMP|             TX_HASH|               TX_ID|             POOL_ID|      TOKEN0_ADDRESS|      TOKEN1_ADDRESS|EVENT_NAME|        FROM_ADDRESS|          TO_ADDRESS|TOKEN0_RAW_AMOUNT|TOKEN0_DECIMALS|  TOKEN0_REAL_AMOUNT|TOKEN1_RAW_AMOUNT|TOKEN1_DECIMALS|  TOKEN1_REAL_AMOUNT|FEE_TIER|LIQUIDITY_AMOUNT|LOWER_TICK|UPPER_TICK|SWAP_TICK|TICK_SPACING|\n",
      "+------------+-------------------+--------------------+--------------------+--------------------+--------------------+--------------------+----------+--------------------+--------------------+-----------------+---------------+--------------------+-----------------+---------------+--------------------+--------+----------------+----------+----------+---------+------------+\n",
      "|      328311|2023-10-16 15:58:15|0x068ae08b780c44b...| 5461067_0_328311_98|0x00000005dd3d2f4...|0x053c91253bc9682...|0x068f5c6a6178076...|      Mint|0x0372a7f547471e9...|0x00000005dd3d2f4...|           -79992|              6|-0.07999199999999...|           -80000|              6|-0.08000000000000...|  5.0E-4|         8039644|    -20000|     20000|        0|        1000|\n",
      "|      328253|2023-10-16 15:05:36|0x00bdc788d3ce649...|5461067_0_328253_212|0x00000005dd3d2f4...|0x053c91253bc9682...|0x068f5c6a6178076...|      Mint|0x04e64ccbadc967b...|0x00000005dd3d2f4...|        -82087672|              6|-82.0876719999999...|        -82095379|              6|-82.0953789999999...|  5.0E-4|      8250270816|    -20000|     20000|        0|        1000|\n",
      "|      328269|2023-10-16 15:23:34|0x03b06aff66afbc7...|5461067_0_328269_137|0x00000005dd3d2f4...|0x049d36570d4e46f...|0x053c91253bc9682...|      Mint|0x04c7b913ce8d1d7...|0x00000005dd3d2f4...| -632340897114350|             18|-0.00063234089711...|          -997738|              6|-0.99773800000000...|  5.0E-4|   2524377067828| -20284000| -20244000|        0|        1000|\n",
      "|      328545|2023-10-16 20:56:28|0x034398a7788f3a7...|5461067_0_328545_149|0x00000005dd3d2f4...|0x049d36570d4e46f...|0x053c91253bc9682...|      Mint|0x05022bef5db6fad...|0x00000005dd3d2f4...| -641968862647892|             18|-0.00064196886264...|         -1000000|              6|-1.00000000000000...|  5.0E-4|   2546541156515| -20279000| -20239000|        0|        1000|\n",
      "|      328205|2023-10-16 13:42:10|0x051ca2db4564744...| 5461067_0_328205_41|0x00000005dd3d2f4...|0x053c91253bc9682...|0x068f5c6a6178076...|      Mint|0x054526db0dbc4db...|0x00000005dd3d2f4...|       -105941124|              6|-105.941124000000...|       -106177367|              6|-106.177367000000...|  5.0E-4|     10659047790|    -20000|     20000|        0|        1000|\n",
      "|      328430|2023-10-16 18:50:22|0x04bbefe7c98d5bb...| 5461067_0_328430_10|0x00000005dd3d2f4...|0x053c91253bc9682...|0x068f5c6a6178076...|      Mint|0x055a1b9c1fc26a9...|0x00000005dd3d2f4...|           -80000|              6|-0.08000000000000...|           -80020|              6|-0.08001999999999...|  5.0E-4|         8041027|    -20000|     20000|        0|        1000|\n",
      "|      328373|2023-10-16 17:34:05|0x0414461d900bcac...| 5461067_0_328373_15|0x00000005dd3d2f4...|0x049d36570d4e46f...|0x053c91253bc9682...|      Mint|0x056e42f8e7f3abf...|0x00000005dd3d2f4...| -299999999999934|             18|-0.00029999999999...|          -468078|              6|-0.46807799999999...|  5.0E-4|   1190958190253| -20287000| -20247000|        0|        1000|\n",
      "|      328373|2023-10-16 17:34:05|0x04f1d36ac51cf39...|  5461067_0_328373_0|0x00000005dd3d2f4...|0x049d36570d4e46f...|0x053c91253bc9682...|      Mint|0x05cd353fa70c51d...|0x00000005dd3d2f4...|  -99999414324590|             18|-0.00009999941432...|          -156025|              6|-0.15602499999999...|  5.0E-4|    396983738368| -20287000| -20247000|        0|        1000|\n",
      "|      328461|2023-10-16 19:18:07|0x04f044099499c95...|5461067_0_328461_222|0x00000005dd3d2f4...|0x049d36570d4e46f...|0x053c91253bc9682...|      Mint|0x04302bf5a38fa56...|0x00000005dd3d2f4...|-1867119153799910|             18|-0.00186711915379...|         -3001234|              6|-3.00123400000000...|  5.0E-4|   7523292872405| -20275000| -20235000|        0|        1000|\n",
      "|      328224|2023-10-16 14:16:21|0x0762a7c9bd7f88d...| 5461067_0_328224_38|0x00000005dd3d2f4...|0x049d36570d4e46f...|0x053c91253bc9682...|      Mint|0x04e64ccbadc967b...|0x00000005dd3d2f4...|-9999999494457572|             18|-0.00999999949445...|         -9168284|              6|-9.16828399999999...|  5.0E-4|  35065660937600| -20279000| -20243000|        0|        1000|\n",
      "+------------+-------------------+--------------------+--------------------+--------------------+--------------------+--------------------+----------+--------------------+--------------------+-----------------+---------------+--------------------+-----------------+---------------+--------------------+--------+----------------+----------+----------+---------+------------+\n",
      "only showing top 10 rows\n",
      "\n"
     ]
    },
    {
     "name": "stderr",
     "output_type": "stream",
     "text": [
      "                                                                                \r"
     ]
    }
   ],
   "source": [
    "df.show(10)"
   ]
  },
  {
   "cell_type": "markdown",
   "id": "9faf54f9-690e-4519-9d2e-c214ef4a0f28",
   "metadata": {},
   "source": [
    "## Analysis "
   ]
  },
  {
   "cell_type": "markdown",
   "id": "178544b8-78dc-4a33-a7e0-d204651cb091",
   "metadata": {},
   "source": [
    "Market Depth Analysis:\n",
    "- Calculate market depth for the Ekubo Protocol for STRK/ETH, STRK/USDC, ETH/USDC, USDC/USDT pools.\n",
    "\n",
    "Profit and Loss (PnL) Calculations:\n",
    "- From the event data, calculate the PnL for a set of hypothetical positions of the most profitable LPs. Detail your approach and the outcomes of these calculations.\n"
   ]
  },
  {
   "cell_type": "code",
   "execution_count": 27,
   "id": "1b76bba7-20d0-43ac-96d8-1698e0b4653a",
   "metadata": {
    "tags": []
   },
   "outputs": [
    {
     "name": "stderr",
     "output_type": "stream",
     "text": [
      "                                                                                \r"
     ]
    },
    {
     "data": {
      "text/plain": [
       "[Row(TOKEN0_ADDRESS='0x049d36570d4e46f48e99674bd3fcc84644ddd6b96f7c741b1562b82f9e004dc7', count=1979694),\n",
       " Row(TOKEN0_ADDRESS='0x053c91253bc9682c04929ca02ed00b3e423f6710d2ee7e0d5ebb06f3ecf368a8', count=812921),\n",
       " Row(TOKEN0_ADDRESS='0x04718f5a0fc34cc1af16a1cdee98ffb20c31f5cd61d6ab07201858f4287c938d', count=232126)]"
      ]
     },
     "execution_count": 27,
     "metadata": {},
     "output_type": "execute_result"
    }
   ],
   "source": [
    "address_counts = df.groupBy(\"TOKEN0_ADDRESS\").count()\n",
    "top_10_addresses = address_counts.orderBy(col(\"count\").desc())\n",
    "top_10_addresses.take(5)"
   ]
  },
  {
   "cell_type": "markdown",
   "id": "f1b56db9-3ea7-4135-b798-42c243435653",
   "metadata": {},
   "source": [
    "address:  \n",
    "- eth: `0x049d36570d4e46f48e99674bd3fcc84644ddd6b96f7c741b1562b82f9e004dc` \n",
    "- USDC: `0x053c91253bc9682c04929ca02ed00b3e423f6710d2ee7e0d5ebb06f3ecf368a8`\n",
    "- STRK: `0x04718f5a0fc34cc1af16a1cdee98ffb20c31f5cd61d6ab07201858f4287c938d`"
   ]
  },
  {
   "cell_type": "code",
   "execution_count": 28,
   "id": "47b5dccd-2131-41f9-bd05-94664e0da640",
   "metadata": {
    "tags": []
   },
   "outputs": [
    {
     "name": "stderr",
     "output_type": "stream",
     "text": [
      "                                                                                \r"
     ]
    },
    {
     "data": {
      "text/plain": [
       "[Row(TOKEN1_ADDRESS='0x053c91253bc9682c04929ca02ed00b3e423f6710d2ee7e0d5ebb06f3ecf368a8', count=2051110),\n",
       " Row(TOKEN1_ADDRESS='0x068f5c6a61780768455de69077e07e89787839bf8166decfbf92b645209c0fb8', count=819283),\n",
       " Row(TOKEN1_ADDRESS='0x049d36570d4e46f48e99674bd3fcc84644ddd6b96f7c741b1562b82f9e004dc7', count=154348)]"
      ]
     },
     "execution_count": 28,
     "metadata": {},
     "output_type": "execute_result"
    }
   ],
   "source": [
    "address_counts = df.groupBy(\"TOKEN1_ADDRESS\").count()\n",
    "top_10_addresses = address_counts.orderBy(col(\"count\").desc())\n",
    "top_10_addresses.take(5)"
   ]
  },
  {
   "cell_type": "code",
   "execution_count": 45,
   "id": "7f5d84fd-17f9-4b9f-be86-5de4c4fb8d07",
   "metadata": {
    "tags": []
   },
   "outputs": [
    {
     "name": "stderr",
     "output_type": "stream",
     "text": [
      "                                                                                \r"
     ]
    },
    {
     "data": {
      "text/plain": [
       "[Row(BLOCK_NUMBER=Decimal('536384'), BLOCK_TIMESTAMP=datetime.datetime(2024, 2, 8, 12, 27, 13), TX_HASH='0x0487144ee9f626bb22c74c1d907408cbd7764ce6c9d82ca26a59193bdd332ed1', TX_ID='5461067_0_536384_41', POOL_ID='0x00000005dd3d2f4429af886cd1a3b08289dbcea99a294197e9eb43b0e0325b4b-0x04718f5a0fc34cc1af16a1cdee98ffb20c31f5cd61d6ab07201858f4287c938d-0x049d36570d4e46f48e99674bd3fcc84644ddd6b96f7c741b1562b82f9e004dc7-17014118346046923173168730371588410572-95310', TOKEN0_ADDRESS='0x04718f5a0fc34cc1af16a1cdee98ffb20c31f5cd61d6ab07201858f4287c938d', TOKEN1_ADDRESS='0x049d36570d4e46f48e99674bd3fcc84644ddd6b96f7c741b1562b82f9e004dc7', EVENT_NAME='Mint', FROM_ADDRESS='0x03f60afe30844f556ac1c674678ac4447840b1c6c26854a2df6a8a3d2c015610', TO_ADDRESS='0x00000005dd3d2f4429af886cd1a3b08289dbcea99a294197e9eb43b0e0325b4b', TOKEN0_RAW_AMOUNT=Decimal('0'), TOKEN0_DECIMALS=Decimal('18'), TOKEN0_REAL_AMOUNT=Decimal('0E-30'), TOKEN1_RAW_AMOUNT=Decimal('-100000000000004000'), TOKEN1_DECIMALS=Decimal('18'), TOKEN1_REAL_AMOUNT=Decimal('-0.100000000000004002354003773689'), FEE_TIER=0.05000000074505806, LIQUIDITY_AMOUNT=Decimal('3091242740435567147'), LOWER_TICK=Decimal('-88638300'), UPPER_TICK=Decimal('-6862320'), SWAP_TICK=Decimal('0'), TICK_SPACING=Decimal('95310')),\n",
       " Row(BLOCK_NUMBER=Decimal('536785'), BLOCK_TIMESTAMP=datetime.datetime(2024, 2, 8, 22, 46, 45), TX_HASH='0x05653fdfe2ee52befbed76d298173c2a4cc6ee894b68f0a1070aafdb8efa215e', TX_ID='5461067_0_536785_34', POOL_ID='0x00000005dd3d2f4429af886cd1a3b08289dbcea99a294197e9eb43b0e0325b4b-0x04718f5a0fc34cc1af16a1cdee98ffb20c31f5cd61d6ab07201858f4287c938d-0x049d36570d4e46f48e99674bd3fcc84644ddd6b96f7c741b1562b82f9e004dc7-34028236692093847977029636859101184-200', TOKEN0_ADDRESS='0x04718f5a0fc34cc1af16a1cdee98ffb20c31f5cd61d6ab07201858f4287c938d', TOKEN1_ADDRESS='0x049d36570d4e46f48e99674bd3fcc84644ddd6b96f7c741b1562b82f9e004dc7', EVENT_NAME='Mint', FROM_ADDRESS='0x02b86094d3a7c4e642577798c000827ff1d664c75bd3d9728786cdb600670117', TO_ADDRESS='0x00000005dd3d2f4429af886cd1a3b08289dbcea99a294197e9eb43b0e0325b4b', TOKEN0_RAW_AMOUNT=Decimal('0'), TOKEN0_DECIMALS=Decimal('18'), TOKEN0_REAL_AMOUNT=Decimal('0E-30'), TOKEN1_RAW_AMOUNT=Decimal('-99999999999999983'), TOKEN1_DECIMALS=Decimal('18'), TOKEN1_REAL_AMOUNT=Decimal('-0.099999999999999977795539507497'), FEE_TIER=9.999999747378752e-05, LIQUIDITY_AMOUNT=Decimal('1462430409628060'), LOWER_TICK=Decimal('6907800'), UPPER_TICK=Decimal('9210400'), SWAP_TICK=Decimal('0'), TICK_SPACING=Decimal('200')),\n",
       " Row(BLOCK_NUMBER=Decimal('536786'), BLOCK_TIMESTAMP=datetime.datetime(2024, 2, 8, 22, 49, 47), TX_HASH='0x07c4ad8489af381a038c14cb5c98df1ff4ed37316d5eee9bd8f7b1f63efd21a5', TX_ID='5461067_0_536786_24', POOL_ID='0x00000005dd3d2f4429af886cd1a3b08289dbcea99a294197e9eb43b0e0325b4b-0x04718f5a0fc34cc1af16a1cdee98ffb20c31f5cd61d6ab07201858f4287c938d-0x049d36570d4e46f48e99674bd3fcc84644ddd6b96f7c741b1562b82f9e004dc7-34028236692093847977029636859101184-200', TOKEN0_ADDRESS='0x04718f5a0fc34cc1af16a1cdee98ffb20c31f5cd61d6ab07201858f4287c938d', TOKEN1_ADDRESS='0x049d36570d4e46f48e99674bd3fcc84644ddd6b96f7c741b1562b82f9e004dc7', EVENT_NAME='Mint', FROM_ADDRESS='0x02b86094d3a7c4e642577798c000827ff1d664c75bd3d9728786cdb600670117', TO_ADDRESS='0x00000005dd3d2f4429af886cd1a3b08289dbcea99a294197e9eb43b0e0325b4b', TOKEN0_RAW_AMOUNT=Decimal('0'), TOKEN0_DECIMALS=Decimal('18'), TOKEN0_REAL_AMOUNT=Decimal('0E-30'), TOKEN1_RAW_AMOUNT=Decimal('-100000000000000000'), TOKEN1_DECIMALS=Decimal('18'), TOKEN1_REAL_AMOUNT=Decimal('-0.100000000000000005551115123126'), FEE_TIER=9.999999747378752e-05, LIQUIDITY_AMOUNT=Decimal('2233586254822338413'), LOWER_TICK=Decimal('-9210400'), UPPER_TICK=Decimal('-5809200'), SWAP_TICK=Decimal('0'), TICK_SPACING=Decimal('200')),\n",
       " Row(BLOCK_NUMBER=Decimal('539781'), BLOCK_TIMESTAMP=datetime.datetime(2024, 2, 11, 11, 56, 53), TX_HASH='0x02a7ef0f2694011db0b5e06e19ec8a1cdaa92b5ff02eae12438b908518acb948', TX_ID='5461067_0_539781_55', POOL_ID='0x00000005dd3d2f4429af886cd1a3b08289dbcea99a294197e9eb43b0e0325b4b-0x04718f5a0fc34cc1af16a1cdee98ffb20c31f5cd61d6ab07201858f4287c938d-0x049d36570d4e46f48e99674bd3fcc84644ddd6b96f7c741b1562b82f9e004dc7-17014118346046923173168730371588410572-95310', TOKEN0_ADDRESS='0x04718f5a0fc34cc1af16a1cdee98ffb20c31f5cd61d6ab07201858f4287c938d', TOKEN1_ADDRESS='0x049d36570d4e46f48e99674bd3fcc84644ddd6b96f7c741b1562b82f9e004dc7', EVENT_NAME='Mint', FROM_ADDRESS='0x050447ec772f7ba4084b8909fc7080afb1bfc373d640570836df8664055ee36c', TO_ADDRESS='0x00000005dd3d2f4429af886cd1a3b08289dbcea99a294197e9eb43b0e0325b4b', TOKEN0_RAW_AMOUNT=Decimal('0'), TOKEN0_DECIMALS=Decimal('18'), TOKEN0_REAL_AMOUNT=Decimal('0E-30'), TOKEN1_RAW_AMOUNT=Decimal('-40000000000000000'), TOKEN1_DECIMALS=Decimal('18'), TOKEN1_REAL_AMOUNT=Decimal('-0.040000000000000000832667268469'), FEE_TIER=0.05000000074505806, LIQUIDITY_AMOUNT=Decimal('2421076164331122864'), LOWER_TICK=Decimal('-8291970'), UPPER_TICK=Decimal('-6862320'), SWAP_TICK=Decimal('0'), TICK_SPACING=Decimal('95310')),\n",
       " Row(BLOCK_NUMBER=Decimal('554509'), BLOCK_TIMESTAMP=datetime.datetime(2024, 2, 19, 1, 35, 21), TX_HASH='0x026d75033a157719af668329ef2aad563eb8feeeec8a4249e040452db16f4887', TX_ID='5461067_0_554509_46', POOL_ID='0x00000005dd3d2f4429af886cd1a3b08289dbcea99a294197e9eb43b0e0325b4b-0x04718f5a0fc34cc1af16a1cdee98ffb20c31f5cd61d6ab07201858f4287c938d-0x049d36570d4e46f48e99674bd3fcc84644ddd6b96f7c741b1562b82f9e004dc7-3402823669209384634633746074317682114-19802', TOKEN0_ADDRESS='0x04718f5a0fc34cc1af16a1cdee98ffb20c31f5cd61d6ab07201858f4287c938d', TOKEN1_ADDRESS='0x049d36570d4e46f48e99674bd3fcc84644ddd6b96f7c741b1562b82f9e004dc7', EVENT_NAME='Mint', FROM_ADDRESS='0x0715bbc05fb4602fdc551271d14989faa75b488eac1a1999496a9ab7897377b1', TO_ADDRESS='0x00000005dd3d2f4429af886cd1a3b08289dbcea99a294197e9eb43b0e0325b4b', TOKEN0_RAW_AMOUNT=Decimal('0'), TOKEN0_DECIMALS=Decimal('18'), TOKEN0_REAL_AMOUNT=Decimal('0E-30'), TOKEN1_RAW_AMOUNT=Decimal('-30000000000000000'), TOKEN1_DECIMALS=Decimal('18'), TOKEN1_REAL_AMOUNT=Decimal('-0.029999999999999998889776975375'), FEE_TIER=0.009999999776482582, LIQUIDITY_AMOUNT=Decimal('23278699796573763576'), LOWER_TICK=Decimal('-7346542'), UPPER_TICK=Decimal('-7247532'), SWAP_TICK=Decimal('0'), TICK_SPACING=Decimal('19802'))]"
      ]
     },
     "execution_count": 45,
     "metadata": {},
     "output_type": "execute_result"
    }
   ],
   "source": [
    "eth_address = \"0x049d36570d4e46f48e99674bd3fcc84644ddd6b96f7c741b1562b82f9e004dc7\"\n",
    "strk_address = \"0x04718f5a0fc34cc1af16a1cdee98ffb20c31f5cd61d6ab07201858f4287c938d\"\n",
    "usdc_address = \"0x053c91253bc9682c04929ca02ed00b3e423f6710d2ee7e0d5ebb06f3ecf368a8\"\n",
    "strk_eth_pool = df.filter(\n",
    "    ((F.col('TOKEN0_ADDRESS') == strk_address) & (F.col('TOKEN1_ADDRESS') == eth_address)) |\n",
    "    (F.col('TOKEN0_ADDRESS') == eth_address) & (F.col('TOKEN1_ADDRESS') == strk_address)\n",
    ")\n",
    "strk_eth_pool.take(5)"
   ]
  },
  {
   "cell_type": "code",
   "execution_count": 46,
   "id": "c06032be-dd94-4de3-a93c-1a61bf30f1d4",
   "metadata": {
    "tags": []
   },
   "outputs": [
    {
     "name": "stderr",
     "output_type": "stream",
     "text": [
      "                                                                                \r"
     ]
    },
    {
     "data": {
      "text/plain": [
       "[Row(BLOCK_NUMBER=Decimal('539735'), BLOCK_TIMESTAMP=datetime.datetime(2024, 2, 11, 11, 21, 18), TX_HASH='0x069558394a8e079b7e376cf95d5bfa80680a217efbddd5c19835f1bcc32db011', TX_ID='5461067_0_539735_53', POOL_ID='0x00000005dd3d2f4429af886cd1a3b08289dbcea99a294197e9eb43b0e0325b4b-0x04718f5a0fc34cc1af16a1cdee98ffb20c31f5cd61d6ab07201858f4287c938d-0x053c91253bc9682c04929ca02ed00b3e423f6710d2ee7e0d5ebb06f3ecf368a8-170141183460469235273462165868118016-1000', TOKEN0_ADDRESS='0x04718f5a0fc34cc1af16a1cdee98ffb20c31f5cd61d6ab07201858f4287c938d', TOKEN1_ADDRESS='0x053c91253bc9682c04929ca02ed00b3e423f6710d2ee7e0d5ebb06f3ecf368a8', EVENT_NAME='Mint', FROM_ADDRESS='0x0263fb94ca5addc2a11f8c551067cd434e76395edaa267ec76f9a67b007e97a8', TO_ADDRESS='0x00000005dd3d2f4429af886cd1a3b08289dbcea99a294197e9eb43b0e0325b4b', TOKEN0_RAW_AMOUNT=Decimal('0'), TOKEN0_DECIMALS=Decimal('18'), TOKEN0_REAL_AMOUNT=Decimal('0E-30'), TOKEN1_RAW_AMOUNT=Decimal('-5000000'), TOKEN1_DECIMALS=Decimal('6'), TOKEN1_REAL_AMOUNT=Decimal('-5.000000000000000000000000000000'), FEE_TIER=0.0005000000237487257, LIQUIDITY_AMOUNT=Decimal('74215390750338'), LOWER_TICK=Decimal('-28324000'), UPPER_TICK=Decimal('-28142000'), SWAP_TICK=Decimal('0'), TICK_SPACING=Decimal('1000')),\n",
       " Row(BLOCK_NUMBER=Decimal('555703'), BLOCK_TIMESTAMP=datetime.datetime(2024, 2, 19, 18, 50, 26), TX_HASH='0x005af4ab866eed2bf0b02565a5ea9ec18d606ba6c8749871d3453dcf38d2e7a3', TX_ID='5461067_0_555703_94', POOL_ID='0x00000005dd3d2f4429af886cd1a3b08289dbcea99a294197e9eb43b0e0325b4b-0x04718f5a0fc34cc1af16a1cdee98ffb20c31f5cd61d6ab07201858f4287c938d-0x053c91253bc9682c04929ca02ed00b3e423f6710d2ee7e0d5ebb06f3ecf368a8-3402823669209384634633746074317682114-19802', TOKEN0_ADDRESS='0x04718f5a0fc34cc1af16a1cdee98ffb20c31f5cd61d6ab07201858f4287c938d', TOKEN1_ADDRESS='0x053c91253bc9682c04929ca02ed00b3e423f6710d2ee7e0d5ebb06f3ecf368a8', EVENT_NAME='Mint', FROM_ADDRESS='0x07484a25129f0636c67ba108c6547d6ed98c132f66d555312b46100be94cfb1e', TO_ADDRESS='0x00000005dd3d2f4429af886cd1a3b08289dbcea99a294197e9eb43b0e0325b4b', TOKEN0_RAW_AMOUNT=Decimal('0'), TOKEN0_DECIMALS=Decimal('18'), TOKEN0_REAL_AMOUNT=Decimal('0E-30'), TOKEN1_RAW_AMOUNT=Decimal('-2289210010'), TOKEN1_DECIMALS=Decimal('6'), TOKEN1_REAL_AMOUNT=Decimal('-2289.210009999999783758539706468582'), FEE_TIER=0.009999999776482582, LIQUIDITY_AMOUNT=Decimal('23154276778932187'), LOWER_TICK=Decimal('-27267354'), UPPER_TICK=Decimal('-27108938'), SWAP_TICK=Decimal('0'), TICK_SPACING=Decimal('19802')),\n",
       " Row(BLOCK_NUMBER=Decimal('555704'), BLOCK_TIMESTAMP=datetime.datetime(2024, 2, 19, 18, 51, 21), TX_HASH='0x07bababc9a0914a9c765c18dd082397ca037edf8edee0334e2986e2f348d6583', TX_ID='5461067_0_555704_59', POOL_ID='0x00000005dd3d2f4429af886cd1a3b08289dbcea99a294197e9eb43b0e0325b4b-0x04718f5a0fc34cc1af16a1cdee98ffb20c31f5cd61d6ab07201858f4287c938d-0x053c91253bc9682c04929ca02ed00b3e423f6710d2ee7e0d5ebb06f3ecf368a8-3402823669209384634633746074317682114-19802', TOKEN0_ADDRESS='0x04718f5a0fc34cc1af16a1cdee98ffb20c31f5cd61d6ab07201858f4287c938d', TOKEN1_ADDRESS='0x053c91253bc9682c04929ca02ed00b3e423f6710d2ee7e0d5ebb06f3ecf368a8', EVENT_NAME='Mint', FROM_ADDRESS='0x022ab86f3dbbc09bbbd145aa71ed1018c30d372fa01572733d12545d6afd5452', TO_ADDRESS='0x00000005dd3d2f4429af886cd1a3b08289dbcea99a294197e9eb43b0e0325b4b', TOKEN0_RAW_AMOUNT=Decimal('0'), TOKEN0_DECIMALS=Decimal('18'), TOKEN0_REAL_AMOUNT=Decimal('0E-30'), TOKEN1_RAW_AMOUNT=Decimal('-1613046354'), TOKEN1_DECIMALS=Decimal('6'), TOKEN1_REAL_AMOUNT=Decimal('-1613.046354000000064843334257602692'), FEE_TIER=0.009999999776482582, LIQUIDITY_AMOUNT=Decimal('10287330929147335'), LOWER_TICK=Decimal('-27366364'), UPPER_TICK=Decimal('-27108938'), SWAP_TICK=Decimal('0'), TICK_SPACING=Decimal('19802')),\n",
       " Row(BLOCK_NUMBER=Decimal('555700'), BLOCK_TIMESTAMP=datetime.datetime(2024, 2, 19, 18, 47, 21), TX_HASH='0x0639c15f0419b15115a4f5cff61fd647ddaa0b22e4d70401c058961a2fc2b548', TX_ID='5461067_0_555700_105', POOL_ID='0x00000005dd3d2f4429af886cd1a3b08289dbcea99a294197e9eb43b0e0325b4b-0x04718f5a0fc34cc1af16a1cdee98ffb20c31f5cd61d6ab07201858f4287c938d-0x053c91253bc9682c04929ca02ed00b3e423f6710d2ee7e0d5ebb06f3ecf368a8-1020847100762815411640772995208708096-5982', TOKEN0_ADDRESS='0x04718f5a0fc34cc1af16a1cdee98ffb20c31f5cd61d6ab07201858f4287c938d', TOKEN1_ADDRESS='0x053c91253bc9682c04929ca02ed00b3e423f6710d2ee7e0d5ebb06f3ecf368a8', EVENT_NAME='Mint', FROM_ADDRESS='0x00877b4c9605efdf734cbe7e55a7ad5abb44d6117465c0f58577d257589c6a46', TO_ADDRESS='0x00000005dd3d2f4429af886cd1a3b08289dbcea99a294197e9eb43b0e0325b4b', TOKEN0_RAW_AMOUNT=Decimal('0'), TOKEN0_DECIMALS=Decimal('18'), TOKEN0_REAL_AMOUNT=Decimal('0E-30'), TOKEN1_RAW_AMOUNT=Decimal('-170390176'), TOKEN1_DECIMALS=Decimal('6'), TOKEN1_REAL_AMOUNT=Decimal('-170.390175999999996747646946460009'), FEE_TIER=0.003000000026077032, LIQUIDITY_AMOUNT=Decimal('1478757826278457'), LOWER_TICK=Decimal('-27289884'), UPPER_TICK=Decimal('-27104442'), SWAP_TICK=Decimal('0'), TICK_SPACING=Decimal('5982')),\n",
       " Row(BLOCK_NUMBER=Decimal('556099'), BLOCK_TIMESTAMP=datetime.datetime(2024, 2, 20, 1, 39, 51), TX_HASH='0x02c19584085953b5832c5cae77893bbcdb8871ec844085460cce7034399aaa32', TX_ID='5461067_0_556099_211', POOL_ID='0x00000005dd3d2f4429af886cd1a3b08289dbcea99a294197e9eb43b0e0325b4b-0x04718f5a0fc34cc1af16a1cdee98ffb20c31f5cd61d6ab07201858f4287c938d-0x053c91253bc9682c04929ca02ed00b3e423f6710d2ee7e0d5ebb06f3ecf368a8-17014118346046923173168730371588410572-95310', TOKEN0_ADDRESS='0x04718f5a0fc34cc1af16a1cdee98ffb20c31f5cd61d6ab07201858f4287c938d', TOKEN1_ADDRESS='0x053c91253bc9682c04929ca02ed00b3e423f6710d2ee7e0d5ebb06f3ecf368a8', EVENT_NAME='Mint', FROM_ADDRESS='0x07dc137da097dffc719b427814e4ef97ac343c36d7eb66914ae52e88e9fb571a', TO_ADDRESS='0x00000005dd3d2f4429af886cd1a3b08289dbcea99a294197e9eb43b0e0325b4b', TOKEN0_RAW_AMOUNT=Decimal('0'), TOKEN0_DECIMALS=Decimal('18'), TOKEN0_REAL_AMOUNT=Decimal('0E-30'), TOKEN1_RAW_AMOUNT=Decimal('-2080078727'), TOKEN1_DECIMALS=Decimal('6'), TOKEN1_REAL_AMOUNT=Decimal('-2080.078727000000071711838245391846'), FEE_TIER=0.05000000074505806, LIQUIDITY_AMOUNT=Decimal('32160999698450603'), LOWER_TICK=Decimal('-27068040'), UPPER_TICK=Decimal('-26972730'), SWAP_TICK=Decimal('0'), TICK_SPACING=Decimal('95310'))]"
      ]
     },
     "execution_count": 46,
     "metadata": {},
     "output_type": "execute_result"
    }
   ],
   "source": [
    "strk_usdc_pool = df.filter(\n",
    "    ((F.col('TOKEN0_ADDRESS') == strk_address) & (F.col('TOKEN1_ADDRESS') == usdc_address)) |\n",
    "    (F.col('TOKEN0_ADDRESS') == usdc_address) & (F.col('TOKEN1_ADDRESS') == strk_address)\n",
    ")\n",
    "strk_usdc_pool.take(5)"
   ]
  },
  {
   "cell_type": "code",
   "execution_count": 47,
   "id": "1d10aed9-11ed-4edd-8cff-18057a4d1801",
   "metadata": {
    "tags": []
   },
   "outputs": [
    {
     "name": "stderr",
     "output_type": "stream",
     "text": [
      "                                                                                \r"
     ]
    },
    {
     "data": {
      "text/plain": [
       "[Row(BLOCK_NUMBER=Decimal('328269'), BLOCK_TIMESTAMP=datetime.datetime(2023, 10, 16, 15, 23, 34), TX_HASH='0x03b06aff66afbc79d2e5c2a48919d4c773ef589e7ead338772bd15b9038ee1dc', TX_ID='5461067_0_328269_137', POOL_ID='0x00000005dd3d2f4429af886cd1a3b08289dbcea99a294197e9eb43b0e0325b4b-0x049d36570d4e46f48e99674bd3fcc84644ddd6b96f7c741b1562b82f9e004dc7-0x053c91253bc9682c04929ca02ed00b3e423f6710d2ee7e0d5ebb06f3ecf368a8-170141183460469235273462165868118016-1000', TOKEN0_ADDRESS='0x049d36570d4e46f48e99674bd3fcc84644ddd6b96f7c741b1562b82f9e004dc7', TOKEN1_ADDRESS='0x053c91253bc9682c04929ca02ed00b3e423f6710d2ee7e0d5ebb06f3ecf368a8', EVENT_NAME='Mint', FROM_ADDRESS='0x04c7b913ce8d1d7a0bfcdad2546abfdb657958660a069af364969af3216fbaaa', TO_ADDRESS='0x00000005dd3d2f4429af886cd1a3b08289dbcea99a294197e9eb43b0e0325b4b', TOKEN0_RAW_AMOUNT=Decimal('-632340897114350'), TOKEN0_DECIMALS=Decimal('18'), TOKEN0_REAL_AMOUNT=Decimal('-0.000632340897114350044931618822'), TOKEN1_RAW_AMOUNT=Decimal('-997738'), TOKEN1_DECIMALS=Decimal('6'), TOKEN1_REAL_AMOUNT=Decimal('-0.997738000000000013756107364316'), FEE_TIER=0.0005000000237487257, LIQUIDITY_AMOUNT=Decimal('2524377067828'), LOWER_TICK=Decimal('-20284000'), UPPER_TICK=Decimal('-20244000'), SWAP_TICK=Decimal('0'), TICK_SPACING=Decimal('1000')),\n",
       " Row(BLOCK_NUMBER=Decimal('328545'), BLOCK_TIMESTAMP=datetime.datetime(2023, 10, 16, 20, 56, 28), TX_HASH='0x034398a7788f3a78c60956da2d128c56b21491b36f0e7386fb7eec675edb8145', TX_ID='5461067_0_328545_149', POOL_ID='0x00000005dd3d2f4429af886cd1a3b08289dbcea99a294197e9eb43b0e0325b4b-0x049d36570d4e46f48e99674bd3fcc84644ddd6b96f7c741b1562b82f9e004dc7-0x053c91253bc9682c04929ca02ed00b3e423f6710d2ee7e0d5ebb06f3ecf368a8-170141183460469235273462165868118016-1000', TOKEN0_ADDRESS='0x049d36570d4e46f48e99674bd3fcc84644ddd6b96f7c741b1562b82f9e004dc7', TOKEN1_ADDRESS='0x053c91253bc9682c04929ca02ed00b3e423f6710d2ee7e0d5ebb06f3ecf368a8', EVENT_NAME='Mint', FROM_ADDRESS='0x05022bef5db6faded63797c25dc1834ebb793634789491b8f7184a4fffce5e72', TO_ADDRESS='0x00000005dd3d2f4429af886cd1a3b08289dbcea99a294197e9eb43b0e0325b4b', TOKEN0_RAW_AMOUNT=Decimal('-641968862647892'), TOKEN0_DECIMALS=Decimal('18'), TOKEN0_REAL_AMOUNT=Decimal('-0.000641968862647891952248613290'), TOKEN1_RAW_AMOUNT=Decimal('-1000000'), TOKEN1_DECIMALS=Decimal('6'), TOKEN1_REAL_AMOUNT=Decimal('-1.000000000000000000000000000000'), FEE_TIER=0.0005000000237487257, LIQUIDITY_AMOUNT=Decimal('2546541156515'), LOWER_TICK=Decimal('-20279000'), UPPER_TICK=Decimal('-20239000'), SWAP_TICK=Decimal('0'), TICK_SPACING=Decimal('1000')),\n",
       " Row(BLOCK_NUMBER=Decimal('328373'), BLOCK_TIMESTAMP=datetime.datetime(2023, 10, 16, 17, 34, 5), TX_HASH='0x0414461d900bcaca8b6b207f17d8c7b948d77d4a124c109fcd904c20588e0724', TX_ID='5461067_0_328373_15', POOL_ID='0x00000005dd3d2f4429af886cd1a3b08289dbcea99a294197e9eb43b0e0325b4b-0x049d36570d4e46f48e99674bd3fcc84644ddd6b96f7c741b1562b82f9e004dc7-0x053c91253bc9682c04929ca02ed00b3e423f6710d2ee7e0d5ebb06f3ecf368a8-170141183460469235273462165868118016-1000', TOKEN0_ADDRESS='0x049d36570d4e46f48e99674bd3fcc84644ddd6b96f7c741b1562b82f9e004dc7', TOKEN1_ADDRESS='0x053c91253bc9682c04929ca02ed00b3e423f6710d2ee7e0d5ebb06f3ecf368a8', EVENT_NAME='Mint', FROM_ADDRESS='0x056e42f8e7f3abf010e96b2b3091c86ee503d172dce32d87285dab3074eab3c5', TO_ADDRESS='0x00000005dd3d2f4429af886cd1a3b08289dbcea99a294197e9eb43b0e0325b4b', TOKEN0_RAW_AMOUNT=Decimal('-299999999999934'), TOKEN0_DECIMALS=Decimal('18'), TOKEN0_REAL_AMOUNT=Decimal('-0.000299999999999934000016743596'), TOKEN1_RAW_AMOUNT=Decimal('-468078'), TOKEN1_DECIMALS=Decimal('6'), TOKEN1_REAL_AMOUNT=Decimal('-0.468077999999999994074073583761'), FEE_TIER=0.0005000000237487257, LIQUIDITY_AMOUNT=Decimal('1190958190253'), LOWER_TICK=Decimal('-20287000'), UPPER_TICK=Decimal('-20247000'), SWAP_TICK=Decimal('0'), TICK_SPACING=Decimal('1000')),\n",
       " Row(BLOCK_NUMBER=Decimal('328373'), BLOCK_TIMESTAMP=datetime.datetime(2023, 10, 16, 17, 34, 5), TX_HASH='0x04f1d36ac51cf39faf1abfdf81c2ee55fc4a86f83f6226b9c94c20bd1a7a8074', TX_ID='5461067_0_328373_0', POOL_ID='0x00000005dd3d2f4429af886cd1a3b08289dbcea99a294197e9eb43b0e0325b4b-0x049d36570d4e46f48e99674bd3fcc84644ddd6b96f7c741b1562b82f9e004dc7-0x053c91253bc9682c04929ca02ed00b3e423f6710d2ee7e0d5ebb06f3ecf368a8-170141183460469235273462165868118016-1000', TOKEN0_ADDRESS='0x049d36570d4e46f48e99674bd3fcc84644ddd6b96f7c741b1562b82f9e004dc7', TOKEN1_ADDRESS='0x053c91253bc9682c04929ca02ed00b3e423f6710d2ee7e0d5ebb06f3ecf368a8', EVENT_NAME='Mint', FROM_ADDRESS='0x05cd353fa70c51d4587a446f6a6785c86427ec445558350d83b9f5f25b0be495', TO_ADDRESS='0x00000005dd3d2f4429af886cd1a3b08289dbcea99a294197e9eb43b0e0325b4b', TOKEN0_RAW_AMOUNT=Decimal('-99999414324590'), TOKEN0_DECIMALS=Decimal('18'), TOKEN0_REAL_AMOUNT=Decimal('-0.000099999414324590006684749521'), TOKEN1_RAW_AMOUNT=Decimal('-156025'), TOKEN1_DECIMALS=Decimal('6'), TOKEN1_REAL_AMOUNT=Decimal('-0.156024999999999997024602294005'), FEE_TIER=0.0005000000237487257, LIQUIDITY_AMOUNT=Decimal('396983738368'), LOWER_TICK=Decimal('-20287000'), UPPER_TICK=Decimal('-20247000'), SWAP_TICK=Decimal('0'), TICK_SPACING=Decimal('1000')),\n",
       " Row(BLOCK_NUMBER=Decimal('328461'), BLOCK_TIMESTAMP=datetime.datetime(2023, 10, 16, 19, 18, 7), TX_HASH='0x04f044099499c95fc23918d68eff0f41d0b334918c1e4c27899aa2ff6df6c8ac', TX_ID='5461067_0_328461_222', POOL_ID='0x00000005dd3d2f4429af886cd1a3b08289dbcea99a294197e9eb43b0e0325b4b-0x049d36570d4e46f48e99674bd3fcc84644ddd6b96f7c741b1562b82f9e004dc7-0x053c91253bc9682c04929ca02ed00b3e423f6710d2ee7e0d5ebb06f3ecf368a8-170141183460469235273462165868118016-1000', TOKEN0_ADDRESS='0x049d36570d4e46f48e99674bd3fcc84644ddd6b96f7c741b1562b82f9e004dc7', TOKEN1_ADDRESS='0x053c91253bc9682c04929ca02ed00b3e423f6710d2ee7e0d5ebb06f3ecf368a8', EVENT_NAME='Mint', FROM_ADDRESS='0x04302bf5a38fa56680b918d9a8ade4cdfbaa235a873e6f201d5d3730b3137325', TO_ADDRESS='0x00000005dd3d2f4429af886cd1a3b08289dbcea99a294197e9eb43b0e0325b4b', TOKEN0_RAW_AMOUNT=Decimal('-1867119153799910'), TOKEN0_DECIMALS=Decimal('18'), TOKEN0_REAL_AMOUNT=Decimal('-0.001867119153799910074090218082'), TOKEN1_RAW_AMOUNT=Decimal('-3001234'), TOKEN1_DECIMALS=Decimal('6'), TOKEN1_REAL_AMOUNT=Decimal('-3.001234000000000179397829924710'), FEE_TIER=0.0005000000237487257, LIQUIDITY_AMOUNT=Decimal('7523292872405'), LOWER_TICK=Decimal('-20275000'), UPPER_TICK=Decimal('-20235000'), SWAP_TICK=Decimal('0'), TICK_SPACING=Decimal('1000'))]"
      ]
     },
     "execution_count": 47,
     "metadata": {},
     "output_type": "execute_result"
    }
   ],
   "source": [
    "eth_usdc_pool = df.filter(\n",
    "    ((F.col('TOKEN0_ADDRESS') == eth_address) & (F.col('TOKEN1_ADDRESS') == usdc_address)) |\n",
    "    (F.col('TOKEN0_ADDRESS') == usdc_address) & (F.col('TOKEN1_ADDRESS') == eth_address)\n",
    ")\n",
    "eth_usdc_pool.take(5)"
   ]
  },
  {
   "cell_type": "code",
   "execution_count": 50,
   "id": "02d2b780-ce27-45d4-b194-5e7419650200",
   "metadata": {
    "tags": []
   },
   "outputs": [
    {
     "name": "stderr",
     "output_type": "stream",
     "text": [
      "                                                                                \r"
     ]
    },
    {
     "name": "stdout",
     "output_type": "stream",
     "text": [
      "buy transactions count in eth/usdc pool: 230199\n",
      "sell transactions count in eth/usdc pool: 115395\n"
     ]
    },
    {
     "name": "stderr",
     "output_type": "stream",
     "text": [
      "                                                                                \r"
     ]
    }
   ],
   "source": [
    "buy_transactions_count = eth_usdc_pool.filter(F.col('EVENT_NAME') == 'Mint').count()\n",
    "sell_transactions_count = eth_usdc_pool.filter(F.col('EVENT_NAME') == 'Burn').count()\n",
    "print(f\"buy transactions count in eth/usdc pool: {buy_transactions_count}\")\n",
    "print(f\"sell transactions count in eth/usdc pool: {sell_transactions_count}\")"
   ]
  },
  {
   "cell_type": "code",
   "execution_count": 51,
   "id": "ef62216d-6d75-4e8b-8bf4-398f26564609",
   "metadata": {
    "tags": []
   },
   "outputs": [
    {
     "name": "stderr",
     "output_type": "stream",
     "text": [
      "                                                                                \r"
     ]
    },
    {
     "name": "stdout",
     "output_type": "stream",
     "text": [
      "buy transactions count in strk/usdc pool: 6858\n",
      "sell transactions count in strk/usdc pool: 1877\n"
     ]
    }
   ],
   "source": [
    "buy_transactions_count = strk_usdc_pool.filter(F.col('EVENT_NAME') == 'Mint').count()\n",
    "sell_transactions_count = strk_usdc_pool.filter(F.col('EVENT_NAME') == 'Burn').count()\n",
    "print(f\"buy transactions count in strk/usdc pool: {buy_transactions_count}\")\n",
    "print(f\"sell transactions count in strk/usdc pool: {sell_transactions_count}\")"
   ]
  },
  {
   "cell_type": "code",
   "execution_count": 52,
   "id": "21b45bb9-0db1-4e37-b5ec-772a702fbc31",
   "metadata": {
    "tags": []
   },
   "outputs": [
    {
     "name": "stderr",
     "output_type": "stream",
     "text": [
      "                                                                                \r"
     ]
    },
    {
     "name": "stdout",
     "output_type": "stream",
     "text": [
      "buy transactions count in strk/eth pool: 17361\n",
      "sell transactions count in strk/eth pool: 4482\n"
     ]
    }
   ],
   "source": [
    "buy_transactions_count = strk_eth_pool.filter(F.col('EVENT_NAME') == 'Mint').count()\n",
    "sell_transactions_count = strk_eth_pool.filter(F.col('EVENT_NAME') == 'Burn').count()\n",
    "print(f\"buy transactions count in strk/eth pool: {buy_transactions_count}\")\n",
    "print(f\"sell transactions count in strk/eth pool: {sell_transactions_count}\")"
   ]
  },
  {
   "cell_type": "markdown",
   "id": "d8e90bac-8ab9-4b67-a59c-22fc68cc88b6",
   "metadata": {},
   "source": [
    "## Ticks to price in ekubo protocol \n",
    "\n",
    "https://docs.ekubo.org/about-ekubo/key-concepts\n",
    "\n",
    "- Ticks correspond to exact prices which can be used to specify boundaries for positions. Position boundaries are specified as ticks rather than arbitrary prices so the AMM can more efficiently process swaps. Ticks could be defined arbitrarily, but the most uniform way to break up the entire price range is in log-space.\n",
    "\n",
    "- In Ekubo, the tick size is 1.000001, or 1/100th of a basis point. You can get the price by raising 1.000001 to the power tick. This level of precision is smaller than most centralized limit order books. In other words, that means you can create one-tick positions, similar to limit orders, at prices more specific than you could on centralized exchanges. This makes Ekubo a great place to build an on-chain order book."
   ]
  },
  {
   "cell_type": "code",
   "execution_count": 54,
   "id": "a8dd34ea-f59f-4de8-a62b-1559f0e36042",
   "metadata": {
    "tags": []
   },
   "outputs": [],
   "source": [
    "def tick_to_price(tick):\n",
    "    return 1.000001 ** tick\n"
   ]
  },
  {
   "cell_type": "code",
   "execution_count": 56,
   "id": "75116114-9d2b-485c-b2c6-1bb219021d33",
   "metadata": {
    "tags": []
   },
   "outputs": [
    {
     "name": "stderr",
     "output_type": "stream",
     "text": [
      "[Stage 111:>                                                        (0 + 1) / 1]\r"
     ]
    },
    {
     "name": "stdout",
     "output_type": "stream",
     "text": [
      "+----------+----------+--------------------+--------------------+\n",
      "|LOWER_TICK|UPPER_TICK|           price_low|          price_high|\n",
      "+----------+----------+--------------------+--------------------+\n",
      "|    -20000|     20000|  0.9801986831103483|  1.0202013298230708|\n",
      "|    -20000|     20000|  0.9801986831103483|  1.0202013298230708|\n",
      "| -20284000| -20244000|1.551583435245099...|1.614904724158150...|\n",
      "| -20279000| -20239000|1.559360775680326...|1.622999463715774...|\n",
      "|    -20000|     20000|  0.9801986831103483|  1.0202013298230708|\n",
      "|    -20000|     20000|  0.9801986831103483|  1.0202013298230708|\n",
      "| -20287000| -20247000|1.546935662408715E-9|1.610067272210807...|\n",
      "| -20287000| -20247000|1.546935662408715E-9|1.610067272210807...|\n",
      "| -20275000| -20235000|1.565610707187346...|1.629504459636125E-9|\n",
      "| -20279000| -20243000|1.559360775680326...|1.616520435795496E-9|\n",
      "| -29935000| -29934000|9.98622129012372E-14|9.996212501190351...|\n",
      "| -20281000| -20241000|1.556245172328908...|1.619756710244375...|\n",
      "| -20274000| -20234000|1.567177100177171...|1.631134778303941...|\n",
      "| -20285000| -20245000|1.550032628118183...|1.613290627424048...|\n",
      "|    -20000|     20000|  0.9801986831103483|  1.0202013298230708|\n",
      "| -20352000| -20164000|1.449583124300548...|1.749405333220039...|\n",
      "| -20298000| -20258000|1.530012625925971...|1.592453593859848...|\n",
      "| -20298000| -20258000|1.530012625925971...|1.592453593859848...|\n",
      "| -20285000| -20245000|1.550032628118183...|1.613290627424048...|\n",
      "|    -20000|     20000|  0.9801986831103483|  1.0202013298230708|\n",
      "+----------+----------+--------------------+--------------------+\n",
      "only showing top 20 rows\n",
      "\n"
     ]
    },
    {
     "name": "stderr",
     "output_type": "stream",
     "text": [
      "                                                                                \r"
     ]
    }
   ],
   "source": [
    "from pyspark.sql.functions import udf\n",
    "from pyspark.sql.types import DoubleType\n",
    "\n",
    "def tick_to_price(tick):\n",
    "    # Convert Decimal tick to float before performing the operation\n",
    "    return 1.000001 ** float(tick)\n",
    "\n",
    "\n",
    "# register UDF\n",
    "tick_to_price_udf = udf(tick_to_price, DoubleType())\n",
    "\n",
    "# apply UDF\n",
    "df_with_prices = df.withColumn(\"price_low\", tick_to_price_udf(\"LOWER_TICK\"))\\\n",
    "                   .withColumn(\"price_high\", tick_to_price_udf(\"UPPER_TICK\"))\n",
    "\n",
    "df_with_prices.select(\"LOWER_TICK\", \"UPPER_TICK\", \"price_low\", \"price_high\").show()\n"
   ]
  },
  {
   "cell_type": "code",
   "execution_count": null,
   "id": "eb184d24-17c1-48c2-a6b9-9b3bf68cd19d",
   "metadata": {
    "tags": []
   },
   "outputs": [],
   "source": [
    "from pyspark.sql.functions import col\n",
    "\n",
    "# 使用orderBy对DataFrame进行排序\n",
    "strk_usdc_pool_sorted = strk_usdc_pool.orderBy(col('P_lower'))\n",
    "\n",
    "# 使用PySpark的窗口函数计算累积流动性\n",
    "from pyspark.sql.window import Window\n",
    "from pyspark.sql.functions import sum as _sum\n",
    "\n",
    "windowSpec = Window.orderBy(col('P_lower')).rowsBetween(Window.unboundedPreceding, Window.currentRow)\n",
    "strk_usdc_pool_sorted = strk_usdc_pool_sorted.withColumn('Cumulative_Liquidity', _sum('Liquidity').over(windowSpec))\n",
    "\n",
    "# 显示结果\n",
    "strk_usdc_pool_sorted.select('P_lower', 'Cumulative_Liquidity').show()\n"
   ]
  },
  {
   "cell_type": "code",
   "execution_count": null,
   "id": "707da3af-d13d-4715-bab6-713aaa3e4f17",
   "metadata": {},
   "outputs": [],
   "source": [
    "import matplotlib.pyplot as plt\n",
    "\n",
    "plt.figure(figsize=(10, 6))\n",
    "\n",
    "# 绘制累积流动性\n",
    "plt.plot(df_sorted['P_lower'], df_sorted['Cumulative_Liquidity'], label='累积流动性')\n",
    "\n",
    "plt.xlabel('价格')\n",
    "plt.ylabel('累积流动性')\n",
    "plt.title('市场深度图')\n",
    "plt.legend()\n",
    "plt.show()"
   ]
  }
 ],
 "metadata": {
  "availableInstances": [
   {
    "_defaultOrder": 0,
    "_isFastLaunch": true,
    "category": "General purpose",
    "gpuNum": 0,
    "hideHardwareSpecs": false,
    "memoryGiB": 4,
    "name": "ml.t3.medium",
    "vcpuNum": 2
   },
   {
    "_defaultOrder": 1,
    "_isFastLaunch": false,
    "category": "General purpose",
    "gpuNum": 0,
    "hideHardwareSpecs": false,
    "memoryGiB": 8,
    "name": "ml.t3.large",
    "vcpuNum": 2
   },
   {
    "_defaultOrder": 2,
    "_isFastLaunch": false,
    "category": "General purpose",
    "gpuNum": 0,
    "hideHardwareSpecs": false,
    "memoryGiB": 16,
    "name": "ml.t3.xlarge",
    "vcpuNum": 4
   },
   {
    "_defaultOrder": 3,
    "_isFastLaunch": false,
    "category": "General purpose",
    "gpuNum": 0,
    "hideHardwareSpecs": false,
    "memoryGiB": 32,
    "name": "ml.t3.2xlarge",
    "vcpuNum": 8
   },
   {
    "_defaultOrder": 4,
    "_isFastLaunch": true,
    "category": "General purpose",
    "gpuNum": 0,
    "hideHardwareSpecs": false,
    "memoryGiB": 8,
    "name": "ml.m5.large",
    "vcpuNum": 2
   },
   {
    "_defaultOrder": 5,
    "_isFastLaunch": false,
    "category": "General purpose",
    "gpuNum": 0,
    "hideHardwareSpecs": false,
    "memoryGiB": 16,
    "name": "ml.m5.xlarge",
    "vcpuNum": 4
   },
   {
    "_defaultOrder": 6,
    "_isFastLaunch": false,
    "category": "General purpose",
    "gpuNum": 0,
    "hideHardwareSpecs": false,
    "memoryGiB": 32,
    "name": "ml.m5.2xlarge",
    "vcpuNum": 8
   },
   {
    "_defaultOrder": 7,
    "_isFastLaunch": false,
    "category": "General purpose",
    "gpuNum": 0,
    "hideHardwareSpecs": false,
    "memoryGiB": 64,
    "name": "ml.m5.4xlarge",
    "vcpuNum": 16
   },
   {
    "_defaultOrder": 8,
    "_isFastLaunch": false,
    "category": "General purpose",
    "gpuNum": 0,
    "hideHardwareSpecs": false,
    "memoryGiB": 128,
    "name": "ml.m5.8xlarge",
    "vcpuNum": 32
   },
   {
    "_defaultOrder": 9,
    "_isFastLaunch": false,
    "category": "General purpose",
    "gpuNum": 0,
    "hideHardwareSpecs": false,
    "memoryGiB": 192,
    "name": "ml.m5.12xlarge",
    "vcpuNum": 48
   },
   {
    "_defaultOrder": 10,
    "_isFastLaunch": false,
    "category": "General purpose",
    "gpuNum": 0,
    "hideHardwareSpecs": false,
    "memoryGiB": 256,
    "name": "ml.m5.16xlarge",
    "vcpuNum": 64
   },
   {
    "_defaultOrder": 11,
    "_isFastLaunch": false,
    "category": "General purpose",
    "gpuNum": 0,
    "hideHardwareSpecs": false,
    "memoryGiB": 384,
    "name": "ml.m5.24xlarge",
    "vcpuNum": 96
   },
   {
    "_defaultOrder": 12,
    "_isFastLaunch": false,
    "category": "General purpose",
    "gpuNum": 0,
    "hideHardwareSpecs": false,
    "memoryGiB": 8,
    "name": "ml.m5d.large",
    "vcpuNum": 2
   },
   {
    "_defaultOrder": 13,
    "_isFastLaunch": false,
    "category": "General purpose",
    "gpuNum": 0,
    "hideHardwareSpecs": false,
    "memoryGiB": 16,
    "name": "ml.m5d.xlarge",
    "vcpuNum": 4
   },
   {
    "_defaultOrder": 14,
    "_isFastLaunch": false,
    "category": "General purpose",
    "gpuNum": 0,
    "hideHardwareSpecs": false,
    "memoryGiB": 32,
    "name": "ml.m5d.2xlarge",
    "vcpuNum": 8
   },
   {
    "_defaultOrder": 15,
    "_isFastLaunch": false,
    "category": "General purpose",
    "gpuNum": 0,
    "hideHardwareSpecs": false,
    "memoryGiB": 64,
    "name": "ml.m5d.4xlarge",
    "vcpuNum": 16
   },
   {
    "_defaultOrder": 16,
    "_isFastLaunch": false,
    "category": "General purpose",
    "gpuNum": 0,
    "hideHardwareSpecs": false,
    "memoryGiB": 128,
    "name": "ml.m5d.8xlarge",
    "vcpuNum": 32
   },
   {
    "_defaultOrder": 17,
    "_isFastLaunch": false,
    "category": "General purpose",
    "gpuNum": 0,
    "hideHardwareSpecs": false,
    "memoryGiB": 192,
    "name": "ml.m5d.12xlarge",
    "vcpuNum": 48
   },
   {
    "_defaultOrder": 18,
    "_isFastLaunch": false,
    "category": "General purpose",
    "gpuNum": 0,
    "hideHardwareSpecs": false,
    "memoryGiB": 256,
    "name": "ml.m5d.16xlarge",
    "vcpuNum": 64
   },
   {
    "_defaultOrder": 19,
    "_isFastLaunch": false,
    "category": "General purpose",
    "gpuNum": 0,
    "hideHardwareSpecs": false,
    "memoryGiB": 384,
    "name": "ml.m5d.24xlarge",
    "vcpuNum": 96
   },
   {
    "_defaultOrder": 20,
    "_isFastLaunch": false,
    "category": "General purpose",
    "gpuNum": 0,
    "hideHardwareSpecs": true,
    "memoryGiB": 0,
    "name": "ml.geospatial.interactive",
    "supportedImageNames": [
     "sagemaker-geospatial-v1-0"
    ],
    "vcpuNum": 0
   },
   {
    "_defaultOrder": 21,
    "_isFastLaunch": true,
    "category": "Compute optimized",
    "gpuNum": 0,
    "hideHardwareSpecs": false,
    "memoryGiB": 4,
    "name": "ml.c5.large",
    "vcpuNum": 2
   },
   {
    "_defaultOrder": 22,
    "_isFastLaunch": false,
    "category": "Compute optimized",
    "gpuNum": 0,
    "hideHardwareSpecs": false,
    "memoryGiB": 8,
    "name": "ml.c5.xlarge",
    "vcpuNum": 4
   },
   {
    "_defaultOrder": 23,
    "_isFastLaunch": false,
    "category": "Compute optimized",
    "gpuNum": 0,
    "hideHardwareSpecs": false,
    "memoryGiB": 16,
    "name": "ml.c5.2xlarge",
    "vcpuNum": 8
   },
   {
    "_defaultOrder": 24,
    "_isFastLaunch": false,
    "category": "Compute optimized",
    "gpuNum": 0,
    "hideHardwareSpecs": false,
    "memoryGiB": 32,
    "name": "ml.c5.4xlarge",
    "vcpuNum": 16
   },
   {
    "_defaultOrder": 25,
    "_isFastLaunch": false,
    "category": "Compute optimized",
    "gpuNum": 0,
    "hideHardwareSpecs": false,
    "memoryGiB": 72,
    "name": "ml.c5.9xlarge",
    "vcpuNum": 36
   },
   {
    "_defaultOrder": 26,
    "_isFastLaunch": false,
    "category": "Compute optimized",
    "gpuNum": 0,
    "hideHardwareSpecs": false,
    "memoryGiB": 96,
    "name": "ml.c5.12xlarge",
    "vcpuNum": 48
   },
   {
    "_defaultOrder": 27,
    "_isFastLaunch": false,
    "category": "Compute optimized",
    "gpuNum": 0,
    "hideHardwareSpecs": false,
    "memoryGiB": 144,
    "name": "ml.c5.18xlarge",
    "vcpuNum": 72
   },
   {
    "_defaultOrder": 28,
    "_isFastLaunch": false,
    "category": "Compute optimized",
    "gpuNum": 0,
    "hideHardwareSpecs": false,
    "memoryGiB": 192,
    "name": "ml.c5.24xlarge",
    "vcpuNum": 96
   },
   {
    "_defaultOrder": 29,
    "_isFastLaunch": true,
    "category": "Accelerated computing",
    "gpuNum": 1,
    "hideHardwareSpecs": false,
    "memoryGiB": 16,
    "name": "ml.g4dn.xlarge",
    "vcpuNum": 4
   },
   {
    "_defaultOrder": 30,
    "_isFastLaunch": false,
    "category": "Accelerated computing",
    "gpuNum": 1,
    "hideHardwareSpecs": false,
    "memoryGiB": 32,
    "name": "ml.g4dn.2xlarge",
    "vcpuNum": 8
   },
   {
    "_defaultOrder": 31,
    "_isFastLaunch": false,
    "category": "Accelerated computing",
    "gpuNum": 1,
    "hideHardwareSpecs": false,
    "memoryGiB": 64,
    "name": "ml.g4dn.4xlarge",
    "vcpuNum": 16
   },
   {
    "_defaultOrder": 32,
    "_isFastLaunch": false,
    "category": "Accelerated computing",
    "gpuNum": 1,
    "hideHardwareSpecs": false,
    "memoryGiB": 128,
    "name": "ml.g4dn.8xlarge",
    "vcpuNum": 32
   },
   {
    "_defaultOrder": 33,
    "_isFastLaunch": false,
    "category": "Accelerated computing",
    "gpuNum": 4,
    "hideHardwareSpecs": false,
    "memoryGiB": 192,
    "name": "ml.g4dn.12xlarge",
    "vcpuNum": 48
   },
   {
    "_defaultOrder": 34,
    "_isFastLaunch": false,
    "category": "Accelerated computing",
    "gpuNum": 1,
    "hideHardwareSpecs": false,
    "memoryGiB": 256,
    "name": "ml.g4dn.16xlarge",
    "vcpuNum": 64
   },
   {
    "_defaultOrder": 35,
    "_isFastLaunch": false,
    "category": "Accelerated computing",
    "gpuNum": 1,
    "hideHardwareSpecs": false,
    "memoryGiB": 61,
    "name": "ml.p3.2xlarge",
    "vcpuNum": 8
   },
   {
    "_defaultOrder": 36,
    "_isFastLaunch": false,
    "category": "Accelerated computing",
    "gpuNum": 4,
    "hideHardwareSpecs": false,
    "memoryGiB": 244,
    "name": "ml.p3.8xlarge",
    "vcpuNum": 32
   },
   {
    "_defaultOrder": 37,
    "_isFastLaunch": false,
    "category": "Accelerated computing",
    "gpuNum": 8,
    "hideHardwareSpecs": false,
    "memoryGiB": 488,
    "name": "ml.p3.16xlarge",
    "vcpuNum": 64
   },
   {
    "_defaultOrder": 38,
    "_isFastLaunch": false,
    "category": "Accelerated computing",
    "gpuNum": 8,
    "hideHardwareSpecs": false,
    "memoryGiB": 768,
    "name": "ml.p3dn.24xlarge",
    "vcpuNum": 96
   },
   {
    "_defaultOrder": 39,
    "_isFastLaunch": false,
    "category": "Memory Optimized",
    "gpuNum": 0,
    "hideHardwareSpecs": false,
    "memoryGiB": 16,
    "name": "ml.r5.large",
    "vcpuNum": 2
   },
   {
    "_defaultOrder": 40,
    "_isFastLaunch": false,
    "category": "Memory Optimized",
    "gpuNum": 0,
    "hideHardwareSpecs": false,
    "memoryGiB": 32,
    "name": "ml.r5.xlarge",
    "vcpuNum": 4
   },
   {
    "_defaultOrder": 41,
    "_isFastLaunch": false,
    "category": "Memory Optimized",
    "gpuNum": 0,
    "hideHardwareSpecs": false,
    "memoryGiB": 64,
    "name": "ml.r5.2xlarge",
    "vcpuNum": 8
   },
   {
    "_defaultOrder": 42,
    "_isFastLaunch": false,
    "category": "Memory Optimized",
    "gpuNum": 0,
    "hideHardwareSpecs": false,
    "memoryGiB": 128,
    "name": "ml.r5.4xlarge",
    "vcpuNum": 16
   },
   {
    "_defaultOrder": 43,
    "_isFastLaunch": false,
    "category": "Memory Optimized",
    "gpuNum": 0,
    "hideHardwareSpecs": false,
    "memoryGiB": 256,
    "name": "ml.r5.8xlarge",
    "vcpuNum": 32
   },
   {
    "_defaultOrder": 44,
    "_isFastLaunch": false,
    "category": "Memory Optimized",
    "gpuNum": 0,
    "hideHardwareSpecs": false,
    "memoryGiB": 384,
    "name": "ml.r5.12xlarge",
    "vcpuNum": 48
   },
   {
    "_defaultOrder": 45,
    "_isFastLaunch": false,
    "category": "Memory Optimized",
    "gpuNum": 0,
    "hideHardwareSpecs": false,
    "memoryGiB": 512,
    "name": "ml.r5.16xlarge",
    "vcpuNum": 64
   },
   {
    "_defaultOrder": 46,
    "_isFastLaunch": false,
    "category": "Memory Optimized",
    "gpuNum": 0,
    "hideHardwareSpecs": false,
    "memoryGiB": 768,
    "name": "ml.r5.24xlarge",
    "vcpuNum": 96
   },
   {
    "_defaultOrder": 47,
    "_isFastLaunch": false,
    "category": "Accelerated computing",
    "gpuNum": 1,
    "hideHardwareSpecs": false,
    "memoryGiB": 16,
    "name": "ml.g5.xlarge",
    "vcpuNum": 4
   },
   {
    "_defaultOrder": 48,
    "_isFastLaunch": false,
    "category": "Accelerated computing",
    "gpuNum": 1,
    "hideHardwareSpecs": false,
    "memoryGiB": 32,
    "name": "ml.g5.2xlarge",
    "vcpuNum": 8
   },
   {
    "_defaultOrder": 49,
    "_isFastLaunch": false,
    "category": "Accelerated computing",
    "gpuNum": 1,
    "hideHardwareSpecs": false,
    "memoryGiB": 64,
    "name": "ml.g5.4xlarge",
    "vcpuNum": 16
   },
   {
    "_defaultOrder": 50,
    "_isFastLaunch": false,
    "category": "Accelerated computing",
    "gpuNum": 1,
    "hideHardwareSpecs": false,
    "memoryGiB": 128,
    "name": "ml.g5.8xlarge",
    "vcpuNum": 32
   },
   {
    "_defaultOrder": 51,
    "_isFastLaunch": false,
    "category": "Accelerated computing",
    "gpuNum": 1,
    "hideHardwareSpecs": false,
    "memoryGiB": 256,
    "name": "ml.g5.16xlarge",
    "vcpuNum": 64
   },
   {
    "_defaultOrder": 52,
    "_isFastLaunch": false,
    "category": "Accelerated computing",
    "gpuNum": 4,
    "hideHardwareSpecs": false,
    "memoryGiB": 192,
    "name": "ml.g5.12xlarge",
    "vcpuNum": 48
   },
   {
    "_defaultOrder": 53,
    "_isFastLaunch": false,
    "category": "Accelerated computing",
    "gpuNum": 4,
    "hideHardwareSpecs": false,
    "memoryGiB": 384,
    "name": "ml.g5.24xlarge",
    "vcpuNum": 96
   },
   {
    "_defaultOrder": 54,
    "_isFastLaunch": false,
    "category": "Accelerated computing",
    "gpuNum": 8,
    "hideHardwareSpecs": false,
    "memoryGiB": 768,
    "name": "ml.g5.48xlarge",
    "vcpuNum": 192
   },
   {
    "_defaultOrder": 55,
    "_isFastLaunch": false,
    "category": "Accelerated computing",
    "gpuNum": 8,
    "hideHardwareSpecs": false,
    "memoryGiB": 1152,
    "name": "ml.p4d.24xlarge",
    "vcpuNum": 96
   },
   {
    "_defaultOrder": 56,
    "_isFastLaunch": false,
    "category": "Accelerated computing",
    "gpuNum": 8,
    "hideHardwareSpecs": false,
    "memoryGiB": 1152,
    "name": "ml.p4de.24xlarge",
    "vcpuNum": 96
   },
   {
    "_defaultOrder": 57,
    "_isFastLaunch": false,
    "category": "Accelerated computing",
    "gpuNum": 0,
    "hideHardwareSpecs": false,
    "memoryGiB": 32,
    "name": "ml.trn1.2xlarge",
    "vcpuNum": 8
   },
   {
    "_defaultOrder": 58,
    "_isFastLaunch": false,
    "category": "Accelerated computing",
    "gpuNum": 0,
    "hideHardwareSpecs": false,
    "memoryGiB": 512,
    "name": "ml.trn1.32xlarge",
    "vcpuNum": 128
   },
   {
    "_defaultOrder": 59,
    "_isFastLaunch": false,
    "category": "Accelerated computing",
    "gpuNum": 0,
    "hideHardwareSpecs": false,
    "memoryGiB": 512,
    "name": "ml.trn1n.32xlarge",
    "vcpuNum": 128
   }
  ],
  "instance_type": "ml.t3.large",
  "kernelspec": {
   "display_name": "Python 3 (Data Science 3.0)",
   "language": "python",
   "name": "python3__SAGEMAKER_INTERNAL__arn:aws:sagemaker:us-east-1:081325390199:image/sagemaker-data-science-310-v1"
  },
  "language_info": {
   "codemirror_mode": {
    "name": "ipython",
    "version": 3
   },
   "file_extension": ".py",
   "mimetype": "text/x-python",
   "name": "python",
   "nbconvert_exporter": "python",
   "pygments_lexer": "ipython3",
   "version": "3.10.6"
  }
 },
 "nbformat": 4,
 "nbformat_minor": 5
}
